{
 "cells": [
  {
   "cell_type": "code",
   "execution_count": 1,
   "metadata": {
    "collapsed": false,
    "deletable": true,
    "editable": true
   },
   "outputs": [],
   "source": [
    "from __future__ import division\n",
    "\n",
    "import numpy as np\n",
    "import pandas as pd\n",
    "import matplotlib.pyplot as plt\n",
    "\n",
    "from matplotlib.patches import Rectangle\n",
    "\n",
    "% matplotlib inline"
   ]
  },
  {
   "cell_type": "code",
   "execution_count": 40,
   "metadata": {
    "collapsed": true,
    "deletable": true,
    "editable": true
   },
   "outputs": [],
   "source": [
    "length = 9 # choose between 8, 9 12 and 13\n",
    "\n",
    "aggregated_file = '06 Aggregated dR RT Streptavidin length 8 and 9.csv'"
   ]
  },
  {
   "cell_type": "markdown",
   "metadata": {
    "deletable": true,
    "editable": true
   },
   "source": [
    "# Base peptide sequences"
   ]
  },
  {
   "cell_type": "code",
   "execution_count": 41,
   "metadata": {
    "collapsed": false,
    "deletable": true,
    "editable": true
   },
   "outputs": [],
   "source": [
    "if   length == 8:\n",
    "    base = 'WTHPQFAT'\n",
    "elif length == 9:\n",
    "    base = 'LQWHPQAGK'\n",
    "elif length == 12:\n",
    "    base = 'GKFPIPLGKQSG'\n",
    "elif length == 13:\n",
    "    base = 'NGQFQVWIPGAQK'\n",
    "else:\n",
    "    print 'No base of such length'\n",
    "    \n",
    "aminoacids = ['A', 'C', 'D', 'E', 'F',\n",
    "              'G', 'H', 'I', 'K', 'L',\n",
    "              'M', 'N', 'P', 'Q', 'R',\n",
    "              'S', 'T', 'V', 'W', 'Y']"
   ]
  },
  {
   "cell_type": "markdown",
   "metadata": {
    "deletable": true,
    "editable": true
   },
   "source": [
    "# Creating list of peptide names"
   ]
  },
  {
   "cell_type": "code",
   "execution_count": 5,
   "metadata": {
    "collapsed": false,
    "deletable": true,
    "editable": true
   },
   "outputs": [],
   "source": [
    "def namelist(base, n):\n",
    "    names = []\n",
    "    for a in aminoacids:\n",
    "        names.append(base[:n - 1] + a + base[n:])\n",
    "    return names"
   ]
  },
  {
   "cell_type": "markdown",
   "metadata": {
    "deletable": true,
    "editable": true
   },
   "source": [
    "# Subsetting data"
   ]
  },
  {
   "cell_type": "code",
   "execution_count": 6,
   "metadata": {
    "collapsed": true,
    "deletable": true,
    "editable": true
   },
   "outputs": [],
   "source": [
    "def reorder(data, names):\n",
    "    # moves base peptide row to the first position\n",
    "    base_index = data[data['Peptide'] == base].index[0]\n",
    "    reindex = [-1 if x == base_index else x for x in data.index]\n",
    "    data.index = reindex\n",
    "    data = data.sort_index()\n",
    "    return data"
   ]
  },
  {
   "cell_type": "code",
   "execution_count": 7,
   "metadata": {
    "collapsed": true
   },
   "outputs": [],
   "source": [
    "def rename(data, base, n):\n",
    "    names = data['Peptide']\n",
    "    new_names = []\n",
    "    for name in names:\n",
    "        if name == base:\n",
    "            new_names.append(name)\n",
    "        else:\n",
    "            new_names.append('-'*(n - 1) + name[n-1] + '-'*(len(base)-n))\n",
    "    data['Peptide'] = new_names\n",
    "    return data"
   ]
  },
  {
   "cell_type": "code",
   "execution_count": 38,
   "metadata": {
    "collapsed": false,
    "deletable": true,
    "editable": true
   },
   "outputs": [],
   "source": [
    "def subset(base, n):\n",
    "    names = namelist(base, n)\n",
    "    data = pd.read_csv(aggregated_file, header = 0)\n",
    "    data = data[data['Peptide Length'] == len(base)]\n",
    "    data = data[data['Peptide'].isin(names)]\n",
    "    assert len(data) == 20\n",
    "    data = reorder(data, names)\n",
    "    data = rename(data, base, n)    \n",
    "    return data"
   ]
  },
  {
   "cell_type": "code",
   "execution_count": 32,
   "metadata": {
    "collapsed": false,
    "deletable": true,
    "editable": true
   },
   "outputs": [],
   "source": [
    "def plot_series(data, n, filename):\n",
    "    \n",
    "    # creating numerical arrays for data, errorbars and styles\n",
    "\n",
    "    x       = np.array(np.log10(data['Ka Final']))\n",
    "    xlo     = np.array(np.log10(data['Ka Final Lower']))\n",
    "    xhi     = np.array(np.log10(data['Ka Final Upper']))\n",
    "\n",
    "    ylabels = data['Peptide'].tolist()\n",
    "    y       = range(len(ylabels), 0, -1)\n",
    "\n",
    "    xlolims = [e ==  np.inf for e in xhi]\n",
    "    xuplims = [e == -np.inf for e in xlo]\n",
    "\n",
    "    xlim_left = 4\n",
    "    xlim_right = 11\n",
    "\n",
    "    color      = ['k']    * len(x)\n",
    "    marker     = ['None'] * len(x)\n",
    "    markersize = [6]      * len(x)\n",
    "    thickness  = [2]    * len(x)\n",
    "    capsize    = [4]      * len(x)\n",
    "\n",
    "    for i in range(len(x)):\n",
    "        # upper limits\n",
    "        if  xlo[i] == -np.inf:\n",
    "            xlo[i]        = xlim_left\n",
    "#             color[i]      = 'r'\n",
    "            marker[i]     = '<'\n",
    "            markersize[i] = 12\n",
    "            thickness[i]  = 1.2\n",
    "            capsize[i]    = 3\n",
    "#       # lower limits\n",
    "        elif xhi[i] == np.inf:\n",
    "            xhi[i]        = xlim_right\n",
    "#             color[i]      = 'r'\n",
    "            marker[i]     = '>'\n",
    "            markersize[i] = 12\n",
    "            thickness[i]  = 1.2\n",
    "            capsize[i]    = 3\n",
    " \n",
    "    xbar_lo = x - xlo\n",
    "    xbar_hi = xhi - x\n",
    "\n",
    "    # start plotting\n",
    "    \n",
    "    width = 6\n",
    "    height = 0.36 * (len(y) + 1.4) + 1.1\n",
    "\n",
    "    fig = plt.figure(figsize = (width, height))\n",
    "\n",
    "    plt.yticks(y, ylabels)\n",
    "    plt.xticks(range(4, 12, 2))\n",
    "    plt.grid(alpha = 0.5)\n",
    "\n",
    "    plt.subplots_adjust(left   =     2.5 / width,\n",
    "                        right  = 1 - 0.3 / width,\n",
    "                        bottom =     0.8 / height,\n",
    "                        top    = 1 - 0.3 / height)\n",
    "\n",
    "    plt.axvspan(-5, np.log10(1/0.00003) + 0.1, alpha = 0.1, facecolor = 'k', edgecolor = 'none')       \n",
    "    \n",
    "    # plot data\n",
    "    \n",
    "    ax = fig.add_subplot(1, 1, 1)\n",
    "\n",
    "    for i in range(len(x)):\n",
    "        # plot points\n",
    "        ax.errorbar(x[i], y[i],\n",
    "                    xerr = [[xbar_lo[i]], [xbar_hi[i]]],\n",
    "                    xlolims = xlolims[i],\n",
    "                    xuplims = xuplims[i],\n",
    "\n",
    "                    marker = marker[i],\n",
    "                    color = color[i],\n",
    "                    markersize = markersize[i],\n",
    "                    capthick = thickness[i],\n",
    "                    linewidth = thickness[i],\n",
    "                    capsize = capsize[i],\n",
    "                    ls = 'none',\n",
    "                    markeredgecolor = 'none')\n",
    "\n",
    "        # x axis labels\n",
    "        for label in ax.get_xticklabels(): \n",
    "            label.set_fontname('DejaVu Sans Mono')\n",
    "            label.set_fontsize(24)\n",
    "\n",
    "        # y axis labels\n",
    "        for label in ax.get_yticklabels():\n",
    "            label.set_fontname('DejaVu Sans Mono') \n",
    "            label.set_fontsize(30)\n",
    "\n",
    "#             if label.get_text() == base:\n",
    "#                 label.set_weight('black')\n",
    "\n",
    "#             else:\n",
    "#                 label.set_color('0.2')\n",
    "\n",
    "        # axis limits\n",
    "        ax.set_xlim(left = xlim_left, right = xlim_right)\n",
    "        ax.set_ylim(bottom = min(y) - 0.7, top = max(y) + 0.7)\n",
    "\n",
    "        # axis ticks\n",
    "        for tick in ax.get_xaxis().get_major_ticks():\n",
    "            tick.set_pad(6)\n",
    "        for tick in ax.get_yaxis().get_major_ticks():\n",
    "            tick.set_pad(8)\n",
    "\n",
    "#     plt.show()\n",
    "    plt.savefig(filename)"
   ]
  },
  {
   "cell_type": "code",
   "execution_count": 33,
   "metadata": {
    "collapsed": false
   },
   "outputs": [
    {
     "name": "stderr",
     "output_type": "stream",
     "text": [
      "/usr/local/lib/python2.7/dist-packages/ipykernel/__main__.py:6: RuntimeWarning: divide by zero encountered in log10\n"
     ]
    },
    {
     "data": {
      "image/png": "[encoded data removed]",
      "text/plain": [
       "<matplotlib.figure.Figure at 0x7efdbc8cf0d0>"
      ]
     },
     "metadata": {},
     "output_type": "display_data"
    }
   ],
   "source": [
    "n = 6\n",
    "plot_series(subset(base, n), n, 'a')"
   ]
  },
  {
   "cell_type": "markdown",
   "metadata": {
    "deletable": true,
    "editable": true
   },
   "source": [
    "# Important note about handling error bars\n",
    "In total, I have four types of data points on my plots:\n",
    "\n",
    "- Normal points. These are reactive peptides, for which $K_d^{(best)} = K_d$. Fitting parameter $K_a = \\dfrac{1}{K_d^{(best)}}$ is a true value of association constant and the errorbar is smaller than the value itself. Such points are plotted in black.\n",
    "\n",
    "\n",
    "- Normal points with large errorbars. Just like in previous category, $K_d^{(best)} = K_d$, but this time fitting error of the $K_d$ (and $K_a$) is larger than fitted value of $K_d$ (or $K_a$) itself. Errorbar would go all the way to zero on the normal plot of $K_d$ and all the way to $\\infty$ on the plot of $K_a$. I chose to plot such points as **lower boundaries** of $K_a$ with red triangle at $K_a + \\text{Err }(K_a)$ and a range line stretching right.\n",
    "\n",
    "\n",
    "- Non-reactive peptides. These points are plotted as red triangles at the detection limit of $K_a = 30000 \\text{ nM}$ with a line stretching left. Detection limit of association constant provides an **upper boundary** for $K_a$.\n",
    "\n",
    "\n",
    "- Points with $k_{off}$ below detection limit. For these points $K_d^{(best)} > K_d$. Fitted value of $K_d$ is below detection limit of dissociation rate and does not represent true dissociation constant. We should use $K_a = \\dfrac{1}{K_d^{(best)}}$ as **lower limit** of association constant. Since $\\text{Err }(K_d)$ is an error of fitted dissociation constant, which is not accurate, I ignore this errorbar altogether."
   ]
  },
  {
   "cell_type": "code",
   "execution_count": 42,
   "metadata": {
    "collapsed": false,
    "deletable": true,
    "editable": true
   },
   "outputs": [
    {
     "name": "stderr",
     "output_type": "stream",
     "text": [
      "/usr/local/lib/python2.7/dist-packages/ipykernel/__main__.py:6: RuntimeWarning: divide by zero encountered in log10\n"
     ]
    }
   ],
   "source": [
    "for i in range(1, length + 1):\n",
    "    filename = 'base ' + str(length) + ', letter ' + str(i) + '.png'\n",
    "    plot_series(subset(base, i), i, filename)\n",
    "    \n",
    "plt.clf()\n",
    "plt.close('all')"
   ]
  },
  {
   "cell_type": "code",
   "execution_count": 201,
   "metadata": {
    "collapsed": false,
    "deletable": true,
    "editable": true,
    "scrolled": true
   },
   "outputs": [],
   "source": [
    "# df = subset(base, 2)"
   ]
  },
  {
   "cell_type": "code",
   "execution_count": 202,
   "metadata": {
    "collapsed": false,
    "deletable": true,
    "editable": true,
    "scrolled": false
   },
   "outputs": [],
   "source": [
    "# n = 6\n",
    "# plot_series(subset(base, n), n, 'a')"
   ]
  },
  {
   "cell_type": "code",
   "execution_count": null,
   "metadata": {
    "collapsed": true,
    "deletable": true,
    "editable": true
   },
   "outputs": [],
   "source": []
  }
 ],
 "metadata": {
  "kernelspec": {
   "display_name": "Python 2",
   "language": "python",
   "name": "python2"
  },
  "language_info": {
   "codemirror_mode": {
    "name": "ipython",
    "version": 2
   },
   "file_extension": ".py",
   "mimetype": "text/x-python",
   "name": "python",
   "nbconvert_exporter": "python",
   "pygments_lexer": "ipython2",
   "version": "2.7.12"
  }
 },
 "nbformat": 4,
 "nbformat_minor": 0
}
