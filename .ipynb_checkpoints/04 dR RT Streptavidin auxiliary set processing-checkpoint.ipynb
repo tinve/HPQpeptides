{
 "cells": [
  {
   "cell_type": "code",
   "execution_count": 1,
   "metadata": {
    "collapsed": false
   },
   "outputs": [],
   "source": [
    "from __future__ import division\n",
    "import numpy as np\n",
    "import pandas as pd"
   ]
  },
  {
   "cell_type": "markdown",
   "metadata": {},
   "source": [
    "Take KIN file which contains one target (one labeled curve) per set. Set name matches curve label. Labels can repeat. Input file is a saved set file from such KIN:\n",
    "\n",
    "| Set name | Curve index |\n",
    "|---|---|\n",
    "| Target_1 | 1 |\n",
    "| Target_2 | 3 |\n",
    "| Target_3 | 6 |\n",
    "| ... | ... |\n",
    "\n",
    "Following bit produces set file that can be loaded into original KIN. New set file will produce sets where all curves with the same label are put into a set of the same name.\n",
    "\n",
    "| Set name | Curve index |\n",
    "|---|---|\n",
    "| Target_1 | 1,14,207 |\n",
    "| Target_2 | 3, 18, 100, 267 |\n",
    "| Target_3 | 6, 22 |\n",
    "| ... | ... |"
   ]
  },
  {
   "cell_type": "code",
   "execution_count": 26,
   "metadata": {
    "collapsed": false
   },
   "outputs": [],
   "source": [
    "file_in= 'mixed sets.txt'\n",
    "file_out = 'mixed sets regrouped.txt'\n",
    "\n",
    "df = pd.read_csv(file_in, sep = '\\t', header = None)\n",
    "df = df.groupby(0).agg(lambda x : ', '.join([str(e) for e in x]))\n",
    "df.reset_index(inplace = True)\n",
    "df['len'] = columns = df[0].map(len)\n",
    "df = df.sort(columns = ['len', 0]).drop('len', axis = 1)\n",
    "df.to_csv(file_out, sep = '\\t', index = False, header = False)"
   ]
  },
  {
   "cell_type": "code",
   "execution_count": null,
   "metadata": {
    "collapsed": true
   },
   "outputs": [],
   "source": []
  }
 ],
 "metadata": {
  "kernelspec": {
   "display_name": "Python 2",
   "language": "python",
   "name": "python2"
  },
  "language_info": {
   "codemirror_mode": {
    "name": "ipython",
    "version": 2
   },
   "file_extension": ".py",
   "mimetype": "text/x-python",
   "name": "python",
   "nbconvert_exporter": "python",
   "pygments_lexer": "ipython2",
   "version": "2.7.10"
  }
 },
 "nbformat": 4,
 "nbformat_minor": 0
}
