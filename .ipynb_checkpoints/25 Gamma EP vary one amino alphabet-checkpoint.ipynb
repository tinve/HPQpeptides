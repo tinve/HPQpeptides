{
 "cells": [
  {
   "cell_type": "code",
   "execution_count": 58,
   "metadata": {
    "collapsed": false
   },
   "outputs": [],
   "source": [
    "from __future__ import division\n",
    "\n",
    "import numpy as np\n",
    "import pandas as pd\n",
    "import matplotlib.pyplot as plt\n",
    "\n",
    "from matplotlib.patches import Rectangle\n",
    "\n",
    "% matplotlib inline"
   ]
  },
  {
   "cell_type": "code",
   "execution_count": 59,
   "metadata": {
    "collapsed": true
   },
   "outputs": [],
   "source": [
    "length = 12 # choose between 8, 9 12 and 13\n",
    "\n",
    "signal = 'dIm EP Peptide'\n",
    "# signal = 'dIm EP Streptavidin'\n",
    "\n",
    "# convert dIm (rad) to Gamma (g/cm^2), ignore negative sign of dIm\n",
    "dIm_to_gamma = 9.36757 * 10**-5\n",
    "\n",
    "aggregated_file = '18 EP dIm and dR Signals aggregated.csv'"
   ]
  },
  {
   "cell_type": "markdown",
   "metadata": {},
   "source": [
    "# Base peptide sequences"
   ]
  },
  {
   "cell_type": "code",
   "execution_count": 60,
   "metadata": {
    "collapsed": false
   },
   "outputs": [],
   "source": [
    "if   length == 8:\n",
    "    base = 'WTHPQFAT'\n",
    "elif length == 9:\n",
    "    base = 'LQWHPQAGK'\n",
    "elif length == 12:\n",
    "    base = 'GKFPIPLGKQSG'\n",
    "elif length == 13:\n",
    "    base = 'NGQFQVWIPGAQK'\n",
    "else:\n",
    "    print 'No base of such length'\n",
    "    \n",
    "aminoacids = ['A', 'C', 'D', 'E', 'F',\n",
    "              'G', 'H', 'I', 'K', 'L',\n",
    "              'M', 'N', 'P', 'Q', 'R',\n",
    "              'S', 'T', 'V', 'W', 'Y']"
   ]
  },
  {
   "cell_type": "markdown",
   "metadata": {},
   "source": [
    "# Creating list of peptide names"
   ]
  },
  {
   "cell_type": "code",
   "execution_count": 61,
   "metadata": {
    "collapsed": false
   },
   "outputs": [],
   "source": [
    "def namelist(base, n):\n",
    "    names = []\n",
    "    for a in aminoacids:\n",
    "        names.append(base[:n - 1] + a + base[n:])\n",
    "    return names"
   ]
  },
  {
   "cell_type": "markdown",
   "metadata": {},
   "source": [
    "# Subsetting data"
   ]
  },
  {
   "cell_type": "code",
   "execution_count": 62,
   "metadata": {
    "collapsed": true
   },
   "outputs": [],
   "source": [
    "def reorder(data, names):\n",
    "    # moves base peptide row to the first position\n",
    "    base_index = data[data['Peptide'] == base].index[0]\n",
    "    reindex = [-1 if x == base_index else x for x in data.index]\n",
    "    data.index = reindex\n",
    "    data = data.sort_index()\n",
    "    return data"
   ]
  },
  {
   "cell_type": "code",
   "execution_count": 63,
   "metadata": {
    "collapsed": false
   },
   "outputs": [],
   "source": [
    "def subset(base, n):\n",
    "    names = namelist(base, n)\n",
    "    data = pd.read_csv(aggregated_file, header = 0)\n",
    "    data = data[data['Peptide Length'] == len(base)]\n",
    "    data = data[data['Peptide'].isin(names)]\n",
    "    assert len(data) == 20\n",
    "#    data = reorder(data, names)\n",
    "    return data"
   ]
  },
  {
   "cell_type": "code",
   "execution_count": 64,
   "metadata": {
    "collapsed": false
   },
   "outputs": [],
   "source": [
    "def plot_series(data, n, signal, filename):\n",
    "    \n",
    "    # creating numerical arrays for data and errorbars\n",
    "\n",
    "    x         = np.array(data[signal + ' Mean NN'])\n",
    "    xbar_hi   = np.array(data[signal + ' SE'])\n",
    "    \n",
    "    # rescale\n",
    "    x       = [e * dIm_to_gamma * 10**7 for e in x]\n",
    "    xbar_hi = [e * dIm_to_gamma * 10**7 for e in xbar_hi]\n",
    "    xbar_lo = xbar_hi[:]\n",
    "    \n",
    "    for i in range(len(x)):\n",
    "        if x[i] - xbar_lo[i] < 0:\n",
    "            xbar_lo[i] = x[i]\n",
    "    \n",
    "    ylabels = data['Peptide'].tolist()\n",
    "    y       = range(len(ylabels), 0, -1)\n",
    "\n",
    "    # start plotting\n",
    "    \n",
    "    width = 6\n",
    "    height = 0.36 * (len(y) + 1.4) + 1.1\n",
    "\n",
    "    fig = plt.figure(figsize = (width, height))\n",
    "    \n",
    "    if signal == 'dIm EP Peptide':\n",
    "        plt.xlim(left = 0, right = 5.0)\n",
    "    elif signal == 'dIm EP Streptavidin':\n",
    "        plt.xlim(left = 0, right = 2.5)\n",
    "        \n",
    "    plt.ylim(bottom = min(y) - 0.7, top = max(y) + 0.7)\n",
    "    \n",
    "    plt.yticks(y, ylabels)\n",
    "    plt.grid(alpha = 0.5)\n",
    "\n",
    "    plt.subplots_adjust(left = 1.8 / width,\n",
    "                        right = 1 - 0.3 / width,\n",
    "                        bottom = 0.8 / height,\n",
    "                        top = 1 - 0.3 / height)\n",
    "\n",
    "#     plt.xlabel(r'Surface mass density $\\mathregular{ ( \\times 10^{-7} \\, g/cm^2 ) }$',\n",
    "#                labelpad = 12, fontsize = 14)     \n",
    "\n",
    "    # highlighting HPQ and varying aminoacid\n",
    "\n",
    "    hpq_y = 0.47\n",
    "    hpq_h = 20\n",
    "    \n",
    "    if signal == 'dIm EP Peptide':\n",
    "        hl_step = 0.15\n",
    "        hl_x0 = -0.28\n",
    "    elif signal == 'dIm EP Streptavidin':\n",
    "        hl_step = 0.075\n",
    "        hl_x0 = -0.14\n",
    "    \n",
    " \n",
    "    hl_x = hl_x0 - (length - n) * hl_step\n",
    "    hl_w = hl_step\n",
    "    \n",
    "    hpq_x = hl_x0 - 5 * hl_step\n",
    "    hpq_w = 3 * hl_step\n",
    "        \n",
    "    if length == 8 or length == 9:\n",
    "        hpq = Rectangle((hpq_x, hpq_y), hpq_w, hpq_h, facecolor = 'lemonchiffon', edgecolor = 'none')\n",
    "        plt.gca().add_patch(hpq)\n",
    "        hpq.set_clip_on(False)    \n",
    "\n",
    "    hl = Rectangle((hl_x, hpq_y), hl_w, hpq_h, facecolor = 'paleturquoise', edgecolor = 'none')\n",
    "    plt.gca().add_patch(hl)\n",
    "    hl.set_clip_on(False)    \n",
    "\n",
    "    # plot data\n",
    "    \n",
    "    ax = fig.add_subplot(1, 1, 1)\n",
    "\n",
    "    ax.errorbar(x, y, xerr = [xbar_lo, xbar_hi],\n",
    "\n",
    "                color      = 'k',\n",
    "                marker     = 'None',\n",
    "                markersize = 6,\n",
    "                capthick   = 2,\n",
    "                linewidth  = 2,\n",
    "                capsize    = 4,\n",
    "                ls = 'none',\n",
    "                markeredgecolor = 'none')\n",
    "\n",
    "    # x axis labels\n",
    "    for label in ax.get_xticklabels(): \n",
    "        label.set_fontname('DejaVu Sans Mono')\n",
    "        label.set_fontsize(14)\n",
    "\n",
    "    # y axis labels\n",
    "    for label in ax.get_yticklabels():\n",
    "        label.set_fontname('DejaVu Sans Mono') # alternatively: 'Droid Sans Mono', 'FreeMono' or 'Liberation Mono'\n",
    "        label.set_fontsize(14)\n",
    "\n",
    "        if label.get_text() == base:\n",
    "            label.set_weight('black')\n",
    "        else:\n",
    "            label.set_color('0.2')\n",
    "\n",
    "        # axis ticks\n",
    "        for tick in ax.get_xaxis().get_major_ticks():\n",
    "            tick.set_pad(6)\n",
    "        for tick in ax.get_yaxis().get_major_ticks():\n",
    "            tick.set_pad(4)\n",
    "\n",
    "#     plt.show()\n",
    "    plt.savefig(filename)     "
   ]
  },
  {
   "cell_type": "code",
   "execution_count": 65,
   "metadata": {
    "collapsed": true
   },
   "outputs": [],
   "source": [
    "def plot_sd(std):\n",
    "    plt.plot(np.array(std) * dIm_to_gamma * 10**7,\n",
    "             marker = 'o', markeredgecolor = 'None', ls = ':', color = 'k')\n",
    "    plt.xlim((-0.5, length - 0.5))\n",
    "    plt.ylim((0, 1.2))\n",
    "    xticks = []\n",
    "    for i in range(length):\n",
    "        xticks.append(str(i + 1) + '\\n' + base[i])\n",
    "    plt.xticks(range(length), xticks, fontsize = 12)\n",
    "    plt.xlabel('Position of varied residue', fontsize = 14, labelpad = 10)\n",
    "    plt.ylabel(r'$\\mathregular{ \\Gamma \\ ( \\times 10^{-7} \\, g/cm^2 ) }$',  fontsize = 14, labelpad = 10)\n",
    "#    plt.show()\n",
    "    plt.savefig('base ' + str(length) + ', SD of ' + signal + ' Gamma vs.position.png')"
   ]
  },
  {
   "cell_type": "code",
   "execution_count": 66,
   "metadata": {
    "collapsed": true
   },
   "outputs": [],
   "source": [
    "def plot_avg(avg, sd, avg_high, avg_low):\n",
    "    plt.errorbar(range(length), np.array(avg) * dIm_to_gamma * 10**7, yerr = np.array(sd) * dIm_to_gamma * 10**7,\n",
    "                 marker = 'o', markeredgecolor = 'None', ls = ':', color = 'k', label = 'all')\n",
    "    plt.plot(np.array(avg_high) * dIm_to_gamma * 10**7,\n",
    "             marker = 'o', markeredgecolor = 'None', ls = ':', color = 'b', label = 'D and E')\n",
    "    plt.plot(np.array(avg_low) * dIm_to_gamma * 10**7,\n",
    "             marker = 'o', markeredgecolor = 'None', ls = ':', color = 'r', label = 'W and Y')\n",
    "    plt.xlim((-0.5, length - 0.5))\n",
    "    plt.ylim((0, 5))\n",
    "    xticks = []\n",
    "    for i in range(length):\n",
    "        xticks.append(str(i + 1) + '\\n' + base[i])\n",
    "    plt.xticks(range(length), xticks, fontsize = 12)\n",
    "    plt.xlabel('Position of varied residue', fontsize = 14)\n",
    "    plt.ylabel(r'$\\mathregular{ \\Gamma \\ ( \\times 10^{-7} \\, g/cm^2 ) }$', fontsize = 14, labelpad = 10)\n",
    "    legend_loc = 2\n",
    "    if length == 9:\n",
    "        legend_loc = 3\n",
    "    plt.legend(loc = legend_loc)\n",
    "#    plt.show()\n",
    "    plt.savefig('base ' + str(length) + ', AVG of ' + signal + ' Gamma vs.position.png')"
   ]
  },
  {
   "cell_type": "code",
   "execution_count": 67,
   "metadata": {
    "collapsed": false
   },
   "outputs": [],
   "source": [
    "def plot_agg(agg, agg_high = [], agg_low = []):\n",
    "    agg      = np.transpose(np.array(agg))\n",
    "    agg_high = np.transpose(np.array(agg_high))\n",
    "    agg_low  = np.transpose(np.array(agg_low))\n",
    "\n",
    "    for i in range( 1, agg.shape[0] ):\n",
    "        plt.plot(agg[i] * dIm_to_gamma * 10**7,\n",
    "                 marker = '_', markersize = 10, markeredgewidth = 1,\n",
    "                 ls = '', color = 'k')\n",
    "        \n",
    "    if len(agg_high > 0):\n",
    "        for i in range( agg_high.shape[0] ):\n",
    "            plt.plot(agg_high[i] * dIm_to_gamma * 10**7,\n",
    "                 marker = '_', markersize = 11, markeredgewidth = 4,\n",
    "                 ls = '', color = 'b')\n",
    "    if len(agg_low > 0):\n",
    "        for i in range( agg_low.shape[0] ):\n",
    "            plt.plot(agg_low[i] * dIm_to_gamma * 10**7,\n",
    "                 marker = '_', markersize = 11, markeredgewidth = 4,\n",
    "                 ls = '', color = 'r')\n",
    "            \n",
    "    plt.axhline(y = agg[0][0] * dIm_to_gamma * 10**7, ls = '--', color = 'k')\n",
    "\n",
    "    plt.xlim((-0.5, length - 0.5))\n",
    "    if signal == 'dIm EP Peptide':\n",
    "        plt.ylim((0, 5))\n",
    "    if signal == 'dIm EP Streptavidin':\n",
    "        plt.ylim((0, 2.5))\n",
    "    \n",
    "    xticks = []\n",
    "    for i in range(length):\n",
    "        xticks.append(str(i + 1) + '\\n' + base[i])\n",
    "    plt.xticks(range(length), xticks, fontsize = 12)\n",
    "    plt.xlabel('Position of varied residue', fontsize = 14, labelpad = 10)\n",
    "    plt.ylabel(r'$\\mathregular{ \\Gamma \\ ( \\times 10^{-7} \\, g/cm^2 ) }$',  fontsize = 14, labelpad = 10)\n",
    "#    plt.show()\n",
    "    plt.savefig('base ' + str(length) + ', aggregated ' + signal + ' Gamma vs.position.png')"
   ]
  },
  {
   "cell_type": "markdown",
   "metadata": {},
   "source": [
    "# Plotting"
   ]
  },
  {
   "cell_type": "code",
   "execution_count": 68,
   "metadata": {
    "collapsed": false
   },
   "outputs": [],
   "source": [
    "sd  = []\n",
    "avg = []\n",
    "agg = []\n",
    "\n",
    "subset_high = '[DE]'\n",
    "subset_low = '[WY]'\n",
    "\n",
    "avg_high = []\n",
    "avg_low  = []\n",
    "agg_high = []\n",
    "agg_low  = []\n",
    "\n",
    "for i in range(1, length + 1):\n",
    "    filename = 'base ' + str(length) + ', letter ' + str(i) + '.png'\n",
    "    data = subset(base, i)\n",
    "    \n",
    "    agg.append( np.array(data[signal + ' Mean NN']) )\n",
    "    sd.append( np.std(np.array(data[signal + ' Mean NN'])) )\n",
    "    avg.append( np.mean(np.array(data[signal + ' Mean NN'])) )\n",
    "    \n",
    "    match_high = '^' + '.' * (i - 1) + subset_high\n",
    "    data_high = data[data['Peptide'].str.contains(match_high)]\n",
    "    match_low = '^' + '.' * (i - 1) + subset_low\n",
    "    data_low = data[data['Peptide'].str.contains(match_low)]\n",
    "\n",
    "    agg_high.append( np.array(data_high[signal + ' Mean NN']) )\n",
    "    agg_low.append(  np.array(data_low[signal  + ' Mean NN']) )\n",
    "    avg_high.append( np.mean(np.array(data_high[signal + ' Mean NN'])) )\n",
    "    avg_low.append(  np.mean(np.array(data_low[signal  + ' Mean NN'])) )\n",
    "    \n",
    "    plot_series(data, i, signal, filename)\n",
    "    \n",
    "plt.clf()\n",
    "plt.close('all')"
   ]
  },
  {
   "cell_type": "code",
   "execution_count": 69,
   "metadata": {
    "collapsed": false
   },
   "outputs": [
    {
     "data": {
      "image/png": "[encoded data removed]",
      "text/plain": [
       "<matplotlib.figure.Figure at 0x7f02f6d74290>"
      ]
     },
     "metadata": {},
     "output_type": "display_data"
    }
   ],
   "source": [
    "if signal == 'dIm EP Peptide':\n",
    "    plot_sd(sd)\n",
    "    \n",
    "# plot_sd(sd)"
   ]
  },
  {
   "cell_type": "code",
   "execution_count": 70,
   "metadata": {
    "collapsed": false
   },
   "outputs": [
    {
     "name": "stdout",
     "output_type": "stream",
     "text": [
      "check the legend text\n"
     ]
    },
    {
     "data": {
      "image/png": "[encoded data removed]",
      "text/plain": [
       "<matplotlib.figure.Figure at 0x7f02f6d74d10>"
      ]
     },
     "metadata": {},
     "output_type": "display_data"
    }
   ],
   "source": [
    "if signal == 'dIm EP Peptide':\n",
    "    print 'check the legend text'\n",
    "    plot_avg(avg, sd, avg_high, avg_low)\n",
    "    \n",
    "# plot_avg(avg, sd, avg_high, avg_low)"
   ]
  },
  {
   "cell_type": "code",
   "execution_count": 71,
   "metadata": {
    "collapsed": false
   },
   "outputs": [
    {
     "data": {
      "image/png": "[encoded data removed]",
      "text/plain": [
       "<matplotlib.figure.Figure at 0x7f02f5ff61d0>"
      ]
     },
     "metadata": {},
     "output_type": "display_data"
    }
   ],
   "source": [
    "if signal == 'dIm EP Peptide':\n",
    "#    plot_agg(agg, agg_high, agg_low)\n",
    "    plot_agg(agg)\n",
    "elif signal == 'dIm EP Streptavidin':\n",
    "    plot_agg(agg)"
   ]
  },
  {
   "cell_type": "code",
   "execution_count": 72,
   "metadata": {
    "collapsed": false,
    "scrolled": true
   },
   "outputs": [],
   "source": [
    "# df = subset(base, 7)\n",
    "# df"
   ]
  },
  {
   "cell_type": "code",
   "execution_count": 73,
   "metadata": {
    "collapsed": false,
    "scrolled": false
   },
   "outputs": [],
   "source": [
    "# n = 8\n",
    "# plot_series(subset(base, n), n, signal, 'a')"
   ]
  },
  {
   "cell_type": "code",
   "execution_count": 74,
   "metadata": {
    "collapsed": false
   },
   "outputs": [],
   "source": [
    "# for i in range(1, length + 1):\n",
    "#     data = subset(base, i)\n",
    "#     maxG = (data['Streptavidin Mean NN']).max() * dIm_to_gamma * 10**7\n",
    "#     minG = (data['Streptavidin Mean NN']).min() * dIm_to_gamma * 10**7\n",
    "#     print 'residue position =', n\n",
    "#     print 'max Gamma', maxG\n",
    "#     print 'min Gamma', minG\n",
    "#     print 'ratio =', maxG / minG, '\\n'"
   ]
  },
  {
   "cell_type": "code",
   "execution_count": null,
   "metadata": {
    "collapsed": true
   },
   "outputs": [],
   "source": []
  }
 ],
 "metadata": {
  "kernelspec": {
   "display_name": "Python 2",
   "language": "python",
   "name": "python2"
  },
  "language_info": {
   "codemirror_mode": {
    "name": "ipython",
    "version": 2
   },
   "file_extension": ".py",
   "mimetype": "text/x-python",
   "name": "python",
   "nbconvert_exporter": "python",
   "pygments_lexer": "ipython2",
   "version": "2.7.12"
  }
 },
 "nbformat": 4,
 "nbformat_minor": 0
}
