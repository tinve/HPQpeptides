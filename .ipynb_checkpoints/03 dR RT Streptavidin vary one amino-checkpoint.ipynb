{
 "cells": [
  {
   "cell_type": "code",
   "execution_count": 57,
   "metadata": {
    "collapsed": false
   },
   "outputs": [],
   "source": [
    "from __future__ import division\n",
    "import numpy as np\n",
    "import pandas as pd\n",
    "import matplotlib.pyplot as plt\n",
    "# import os\n",
    "\n",
    "# os.chdir('/home/galina/PythonProjects/rochen peptides/Batch 1 (variety peptides)/Generate images')"
   ]
  },
  {
   "cell_type": "code",
   "execution_count": 58,
   "metadata": {
    "collapsed": true
   },
   "outputs": [],
   "source": [
    "length = 8"
   ]
  },
  {
   "cell_type": "markdown",
   "metadata": {},
   "source": [
    "# Base peptide sequences"
   ]
  },
  {
   "cell_type": "code",
   "execution_count": 59,
   "metadata": {
    "collapsed": false
   },
   "outputs": [],
   "source": [
    "if   length == 8:\n",
    "    base = 'WTHPQFAT'\n",
    "elif length == 9:\n",
    "    base = 'LQWHPQAGK'\n",
    "elif length == 12:\n",
    "    base = 'GKFPIPLGKQSG'\n",
    "elif length == 13:\n",
    "    base = 'NGQFQVWIPGAQK'\n",
    "else:\n",
    "    print 'No base of such length'\n",
    "    \n",
    "aminoacids = ['A', 'C', 'D', 'E', 'F',\n",
    "              'G', 'H', 'I', 'K', 'L',\n",
    "              'M', 'N', 'P', 'Q', 'R',\n",
    "              'S', 'T', 'V', 'W', 'Y']"
   ]
  },
  {
   "cell_type": "markdown",
   "metadata": {},
   "source": [
    "# Creating list of peptide names"
   ]
  },
  {
   "cell_type": "code",
   "execution_count": 60,
   "metadata": {
    "collapsed": false
   },
   "outputs": [],
   "source": [
    "def namelist(base, n):\n",
    "    names = []\n",
    "    for a in aminoacids:\n",
    "        names.append(base[:n - 1] + a + base[n:])\n",
    "    return names"
   ]
  },
  {
   "cell_type": "markdown",
   "metadata": {},
   "source": [
    "# Logarithmize errorbars"
   ]
  },
  {
   "cell_type": "code",
   "execution_count": 112,
   "metadata": {
    "collapsed": false
   },
   "outputs": [
    {
     "name": "stdout",
     "output_type": "stream",
     "text": [
      "\n"
     ]
    }
   ],
   "source": [
    "def logarithmize(x, xbar):\n",
    "    print len(x), x\n",
    "    print len(xbar), xbar\n",
    "    print 'np.sum(x, xbar)', np.sum(x, xbar)\n",
    "    \n",
    "    x_log = np.log10(x)\n",
    "    \n",
    "    print 'x_log', x_log\n",
    "\n",
    "    print 'np.log10(np.sum(x, xbar))', np.log10(np.sum(x, xbar))\n",
    "    print 'np.subtract(np.log10(np.sum(x, xbar)), x_log)', np.subtract(np.log10(np.sum(x, xbar)), x_log)\n",
    "    \n",
    "    xbar_upper = np.subtract(np.log10(np.sum(x, xbar)), x_log)\n",
    "    xbar_lower = np.subtract(x_log, np.log10(np.subtract(x, xbar)))\n",
    "    return x_log, xbar_upper, xbar_lower"
   ]
  },
  {
   "cell_type": "markdown",
   "metadata": {},
   "source": [
    "# Subsetting data"
   ]
  },
  {
   "cell_type": "code",
   "execution_count": 113,
   "metadata": {
    "collapsed": true
   },
   "outputs": [],
   "source": [
    "def reorder(data, names):\n",
    "    return data"
   ]
  },
  {
   "cell_type": "code",
   "execution_count": 114,
   "metadata": {
    "collapsed": false
   },
   "outputs": [],
   "source": [
    "def subset(base, n):\n",
    "    names = namelist(base, n)\n",
    "    data = pd.read_csv('02 Averaged dR Streptavidin fit.csv', header = 0)\n",
    "    data = data[data['Peptide Length'] == len(base)]\n",
    "    data = data[data['Peptide'].isin(names)]\n",
    "    assert len(data) == 20\n",
    "    data = reorder(data, names)\n",
    "    return data"
   ]
  },
  {
   "cell_type": "code",
   "execution_count": 115,
   "metadata": {
    "collapsed": false
   },
   "outputs": [],
   "source": [
    "def plot_series(data, filename):\n",
    "\n",
    "    x       = data['Ka Filtered Mean'].tolist()\n",
    "    xbar    = data['Ka Filtered SE'].tolist()\n",
    "\n",
    "    ylabels = data['Peptide'].tolist()\n",
    "    y       = range(len(ylabels), 0, -1)\n",
    "\n",
    "    width = 6\n",
    "    height = 0.36 * (len(y) + 1.4) + 1.1\n",
    "\n",
    "    # rescale to log10\n",
    "    x, xbar_upper, xbar_lower = logarithmize(x, xbar)\n",
    "\n",
    "    fig = plt.figure(figsize = (width, height))\n",
    "    ax = fig.add_subplot(1, 1, 1)\n",
    "    ax.errorbar(x, y, xerr = [xbar_upper, xbar_lower], marker='o', color = 'k', ls = 'none')\n",
    "    plt.yticks(y, ylabels)\n",
    "    plt.grid(alpha = 0.5)\n",
    "\n",
    "    plt.subplots_adjust(left = 1.8 / width,\n",
    "                        right = 1 - 0.3 / width,\n",
    "                        bottom = 0.8 / height,\n",
    "                        top = 1 - 0.3 / height)\n",
    "\n",
    "    plt.xlim(left = -5, right = 2)\n",
    "\n",
    "    plt.ylim(bottom = min(y) - 0.7, top = max(y) + 0.7)\n",
    "\n",
    "    plt.xlabel('$\\log_{10}{\\ K_a}$', labelpad = 12, fontsize = 18)\n",
    "\n",
    "    for label in ax.get_xticklabels(): \n",
    "        label.set_fontname('DejaVu Sans Mono')\n",
    "        label.set_fontsize(14)\n",
    "\n",
    "    for label in ax.get_yticklabels():\n",
    "        label.set_fontname('DejaVu Sans Mono') # alternatively: 'Droid Sans Mono', 'FreeMono' or 'Liberation Mono'\n",
    "        label.set_fontsize(14)\n",
    "        if label.get_text() == base:\n",
    "            label.set_weight('black')\n",
    "        else:\n",
    "            label.set_color('0.2')\n",
    "    plt.axvspan(-5, -4.4, alpha = 0.1, facecolor = 'k', edgecolor = 'none')  \n",
    "\n",
    "    for tick in ax.get_xaxis().get_major_ticks():\n",
    "        tick.set_pad(6)\n",
    "        \n",
    "    for tick in ax.get_yaxis().get_major_ticks():\n",
    "        tick.set_pad(8)\n",
    "    \n",
    "    plt.show()\n",
    "#    plt.savefig(filename)"
   ]
  },
  {
   "cell_type": "code",
   "execution_count": 116,
   "metadata": {
    "collapsed": false
   },
   "outputs": [],
   "source": [
    "# for i in range(1, length + 1):\n",
    "#     filename = 'base ' + str(length) + ', letter ' + str(i) + '.png'\n",
    "#     plot_series(subset(base, i), filename)"
   ]
  },
  {
   "cell_type": "code",
   "execution_count": 117,
   "metadata": {
    "collapsed": false,
    "scrolled": true
   },
   "outputs": [],
   "source": [
    "# print subset(base, 1)"
   ]
  },
  {
   "cell_type": "code",
   "execution_count": 118,
   "metadata": {
    "collapsed": false
   },
   "outputs": [
    {
     "name": "stdout",
     "output_type": "stream",
     "text": [
      "20 [2.1296288947900002, 3.3333333333300002e-05, 3.3333333333300002e-05, 3.3333333333300002e-05, 1.1756888489599999, 0.030516243461799999, 3.3333333333300002e-05, 3.3333333333300002e-05, 0.00140534808668, 3.3333333333300002e-05, 3.3333333333300002e-05, 0.0625, 3.3333333333300002e-05, 3.3333333333300002e-05, 3.3333333333300002e-05, 0.010910505556099999, 3.3333333333300002e-05, 0.093134395720199992, 6.6697735682000001, 0.016691666666700002]\n",
      "20 [2.0015989683500002, 0.0, 0.0, 0.0, 0.45019836921800005, 0.0056724368493500004, 0.0, 0.0, 0.0013720147533399999, 0.0, 0.0, 0.0, 0.0, 0.0, 0.0, 0.00630076394487, 0.0, 0.064456806760500002, 6.6656316661399995, 0.0166583333333]\n",
      "np.sum(x, xbar)"
     ]
    },
    {
     "ename": "TypeError",
     "evalue": "an integer is required",
     "output_type": "error",
     "traceback": [
      "\u001b[1;31m---------------------------------------------------------------------------\u001b[0m",
      "\u001b[1;31mTypeError\u001b[0m                                 Traceback (most recent call last)",
      "\u001b[1;32m<ipython-input-118-50eb14f4533f>\u001b[0m in \u001b[0;36m<module>\u001b[1;34m()\u001b[0m\n\u001b[1;32m----> 1\u001b[1;33m \u001b[0mplot_series\u001b[0m\u001b[1;33m(\u001b[0m\u001b[0msubset\u001b[0m\u001b[1;33m(\u001b[0m\u001b[0mbase\u001b[0m\u001b[1;33m,\u001b[0m \u001b[1;36m6\u001b[0m\u001b[1;33m)\u001b[0m\u001b[1;33m,\u001b[0m \u001b[1;34m'a'\u001b[0m\u001b[1;33m)\u001b[0m\u001b[1;33m\u001b[0m\u001b[0m\n\u001b[0m",
      "\u001b[1;32m<ipython-input-115-d0f15048e607>\u001b[0m in \u001b[0;36mplot_series\u001b[1;34m(data, filename)\u001b[0m\n\u001b[0;32m     11\u001b[0m \u001b[1;33m\u001b[0m\u001b[0m\n\u001b[0;32m     12\u001b[0m     \u001b[1;31m# rescale to log10\u001b[0m\u001b[1;33m\u001b[0m\u001b[1;33m\u001b[0m\u001b[0m\n\u001b[1;32m---> 13\u001b[1;33m     \u001b[0mx\u001b[0m\u001b[1;33m,\u001b[0m \u001b[0mxbar_upper\u001b[0m\u001b[1;33m,\u001b[0m \u001b[0mxbar_lower\u001b[0m \u001b[1;33m=\u001b[0m \u001b[0mlogarithmize\u001b[0m\u001b[1;33m(\u001b[0m\u001b[0mx\u001b[0m\u001b[1;33m,\u001b[0m \u001b[0mxbar\u001b[0m\u001b[1;33m)\u001b[0m\u001b[1;33m\u001b[0m\u001b[0m\n\u001b[0m\u001b[0;32m     14\u001b[0m \u001b[1;33m\u001b[0m\u001b[0m\n\u001b[0;32m     15\u001b[0m     \u001b[0mfig\u001b[0m \u001b[1;33m=\u001b[0m \u001b[0mplt\u001b[0m\u001b[1;33m.\u001b[0m\u001b[0mfigure\u001b[0m\u001b[1;33m(\u001b[0m\u001b[0mfigsize\u001b[0m \u001b[1;33m=\u001b[0m \u001b[1;33m(\u001b[0m\u001b[0mwidth\u001b[0m\u001b[1;33m,\u001b[0m \u001b[0mheight\u001b[0m\u001b[1;33m)\u001b[0m\u001b[1;33m)\u001b[0m\u001b[1;33m\u001b[0m\u001b[0m\n",
      "\u001b[1;32m<ipython-input-112-c03ca709e4da>\u001b[0m in \u001b[0;36mlogarithmize\u001b[1;34m(x, xbar)\u001b[0m\n\u001b[0;32m      2\u001b[0m     \u001b[1;32mprint\u001b[0m \u001b[0mlen\u001b[0m\u001b[1;33m(\u001b[0m\u001b[0mx\u001b[0m\u001b[1;33m)\u001b[0m\u001b[1;33m,\u001b[0m \u001b[0mx\u001b[0m\u001b[1;33m\u001b[0m\u001b[0m\n\u001b[0;32m      3\u001b[0m     \u001b[1;32mprint\u001b[0m \u001b[0mlen\u001b[0m\u001b[1;33m(\u001b[0m\u001b[0mxbar\u001b[0m\u001b[1;33m)\u001b[0m\u001b[1;33m,\u001b[0m \u001b[0mxbar\u001b[0m\u001b[1;33m\u001b[0m\u001b[0m\n\u001b[1;32m----> 4\u001b[1;33m     \u001b[1;32mprint\u001b[0m \u001b[1;34m'np.sum(x, xbar)'\u001b[0m\u001b[1;33m,\u001b[0m \u001b[0mnp\u001b[0m\u001b[1;33m.\u001b[0m\u001b[0msum\u001b[0m\u001b[1;33m(\u001b[0m\u001b[0mx\u001b[0m\u001b[1;33m,\u001b[0m \u001b[0mxbar\u001b[0m\u001b[1;33m)\u001b[0m\u001b[1;33m\u001b[0m\u001b[0m\n\u001b[0m\u001b[0;32m      5\u001b[0m \u001b[1;33m\u001b[0m\u001b[0m\n\u001b[0;32m      6\u001b[0m     \u001b[0mx_log\u001b[0m \u001b[1;33m=\u001b[0m \u001b[0mnp\u001b[0m\u001b[1;33m.\u001b[0m\u001b[0mlog10\u001b[0m\u001b[1;33m(\u001b[0m\u001b[0mx\u001b[0m\u001b[1;33m)\u001b[0m\u001b[1;33m\u001b[0m\u001b[0m\n",
      "\u001b[1;32m/home/galina/.local/lib/python2.7/site-packages/numpy/core/fromnumeric.pyc\u001b[0m in \u001b[0;36msum\u001b[1;34m(a, axis, dtype, out, keepdims)\u001b[0m\n\u001b[0;32m   1717\u001b[0m         \u001b[1;32mexcept\u001b[0m \u001b[0mAttributeError\u001b[0m\u001b[1;33m:\u001b[0m\u001b[1;33m\u001b[0m\u001b[0m\n\u001b[0;32m   1718\u001b[0m             return _methods._sum(a, axis=axis, dtype=dtype,\n\u001b[1;32m-> 1719\u001b[1;33m                                 out=out, keepdims=keepdims)\n\u001b[0m\u001b[0;32m   1720\u001b[0m         \u001b[1;31m# NOTE: Dropping the keepdims parameters here...\u001b[0m\u001b[1;33m\u001b[0m\u001b[1;33m\u001b[0m\u001b[0m\n\u001b[0;32m   1721\u001b[0m         \u001b[1;32mreturn\u001b[0m \u001b[0msum\u001b[0m\u001b[1;33m(\u001b[0m\u001b[0maxis\u001b[0m\u001b[1;33m=\u001b[0m\u001b[0maxis\u001b[0m\u001b[1;33m,\u001b[0m \u001b[0mdtype\u001b[0m\u001b[1;33m=\u001b[0m\u001b[0mdtype\u001b[0m\u001b[1;33m,\u001b[0m \u001b[0mout\u001b[0m\u001b[1;33m=\u001b[0m\u001b[0mout\u001b[0m\u001b[1;33m)\u001b[0m\u001b[1;33m\u001b[0m\u001b[0m\n",
      "\u001b[1;32m/home/galina/.local/lib/python2.7/site-packages/numpy/core/_methods.pyc\u001b[0m in \u001b[0;36m_sum\u001b[1;34m(a, axis, dtype, out, keepdims)\u001b[0m\n\u001b[0;32m     30\u001b[0m \u001b[1;33m\u001b[0m\u001b[0m\n\u001b[0;32m     31\u001b[0m \u001b[1;32mdef\u001b[0m \u001b[0m_sum\u001b[0m\u001b[1;33m(\u001b[0m\u001b[0ma\u001b[0m\u001b[1;33m,\u001b[0m \u001b[0maxis\u001b[0m\u001b[1;33m=\u001b[0m\u001b[0mNone\u001b[0m\u001b[1;33m,\u001b[0m \u001b[0mdtype\u001b[0m\u001b[1;33m=\u001b[0m\u001b[0mNone\u001b[0m\u001b[1;33m,\u001b[0m \u001b[0mout\u001b[0m\u001b[1;33m=\u001b[0m\u001b[0mNone\u001b[0m\u001b[1;33m,\u001b[0m \u001b[0mkeepdims\u001b[0m\u001b[1;33m=\u001b[0m\u001b[0mFalse\u001b[0m\u001b[1;33m)\u001b[0m\u001b[1;33m:\u001b[0m\u001b[1;33m\u001b[0m\u001b[0m\n\u001b[1;32m---> 32\u001b[1;33m     \u001b[1;32mreturn\u001b[0m \u001b[0mumr_sum\u001b[0m\u001b[1;33m(\u001b[0m\u001b[0ma\u001b[0m\u001b[1;33m,\u001b[0m \u001b[0maxis\u001b[0m\u001b[1;33m,\u001b[0m \u001b[0mdtype\u001b[0m\u001b[1;33m,\u001b[0m \u001b[0mout\u001b[0m\u001b[1;33m,\u001b[0m \u001b[0mkeepdims\u001b[0m\u001b[1;33m)\u001b[0m\u001b[1;33m\u001b[0m\u001b[0m\n\u001b[0m\u001b[0;32m     33\u001b[0m \u001b[1;33m\u001b[0m\u001b[0m\n\u001b[0;32m     34\u001b[0m \u001b[1;32mdef\u001b[0m \u001b[0m_prod\u001b[0m\u001b[1;33m(\u001b[0m\u001b[0ma\u001b[0m\u001b[1;33m,\u001b[0m \u001b[0maxis\u001b[0m\u001b[1;33m=\u001b[0m\u001b[0mNone\u001b[0m\u001b[1;33m,\u001b[0m \u001b[0mdtype\u001b[0m\u001b[1;33m=\u001b[0m\u001b[0mNone\u001b[0m\u001b[1;33m,\u001b[0m \u001b[0mout\u001b[0m\u001b[1;33m=\u001b[0m\u001b[0mNone\u001b[0m\u001b[1;33m,\u001b[0m \u001b[0mkeepdims\u001b[0m\u001b[1;33m=\u001b[0m\u001b[0mFalse\u001b[0m\u001b[1;33m)\u001b[0m\u001b[1;33m:\u001b[0m\u001b[1;33m\u001b[0m\u001b[0m\n",
      "\u001b[1;31mTypeError\u001b[0m: an integer is required"
     ]
    }
   ],
   "source": [
    "plot_series(subset(base, 6), 'a')"
   ]
  },
  {
   "cell_type": "code",
   "execution_count": 67,
   "metadata": {
    "collapsed": false
   },
   "outputs": [],
   "source": [
    "plt.clf()\n",
    "plt.close('all')"
   ]
  },
  {
   "cell_type": "code",
   "execution_count": null,
   "metadata": {
    "collapsed": true
   },
   "outputs": [],
   "source": []
  }
 ],
 "metadata": {
  "kernelspec": {
   "display_name": "Python 2",
   "language": "python",
   "name": "python2"
  },
  "language_info": {
   "codemirror_mode": {
    "name": "ipython",
    "version": 2
   },
   "file_extension": ".py",
   "mimetype": "text/x-python",
   "name": "python",
   "nbconvert_exporter": "python",
   "pygments_lexer": "ipython2",
   "version": "2.7.10"
  }
 },
 "nbformat": 4,
 "nbformat_minor": 0
}
