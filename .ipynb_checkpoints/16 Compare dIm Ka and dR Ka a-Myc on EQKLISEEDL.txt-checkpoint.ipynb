{
 "cells": [
  {
   "cell_type": "code",
   "execution_count": 2,
   "metadata": {
    "collapsed": false
   },
   "outputs": [],
   "source": [
    "from __future__ import division\n",
    "\n",
    "import numpy as np\n",
    "import pandas as pd\n",
    "import matplotlib.pyplot as plt\n",
    "import seaborn as sns\n",
    "\n",
    "# import sys\n",
    "\n",
    "# sys.path.append('/home/galina/PythonProjects/common_functions')\n",
    "# import peptides as pep\n",
    "\n",
    "# # from matplotlib.patches import Rectangle\n",
    "\n",
    "% matplotlib inline"
   ]
  },
  {
   "cell_type": "code",
   "execution_count": 32,
   "metadata": {
    "collapsed": false
   },
   "outputs": [
    {
     "data": {
      "text/html": [
       "<div>\n",
       "<table border=\"1\" class=\"dataframe\">\n",
       "  <thead>\n",
       "    <tr style=\"text-align: right;\">\n",
       "      <th></th>\n",
       "      <th>Grid Index</th>\n",
       "      <th>Peptide</th>\n",
       "      <th>kon dIm</th>\n",
       "      <th>kon dR</th>\n",
       "      <th>kon Err dIm</th>\n",
       "      <th>kon Err dR</th>\n",
       "      <th>koff dIm</th>\n",
       "      <th>koff dR</th>\n",
       "      <th>koff Err dIm</th>\n",
       "      <th>koff Err dR</th>\n",
       "      <th>...</th>\n",
       "      <th>Kd Max dIm</th>\n",
       "      <th>Kd Max dR</th>\n",
       "      <th>Kd Best dIm</th>\n",
       "      <th>Kd Best dR</th>\n",
       "      <th>Assoc SNR dIm</th>\n",
       "      <th>Assoc SNR dR</th>\n",
       "      <th>Assoc Signal dIm</th>\n",
       "      <th>Assoc Signal dR</th>\n",
       "      <th>Dissoc Signal dIm</th>\n",
       "      <th>Dissoc Signal dR</th>\n",
       "    </tr>\n",
       "  </thead>\n",
       "  <tbody>\n",
       "    <tr>\n",
       "      <th>0</th>\n",
       "      <td>49</td>\n",
       "      <td>EQKLISEEDL</td>\n",
       "      <td>16400</td>\n",
       "      <td>17500</td>\n",
       "      <td>469</td>\n",
       "      <td>2170</td>\n",
       "      <td>0.000031</td>\n",
       "      <td>0.000025</td>\n",
       "      <td>0.000001</td>\n",
       "      <td>0.000005</td>\n",
       "      <td>...</td>\n",
       "      <td>8.640000e-11</td>\n",
       "      <td>3.330000e-10</td>\n",
       "      <td>1.900000e-09</td>\n",
       "      <td>1.420000e-09</td>\n",
       "      <td>62.468403</td>\n",
       "      <td>4.568510</td>\n",
       "      <td>0.003873</td>\n",
       "      <td>0.000877</td>\n",
       "      <td>0.003221</td>\n",
       "      <td>0.000777</td>\n",
       "    </tr>\n",
       "    <tr>\n",
       "      <th>1</th>\n",
       "      <td>96</td>\n",
       "      <td>EQKLISEEDL</td>\n",
       "      <td>17100</td>\n",
       "      <td>14700</td>\n",
       "      <td>535</td>\n",
       "      <td>2340</td>\n",
       "      <td>0.000035</td>\n",
       "      <td>0.000085</td>\n",
       "      <td>0.000001</td>\n",
       "      <td>0.000008</td>\n",
       "      <td>...</td>\n",
       "      <td>8.940000e-11</td>\n",
       "      <td>4.700000e-10</td>\n",
       "      <td>2.060000e-09</td>\n",
       "      <td>5.800000e-09</td>\n",
       "      <td>48.605499</td>\n",
       "      <td>4.845636</td>\n",
       "      <td>0.003159</td>\n",
       "      <td>0.001047</td>\n",
       "      <td>0.002489</td>\n",
       "      <td>0.000419</td>\n",
       "    </tr>\n",
       "    <tr>\n",
       "      <th>2</th>\n",
       "      <td>126</td>\n",
       "      <td>EQKLISEEDL</td>\n",
       "      <td>17200</td>\n",
       "      <td>24200</td>\n",
       "      <td>592</td>\n",
       "      <td>5520</td>\n",
       "      <td>0.000034</td>\n",
       "      <td>0.000031</td>\n",
       "      <td>0.000002</td>\n",
       "      <td>0.000009</td>\n",
       "      <td>...</td>\n",
       "      <td>9.340000e-11</td>\n",
       "      <td>4.070000e-10</td>\n",
       "      <td>1.970000e-09</td>\n",
       "      <td>1.280000e-09</td>\n",
       "      <td>46.255163</td>\n",
       "      <td>3.370516</td>\n",
       "      <td>0.003192</td>\n",
       "      <td>0.000644</td>\n",
       "      <td>0.002607</td>\n",
       "      <td>0.000451</td>\n",
       "    </tr>\n",
       "    <tr>\n",
       "      <th>3</th>\n",
       "      <td>145</td>\n",
       "      <td>EQKLISEEDL</td>\n",
       "      <td>17900</td>\n",
       "      <td>11500</td>\n",
       "      <td>634</td>\n",
       "      <td>3010</td>\n",
       "      <td>0.000029</td>\n",
       "      <td>0.000047</td>\n",
       "      <td>0.000001</td>\n",
       "      <td>0.000013</td>\n",
       "      <td>...</td>\n",
       "      <td>9.210000e-11</td>\n",
       "      <td>1.040000e-09</td>\n",
       "      <td>1.610000e-09</td>\n",
       "      <td>4.100000e-09</td>\n",
       "      <td>45.260340</td>\n",
       "      <td>4.742662</td>\n",
       "      <td>0.003168</td>\n",
       "      <td>0.000569</td>\n",
       "      <td>0.002535</td>\n",
       "      <td>0.000304</td>\n",
       "    </tr>\n",
       "    <tr>\n",
       "      <th>4</th>\n",
       "      <td>226</td>\n",
       "      <td>EQKLISEEDL</td>\n",
       "      <td>18300</td>\n",
       "      <td>8380</td>\n",
       "      <td>643</td>\n",
       "      <td>2750</td>\n",
       "      <td>0.000027</td>\n",
       "      <td>0.000009</td>\n",
       "      <td>0.000001</td>\n",
       "      <td>0.000014</td>\n",
       "      <td>...</td>\n",
       "      <td>8.950000e-11</td>\n",
       "      <td>1.830000e-09</td>\n",
       "      <td>1.490000e-09</td>\n",
       "      <td>1.830000e-09</td>\n",
       "      <td>67.468237</td>\n",
       "      <td>2.618137</td>\n",
       "      <td>0.003711</td>\n",
       "      <td>0.000437</td>\n",
       "      <td>0.002971</td>\n",
       "      <td>0.000508</td>\n",
       "    </tr>\n",
       "  </tbody>\n",
       "</table>\n",
       "<p>5 rows × 26 columns</p>\n",
       "</div>"
      ],
      "text/plain": [
       "   Grid Index     Peptide  kon dIm  kon dR  kon Err dIm  kon Err dR  koff dIm  \\\n",
       "0          49  EQKLISEEDL    16400   17500          469        2170  0.000031   \n",
       "1          96  EQKLISEEDL    17100   14700          535        2340  0.000035   \n",
       "2         126  EQKLISEEDL    17200   24200          592        5520  0.000034   \n",
       "3         145  EQKLISEEDL    17900   11500          634        3010  0.000029   \n",
       "4         226  EQKLISEEDL    18300    8380          643        2750  0.000027   \n",
       "\n",
       "    koff dR  koff Err dIm  koff Err dR        ...           Kd Max dIm  \\\n",
       "0  0.000025      0.000001     0.000005        ...         8.640000e-11   \n",
       "1  0.000085      0.000001     0.000008        ...         8.940000e-11   \n",
       "2  0.000031      0.000002     0.000009        ...         9.340000e-11   \n",
       "3  0.000047      0.000001     0.000013        ...         9.210000e-11   \n",
       "4  0.000009      0.000001     0.000014        ...         8.950000e-11   \n",
       "\n",
       "      Kd Max dR   Kd Best dIm    Kd Best dR  Assoc SNR dIm  Assoc SNR dR  \\\n",
       "0  3.330000e-10  1.900000e-09  1.420000e-09      62.468403      4.568510   \n",
       "1  4.700000e-10  2.060000e-09  5.800000e-09      48.605499      4.845636   \n",
       "2  4.070000e-10  1.970000e-09  1.280000e-09      46.255163      3.370516   \n",
       "3  1.040000e-09  1.610000e-09  4.100000e-09      45.260340      4.742662   \n",
       "4  1.830000e-09  1.490000e-09  1.830000e-09      67.468237      2.618137   \n",
       "\n",
       "   Assoc Signal dIm  Assoc Signal dR  Dissoc Signal dIm  Dissoc Signal dR  \n",
       "0          0.003873         0.000877           0.003221          0.000777  \n",
       "1          0.003159         0.001047           0.002489          0.000419  \n",
       "2          0.003192         0.000644           0.002607          0.000451  \n",
       "3          0.003168         0.000569           0.002535          0.000304  \n",
       "4          0.003711         0.000437           0.002971          0.000508  \n",
       "\n",
       "[5 rows x 26 columns]"
      ]
     },
     "execution_count": 32,
     "metadata": {},
     "output_type": "execute_result"
    }
   ],
   "source": [
    "df = pd.read_csv('1-to-1 Fit and Endpoint a-Myc EQKLISEEDL.csv')\n",
    "\n",
    "# add association signal\n",
    "df['Assoc Signal'] = df['Assoc. SNR'] * df['Baseline Noise']\n",
    "# add dissociation signal\n",
    "df['Dissoc Signal'] = df['Dissoc. SNR'] * df['Baseline Noise']\n",
    "\n",
    "# rearrange the columns, drop unnecessary columns\n",
    "\n",
    "# Split peptide name\n",
    "dfpart = pd.DataFrame(df['Label'].apply(lambda x: x.split('-')).values.tolist())#.astype(float)\n",
    "dfpart.columns = ['Peptide', 'Grid Index', 'Channel']\n",
    "df = pd.concat([df, dfpart], axis = 1)\n",
    "df['Grid Index'] = df['Grid Index'].apply(int)\n",
    "\n",
    "columns = ['Peptide',\n",
    "           'Grid Index',\n",
    "           'Channel',\n",
    "\n",
    "           'kon  [1/ (sec.nM)]',\n",
    "           'Err',\n",
    "           'koff  [1/sec]',\n",
    "           'Err.1',\n",
    "           'Kd  [nM]',\n",
    "           'Err.2',\n",
    "#           'ThetaBar',\n",
    "#           'Err.3',\n",
    "           'Scale',\n",
    "#           'Err.4',\n",
    "#           'RMSE Global',\n",
    "#           'RMSE Curve',\n",
    "#           'koff_max  [1/sec]',\n",
    "           'Kd_max  [nM]',\n",
    "#           'koff_best  [1/sec]',\n",
    "           'Kd_best  [nM]',\n",
    "           'Assoc. SNR',\n",
    "           'Assoc Signal',\n",
    "           'Dissoc Signal',\n",
    "#           'Baseline Noise'\n",
    "          ]\n",
    "\n",
    "df = df[columns]\n",
    "\n",
    "# rescale to M\n",
    "df['kon  [1/ (sec.nM)]'] = 10**9 * df['kon  [1/ (sec.nM)]']\n",
    "df['Err']                = 10**9 * df['Err']\n",
    "                                      \n",
    "df['Kd  [nM]']       = 10**(-9) * df['Kd  [nM]']\n",
    "df['Err.2']          = 10**(-9) * df['Err.2']\n",
    "\n",
    "df['Kd_max  [nM]' ]  = 10**(-9) * df['Kd_max  [nM]']\n",
    "df['Kd_best  [nM]' ] = 10**(-9) * df['Kd_best  [nM]']\n",
    "\n",
    "rename = {#'Label'              : 'Peptide',\n",
    "#           'Peptide Length'     : 'Peptide Length',\n",
    "#           'Peptide Weigt'      : 'Peptide Weight',\n",
    "#           'Error Code'         : 'Fit Error',\n",
    "          'kon  [1/ (sec.nM)]' : 'kon',\n",
    "          'Err'                : 'kon Err',\n",
    "          'koff  [1/sec]'      : 'koff',\n",
    "          'Err.1'              : 'koff Err',\n",
    "          'Kd  [nM]'           : 'Kd',\n",
    "          'Err.2'              : 'Kd Err',\n",
    "          'ThetaBar'           : 'Theta Bar',\n",
    "          'Err.3'              : 'Theta Bar Err',\n",
    "          'Scale'              : 'Scale',\n",
    "          'Err.4'              : 'Scale Err',\n",
    "          'RMSE Global'        : 'RMSE Global',\n",
    "          'RMSE Curve'         : 'RMSE Curve',\n",
    "          'koff_max  [1/sec]'  : 'koff Max',\n",
    "          'Kd_max  [nM]'       : 'Kd Max',\n",
    "          'koff_best  [1/sec]' : 'koff Best',\n",
    "          'Kd_best  [nM]'      : 'Kd Best',\n",
    "          'Assoc. SNR'         : 'Assoc SNR',\n",
    "          'Assoc Signal'       : 'Assoc Signal',\n",
    "          'Dissoc Signal'      : 'Dissoc Signal',\n",
    "          'Baseline Noise'     : 'Baseline Noise'}\n",
    "\n",
    "df = df.rename(columns = rename)\n",
    "\n",
    "df = df.pivot(index = 'Grid Index', columns = 'Channel')\n",
    "df.columns = [' '.join(col).strip() for col in df.columns.values]\n",
    "df.reset_index(inplace = True)\n",
    "df.rename(columns = {'Peptide dIm' : 'Peptide'}, inplace = True)\n",
    "df.drop('Peptide dR', axis = 1, inplace = True)\n",
    "\n",
    "df.head()"
   ]
  },
  {
   "cell_type": "code",
   "execution_count": 40,
   "metadata": {
    "collapsed": false
   },
   "outputs": [
    {
     "name": "stdout",
     "output_type": "stream",
     "text": [
      "For how many targets Kd_max > Kd?\n",
      "dIm: 0\n",
      "dR:  23\n"
     ]
    }
   ],
   "source": [
    "print 'For how many targets Kd_max > Kd?'\n",
    "print 'dIm:', len(df[df['Kd Max dIm'] > df['Kd dIm']])\n",
    "print 'dR: ', len(df[df['Kd Max dR']  > df['Kd dR']])"
   ]
  },
  {
   "cell_type": "code",
   "execution_count": 77,
   "metadata": {
    "collapsed": false
   },
   "outputs": [
    {
     "data": {
      "text/plain": [
       "<matplotlib.text.Text at 0x7faf390716d0>"
      ]
     },
     "execution_count": 77,
     "metadata": {},
     "output_type": "execute_result"
    },
    {
     "data": {
      "image/png": "[encoded data removed]",
      "text/plain": [
       "<matplotlib.figure.Figure at 0x7faf3911cfd0>"
      ]
     },
     "metadata": {},
     "output_type": "display_data"
    }
   ],
   "source": [
    "sns.set(font_scale = 1.5)\n",
    "plt.figure(figsize = (5, 5))\n",
    "plt.errorbar(x = df['Kd Best dIm'] * 10**9,\n",
    "             y = df['Kd Best dR'] * 10**9,\n",
    "             xerr = df['Kd Err dIm'] * 10**9,\n",
    "             yerr = df['Kd Err dIm'] * 10**9,\n",
    "             linestyle = '')\n",
    "plt.xlim((-0.5, 10))\n",
    "plt.ylim((-0.5, 10))\n",
    "plt.xlabel('Kd from dim fit')\n",
    "plt.ylabel('Kd from dR fit')"
   ]
  },
  {
   "cell_type": "code",
   "execution_count": 76,
   "metadata": {
    "collapsed": false
   },
   "outputs": [
    {
     "data": {
      "text/plain": [
       "(0, 10)"
      ]
     },
     "execution_count": 76,
     "metadata": {},
     "output_type": "execute_result"
    },
    {
     "data": {
      "image/png": "[encoded data removed]",
      "text/plain": [
       "<matplotlib.figure.Figure at 0x7faf3a535dd0>"
      ]
     },
     "metadata": {},
     "output_type": "display_data"
    }
   ],
   "source": [
    "sns.distplot(df['Kd Best dIm'] * 10**9, bins = 20)\n",
    "sns.distplot(df[df['Kd Best dR'] * 10**9 < 20 ]['Kd Best dR'] * 10**9, bins = 50)\n",
    "plt.xlim((0, 10))"
   ]
  },
  {
   "cell_type": "code",
   "execution_count": null,
   "metadata": {
    "collapsed": true
   },
   "outputs": [],
   "source": []
  }
 ],
 "metadata": {
  "kernelspec": {
   "display_name": "Python 2",
   "language": "python",
   "name": "python2"
  },
  "language_info": {
   "codemirror_mode": {
    "name": "ipython",
    "version": 2
   },
   "file_extension": ".py",
   "mimetype": "text/x-python",
   "name": "python",
   "nbconvert_exporter": "python",
   "pygments_lexer": "ipython2",
   "version": "2.7.12"
  }
 },
 "nbformat": 4,
 "nbformat_minor": 0
}
