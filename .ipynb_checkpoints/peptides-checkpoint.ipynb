{
 "cells": [
  {
   "cell_type": "code",
   "execution_count": 17,
   "metadata": {
    "collapsed": false
   },
   "outputs": [],
   "source": [
    "from pandas import isnull\n",
    "\n",
    "def weight(peptide):\n",
    "    weights = {'A':  89.094,\n",
    "               'C': 121.154,\n",
    "               'D': 133.104,\n",
    "               'E': 147.131,\n",
    "               'F': 165.192,\n",
    "               'G':  75.067,\n",
    "               'H': 155.156,\n",
    "               'I': 131.175,\n",
    "               'K': 146.189,\n",
    "               'L': 131.175,\n",
    "               'M': 149.208,\n",
    "               'N': 132.119,\n",
    "               'P': 115.132,\n",
    "               'Q': 146.146,\n",
    "               'R': 174.203,\n",
    "               'S': 105.093,\n",
    "               'T': 119.120,\n",
    "               'V': 117.148,\n",
    "               'W': 204.228,\n",
    "               'Y': 181.191}\n",
    "    w   =  0.0\n",
    "    h2o = 18.015\n",
    "    \n",
    "    if isnull(peptide):\n",
    "        return float('nan')\n",
    "    if not isinstance(peptide, str):\n",
    "        return float('nan')\n",
    "    if peptide == '':\n",
    "        return float('nan')\n",
    "    \n",
    "    for a in peptide:\n",
    "        try:\n",
    "            w = w + weights[a]\n",
    "        except KeyError:\n",
    "            return float('nan')\n",
    "        \n",
    "    return w - h2o * (len(peptide) - 1)"
   ]
  }
 ],
 "metadata": {
  "kernelspec": {
   "display_name": "Python 2",
   "language": "python",
   "name": "python2"
  },
  "language_info": {
   "codemirror_mode": {
    "name": "ipython",
    "version": 2
   },
   "file_extension": ".py",
   "mimetype": "text/x-python",
   "name": "python",
   "nbconvert_exporter": "python",
   "pygments_lexer": "ipython2",
   "version": "2.7.12"
  }
 },
 "nbformat": 4,
 "nbformat_minor": 0
}
