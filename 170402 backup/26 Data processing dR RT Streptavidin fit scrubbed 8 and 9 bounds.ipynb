{
 "cells": [
  {
   "cell_type": "code",
   "execution_count": 1,
   "metadata": {
    "collapsed": false,
    "deletable": true,
    "editable": true,
    "scrolled": false
   },
   "outputs": [],
   "source": [
    "from __future__ import division\n",
    "\n",
    "import numpy as np\n",
    "import pandas as pd\n",
    "import matplotlib.pyplot as plt\n",
    "import seaborn as sns\n",
    "\n",
    "from scipy import stats\n",
    "from IPython.display import display\n",
    "\n",
    "import sys\n",
    "sys.path.append('/home/galina/PythonProjects/common_functions')\n",
    "import peptides as pep\n",
    "\n",
    "% matplotlib inline"
   ]
  },
  {
   "cell_type": "markdown",
   "metadata": {
    "deletable": true,
    "editable": true
   },
   "source": [
    "# Load data and preprocess the data"
   ]
  },
  {
   "cell_type": "code",
   "execution_count": 2,
   "metadata": {
    "collapsed": false,
    "deletable": true,
    "editable": true,
    "scrolled": true
   },
   "outputs": [],
   "source": [
    "df = pd.read_csv('1-to-1 Fit and Endpoint Streptavidin scrubbed length 8 and 9.csv')\n",
    "\n",
    "# drop curves with fit errors\n",
    "df = df[df['Error Code'] == 0]\n",
    "\n",
    "df['Assoc Signal']   = df['Assoc. SNR']  * df['Baseline Noise']\n",
    "df['Dissoc Signal']  = df['Dissoc. SNR'] * df['Baseline Noise']\n",
    "df['Peptide Weight'] = df['Label'].map(pep.weight)\n",
    "df['Peptide Length'] = df['Label'].map(len)\n",
    "\n",
    "# rearrange the columns, drop unnecessary columns\n",
    "columns = ['Label',\n",
    "           'Peptide Length',\n",
    "           'Peptide Weight',\n",
    "#           'Error Code',\n",
    "           'kon  [1/ (sec.nM)]',\n",
    "           'Err',\n",
    "           'koff  [1/sec]',\n",
    "           'Err.1',\n",
    "           'Kd  [nM]',\n",
    "           'Err.2',\n",
    "#           'ThetaBar',\n",
    "#           'Err.3',\n",
    "           'Scale',\n",
    "#           'Err.4',\n",
    "#           'RMSE Global',\n",
    "#           'RMSE Curve',\n",
    "#           'koff_max  [1/sec]',\n",
    "           'Kd_max  [nM]',\n",
    "#           'koff_best  [1/sec]',\n",
    "           'Kd_best  [nM]',\n",
    "           'Assoc. SNR',\n",
    "           'Assoc Signal',\n",
    "           'Dissoc Signal',\n",
    "#           'Baseline Noise'\n",
    "          ]\n",
    "\n",
    "df = df[columns]\n",
    "\n",
    "# rescale to M\n",
    "df['kon  [1/ (sec.nM)]'] = 10**9 * df['kon  [1/ (sec.nM)]']\n",
    "df['Err']                = 10**9 * df['Err']\n",
    "                                      \n",
    "df['Kd  [nM]']       = 10**(-9) * df['Kd  [nM]']\n",
    "df['Err.2']          = 10**(-9) * df['Err.2']\n",
    "\n",
    "df['Kd_max  [nM]' ]  = 10**(-9) * df['Kd_max  [nM]']\n",
    "df['Kd_best  [nM]' ] = 10**(-9) * df['Kd_best  [nM]']\n",
    "\n",
    "\n",
    "rename = {'Label'              : 'Peptide',\n",
    "          'Peptide Length'     : 'Peptide Length',\n",
    "          'Peptide Weigt'      : 'Peptide Weight',\n",
    "          'Error Code'         : 'Fit Error',\n",
    "          'kon  [1/ (sec.nM)]' : 'kon',\n",
    "          'Err'                : 'kon Err',\n",
    "          'koff  [1/sec]'      : 'koff',\n",
    "          'Err.1'              : 'koff Err',\n",
    "          'Kd  [nM]'           : 'Kd',\n",
    "          'Err.2'              : 'Kd Err',\n",
    "          'ThetaBar'           : 'Theta Bar',\n",
    "          'Err.3'              : 'Theta Bar Err',\n",
    "          'Scale'              : 'Scale',\n",
    "          'Err.4'              : 'Scale Err',\n",
    "          'RMSE Global'        : 'RMSE Global',\n",
    "          'RMSE Curve'         : 'RMSE Curve',\n",
    "          'koff_max  [1/sec]'  : 'koff Max',\n",
    "          'Kd_max  [nM]'       : 'Kd Max',\n",
    "          'koff_best  [1/sec]' : 'koff Best',\n",
    "          'Kd_best  [nM]'      : 'Kd Best',\n",
    "          'Assoc. SNR'         : 'Assoc SNR',\n",
    "          'Assoc Signal'       : 'Assoc Signal',\n",
    "          'Dissoc Signal'      : 'Dissoc Signal',\n",
    "          'Baseline Noise'     : 'Baseline Noise'}\n",
    "\n",
    "df = df.rename(columns = rename)"
   ]
  },
  {
   "cell_type": "code",
   "execution_count": 3,
   "metadata": {
    "collapsed": false,
    "deletable": true,
    "editable": true
   },
   "outputs": [
    {
     "data": {
      "text/html": [
       "<div>\n",
       "<table border=\"1\" class=\"dataframe\">\n",
       "  <thead>\n",
       "    <tr style=\"text-align: right;\">\n",
       "      <th></th>\n",
       "      <th>Peptide</th>\n",
       "      <th>Peptide Length</th>\n",
       "      <th>Peptide Weight</th>\n",
       "      <th>kon</th>\n",
       "      <th>kon Err</th>\n",
       "      <th>koff</th>\n",
       "      <th>koff Err</th>\n",
       "      <th>Kd</th>\n",
       "      <th>Kd Err</th>\n",
       "      <th>Scale</th>\n",
       "      <th>Kd Max</th>\n",
       "      <th>Kd Best</th>\n",
       "      <th>Assoc SNR</th>\n",
       "      <th>Assoc Signal</th>\n",
       "      <th>Dissoc Signal</th>\n",
       "    </tr>\n",
       "  </thead>\n",
       "  <tbody>\n",
       "    <tr>\n",
       "      <th>0</th>\n",
       "      <td>ATHPQFAT</td>\n",
       "      <td>8</td>\n",
       "      <td>871.949</td>\n",
       "      <td>4973.0</td>\n",
       "      <td>1288.0</td>\n",
       "      <td>0.000033</td>\n",
       "      <td>0.000004</td>\n",
       "      <td>6.603000e-09</td>\n",
       "      <td>1.870000e-09</td>\n",
       "      <td>0.000697</td>\n",
       "      <td>2.112000e-09</td>\n",
       "      <td>6.603000e-09</td>\n",
       "      <td>3.099982</td>\n",
       "      <td>0.000825</td>\n",
       "      <td>0.000553</td>\n",
       "    </tr>\n",
       "    <tr>\n",
       "      <th>1</th>\n",
       "      <td>ATHPQFAT</td>\n",
       "      <td>8</td>\n",
       "      <td>871.949</td>\n",
       "      <td>4973.0</td>\n",
       "      <td>1288.0</td>\n",
       "      <td>0.000033</td>\n",
       "      <td>0.000004</td>\n",
       "      <td>6.603000e-09</td>\n",
       "      <td>1.870000e-09</td>\n",
       "      <td>0.000939</td>\n",
       "      <td>1.408000e-09</td>\n",
       "      <td>6.603000e-09</td>\n",
       "      <td>5.865785</td>\n",
       "      <td>0.001085</td>\n",
       "      <td>0.000779</td>\n",
       "    </tr>\n",
       "    <tr>\n",
       "      <th>2</th>\n",
       "      <td>ATHPQFAT</td>\n",
       "      <td>8</td>\n",
       "      <td>871.949</td>\n",
       "      <td>4973.0</td>\n",
       "      <td>1288.0</td>\n",
       "      <td>0.000033</td>\n",
       "      <td>0.000004</td>\n",
       "      <td>6.603000e-09</td>\n",
       "      <td>1.870000e-09</td>\n",
       "      <td>0.000982</td>\n",
       "      <td>1.414000e-09</td>\n",
       "      <td>6.603000e-09</td>\n",
       "      <td>5.234234</td>\n",
       "      <td>0.000832</td>\n",
       "      <td>0.000806</td>\n",
       "    </tr>\n",
       "    <tr>\n",
       "      <th>3</th>\n",
       "      <td>CTHPQFAT</td>\n",
       "      <td>8</td>\n",
       "      <td>904.009</td>\n",
       "      <td>3875.0</td>\n",
       "      <td>1007.0</td>\n",
       "      <td>0.000052</td>\n",
       "      <td>0.000004</td>\n",
       "      <td>1.333000e-08</td>\n",
       "      <td>3.647000e-09</td>\n",
       "      <td>0.000883</td>\n",
       "      <td>2.157000e-09</td>\n",
       "      <td>1.333000e-08</td>\n",
       "      <td>6.570487</td>\n",
       "      <td>0.001051</td>\n",
       "      <td>0.000746</td>\n",
       "    </tr>\n",
       "    <tr>\n",
       "      <th>4</th>\n",
       "      <td>CTHPQFAT</td>\n",
       "      <td>8</td>\n",
       "      <td>904.009</td>\n",
       "      <td>3875.0</td>\n",
       "      <td>1007.0</td>\n",
       "      <td>0.000052</td>\n",
       "      <td>0.000004</td>\n",
       "      <td>1.333000e-08</td>\n",
       "      <td>3.647000e-09</td>\n",
       "      <td>0.000894</td>\n",
       "      <td>2.083000e-09</td>\n",
       "      <td>1.333000e-08</td>\n",
       "      <td>5.504557</td>\n",
       "      <td>0.001018</td>\n",
       "      <td>0.000612</td>\n",
       "    </tr>\n",
       "  </tbody>\n",
       "</table>\n",
       "</div>"
      ],
      "text/plain": [
       "    Peptide  Peptide Length  Peptide Weight     kon  kon Err      koff  \\\n",
       "0  ATHPQFAT               8         871.949  4973.0   1288.0  0.000033   \n",
       "1  ATHPQFAT               8         871.949  4973.0   1288.0  0.000033   \n",
       "2  ATHPQFAT               8         871.949  4973.0   1288.0  0.000033   \n",
       "3  CTHPQFAT               8         904.009  3875.0   1007.0  0.000052   \n",
       "4  CTHPQFAT               8         904.009  3875.0   1007.0  0.000052   \n",
       "\n",
       "   koff Err            Kd        Kd Err     Scale        Kd Max       Kd Best  \\\n",
       "0  0.000004  6.603000e-09  1.870000e-09  0.000697  2.112000e-09  6.603000e-09   \n",
       "1  0.000004  6.603000e-09  1.870000e-09  0.000939  1.408000e-09  6.603000e-09   \n",
       "2  0.000004  6.603000e-09  1.870000e-09  0.000982  1.414000e-09  6.603000e-09   \n",
       "3  0.000004  1.333000e-08  3.647000e-09  0.000883  2.157000e-09  1.333000e-08   \n",
       "4  0.000004  1.333000e-08  3.647000e-09  0.000894  2.083000e-09  1.333000e-08   \n",
       "\n",
       "   Assoc SNR  Assoc Signal  Dissoc Signal  \n",
       "0   3.099982      0.000825       0.000553  \n",
       "1   5.865785      0.001085       0.000779  \n",
       "2   5.234234      0.000832       0.000806  \n",
       "3   6.570487      0.001051       0.000746  \n",
       "4   5.504557      0.001018       0.000612  "
      ]
     },
     "execution_count": 3,
     "metadata": {},
     "output_type": "execute_result"
    }
   ],
   "source": [
    "df.head()"
   ]
  },
  {
   "cell_type": "markdown",
   "metadata": {
    "deletable": true,
    "editable": true
   },
   "source": [
    "# Aggregate by peptides\n",
    "\n",
    "In my KIN file, curves are partitioned by their label (peptide name). Each sets contains curves from the same peptide and curve from the peptide of the same name is put into one set.\n",
    "\n",
    "I combine my Fit and Endpoint data by peptide name.\n",
    "\n",
    "In global fit $\\mathbf{K_d}$ and $\\mathbf{Err(K_d)}$ are the same for each curve in the set, so I can pick any value (I pick first).\n",
    "\n",
    "**Scale**, **SNR** and **Association Signal** vary from curve to curve within a given set. I pick maximal value in each set (corresponds to strongest reaction among targets of the same peptide type).\n",
    "\n",
    "### $\\mathbf{K_d^{(best)}}$ treatment\n",
    "I argue that for $\\mathbf{K_d^{(best)}}$ I should pick minimal value within a set. Here is my reasoning.\n",
    "\n",
    "For a given curve, we can calculate $k_{off}^{(max)}$, which corresponds to a detection limit of dissociation rate in a curve with given noise. If this value exceeds $k_{off}$ yielded by a fitting algorith, we assume that $k_{off}$ from the fit is unreliable and report $K_d^{(best)} = \\dfrac{k_{off}^{(max)}}{k_{on}}$ as an upper bound of $K_d$ value (it's our detection limit).\n",
    "\n",
    "If fit value for $k_{off}$ exceeds detection limit of $k_{off}^{(max)}$, we simply report $K_d^{(best)} = \\dfrac{k_{off}}{k_{on}}$.\n",
    "\n",
    "When we have several curves in a set, three fitting outcomes are possible:\n",
    "\n",
    "- In all cases $K_d^{(best)} = K_d$. In this case all fitted dissociation rates are the same and above detection limit. All $K_d^((best))$ values are also the same and we can report any one of them.\n",
    "\n",
    "- Some curves have dissociation rate above detection limit and $K_d^{(best)} = K_d$ (the same value for all such curves) and some have $K_d^{(best)} > K_d$ (values of such $K_d^{(best)}$ can vary from curve to curve. We should report $K_d$ from the curves of the first type. It is equal to minimal $K_d^{(best)}$ value in the set.\n",
    "\n",
    "- All curves have $K_d^{(best)} > K_d$ and all values are different. Each of them gives us an upper bound of $K_d$. Limited by detection power, we don't know exact value of $K_d$, but we know that it does not exceed a certain threshold, defined by the noisiness of the curve. Obviously, we should choose the strongest statement and report minimal of $K_d^{(best)}$ values in this case. We should also keep in mind that, unlike in the previous two cases, this $K_d^{(best)}$ is merely an upper boundary of $K_d$, not an actual $K_d$ value.\n",
    "\n",
    "I introduce a special flag **Upper Bound** (true or false) to distinguish between $K_d^{(best)}$ values of two kinds."
   ]
  },
  {
   "cell_type": "code",
   "execution_count": 4,
   "metadata": {
    "collapsed": false,
    "deletable": true,
    "editable": true
   },
   "outputs": [
    {
     "name": "stderr",
     "output_type": "stream",
     "text": [
      "/usr/local/lib/python2.7/dist-packages/numpy/core/_methods.py:135: RuntimeWarning: Degrees of freedom <= 0 for slice\n",
      "  keepdims=keepdims)\n",
      "/usr/local/lib/python2.7/dist-packages/numpy/core/_methods.py:127: RuntimeWarning: invalid value encountered in double_scalars\n",
      "  ret = ret.dtype.type(ret / rcount)\n",
      "/usr/local/lib/python2.7/dist-packages/ipykernel/__main__.py:56: FutureWarning: sort(columns=....) is deprecated, use sort_values(by=.....)\n"
     ]
    },
    {
     "data": {
      "text/html": [
       "<div>\n",
       "<table border=\"1\" class=\"dataframe\">\n",
       "  <thead>\n",
       "    <tr style=\"text-align: right;\">\n",
       "      <th></th>\n",
       "      <th>Peptide</th>\n",
       "      <th>Peptide Length</th>\n",
       "      <th>Peptide Weight</th>\n",
       "      <th>Number of Spots</th>\n",
       "      <th>kon</th>\n",
       "      <th>kon Err</th>\n",
       "      <th>koff</th>\n",
       "      <th>koff Err</th>\n",
       "      <th>Kd Fit</th>\n",
       "      <th>Kd Best</th>\n",
       "      <th>Kd Max</th>\n",
       "      <th>Kd Err</th>\n",
       "      <th>Scale Max</th>\n",
       "      <th>Assoc SNR Max</th>\n",
       "      <th>Assoc Signal Max</th>\n",
       "      <th>Dissoc Signal Mean</th>\n",
       "      <th>Dissoc Signal SE</th>\n",
       "    </tr>\n",
       "  </thead>\n",
       "  <tbody>\n",
       "    <tr>\n",
       "      <th>0</th>\n",
       "      <td>ATHPQFAT</td>\n",
       "      <td>8</td>\n",
       "      <td>871.949</td>\n",
       "      <td>3</td>\n",
       "      <td>4973.0</td>\n",
       "      <td>1288.0</td>\n",
       "      <td>0.000033</td>\n",
       "      <td>0.000004</td>\n",
       "      <td>6.603000e-09</td>\n",
       "      <td>6.603000e-09</td>\n",
       "      <td>1.408000e-09</td>\n",
       "      <td>1.870000e-09</td>\n",
       "      <td>0.000982</td>\n",
       "      <td>5.865785</td>\n",
       "      <td>0.001085</td>\n",
       "      <td>0.000713</td>\n",
       "      <td>0.000080</td>\n",
       "    </tr>\n",
       "    <tr>\n",
       "      <th>1</th>\n",
       "      <td>CTHPQFAT</td>\n",
       "      <td>8</td>\n",
       "      <td>904.009</td>\n",
       "      <td>3</td>\n",
       "      <td>3875.0</td>\n",
       "      <td>1007.0</td>\n",
       "      <td>0.000052</td>\n",
       "      <td>0.000004</td>\n",
       "      <td>1.333000e-08</td>\n",
       "      <td>1.333000e-08</td>\n",
       "      <td>2.083000e-09</td>\n",
       "      <td>3.647000e-09</td>\n",
       "      <td>0.000966</td>\n",
       "      <td>6.570487</td>\n",
       "      <td>0.001051</td>\n",
       "      <td>0.000734</td>\n",
       "      <td>0.000067</td>\n",
       "    </tr>\n",
       "    <tr>\n",
       "      <th>2</th>\n",
       "      <td>DTHPQFAT</td>\n",
       "      <td>8</td>\n",
       "      <td>915.959</td>\n",
       "      <td>2</td>\n",
       "      <td>7128.0</td>\n",
       "      <td>2459.0</td>\n",
       "      <td>0.000029</td>\n",
       "      <td>0.000004</td>\n",
       "      <td>4.131000e-09</td>\n",
       "      <td>4.131000e-09</td>\n",
       "      <td>9.709000e-10</td>\n",
       "      <td>1.547000e-09</td>\n",
       "      <td>0.001098</td>\n",
       "      <td>6.878876</td>\n",
       "      <td>0.001325</td>\n",
       "      <td>0.000952</td>\n",
       "      <td>0.000038</td>\n",
       "    </tr>\n",
       "    <tr>\n",
       "      <th>3</th>\n",
       "      <td>ETHPQFAT</td>\n",
       "      <td>8</td>\n",
       "      <td>929.986</td>\n",
       "      <td>2</td>\n",
       "      <td>7389.0</td>\n",
       "      <td>2812.0</td>\n",
       "      <td>0.000027</td>\n",
       "      <td>0.000005</td>\n",
       "      <td>3.669000e-09</td>\n",
       "      <td>3.669000e-09</td>\n",
       "      <td>1.022000e-09</td>\n",
       "      <td>1.531000e-09</td>\n",
       "      <td>0.001172</td>\n",
       "      <td>4.340134</td>\n",
       "      <td>0.001046</td>\n",
       "      <td>0.000853</td>\n",
       "      <td>0.000351</td>\n",
       "    </tr>\n",
       "    <tr>\n",
       "      <th>4</th>\n",
       "      <td>FTHPQFAT</td>\n",
       "      <td>8</td>\n",
       "      <td>948.047</td>\n",
       "      <td>2</td>\n",
       "      <td>9170.0</td>\n",
       "      <td>3755.0</td>\n",
       "      <td>0.000012</td>\n",
       "      <td>0.000004</td>\n",
       "      <td>1.286000e-09</td>\n",
       "      <td>1.286000e-09</td>\n",
       "      <td>8.504000e-10</td>\n",
       "      <td>7.046000e-10</td>\n",
       "      <td>0.001123</td>\n",
       "      <td>7.917861</td>\n",
       "      <td>0.001299</td>\n",
       "      <td>0.000893</td>\n",
       "      <td>0.000125</td>\n",
       "    </tr>\n",
       "  </tbody>\n",
       "</table>\n",
       "</div>"
      ],
      "text/plain": [
       "    Peptide  Peptide Length  Peptide Weight  Number of Spots     kon  kon Err  \\\n",
       "0  ATHPQFAT               8         871.949                3  4973.0   1288.0   \n",
       "1  CTHPQFAT               8         904.009                3  3875.0   1007.0   \n",
       "2  DTHPQFAT               8         915.959                2  7128.0   2459.0   \n",
       "3  ETHPQFAT               8         929.986                2  7389.0   2812.0   \n",
       "4  FTHPQFAT               8         948.047                2  9170.0   3755.0   \n",
       "\n",
       "       koff  koff Err        Kd Fit       Kd Best        Kd Max        Kd Err  \\\n",
       "0  0.000033  0.000004  6.603000e-09  6.603000e-09  1.408000e-09  1.870000e-09   \n",
       "1  0.000052  0.000004  1.333000e-08  1.333000e-08  2.083000e-09  3.647000e-09   \n",
       "2  0.000029  0.000004  4.131000e-09  4.131000e-09  9.709000e-10  1.547000e-09   \n",
       "3  0.000027  0.000005  3.669000e-09  3.669000e-09  1.022000e-09  1.531000e-09   \n",
       "4  0.000012  0.000004  1.286000e-09  1.286000e-09  8.504000e-10  7.046000e-10   \n",
       "\n",
       "   Scale Max  Assoc SNR Max  Assoc Signal Max  Dissoc Signal Mean  \\\n",
       "0   0.000982       5.865785          0.001085            0.000713   \n",
       "1   0.000966       6.570487          0.001051            0.000734   \n",
       "2   0.001098       6.878876          0.001325            0.000952   \n",
       "3   0.001172       4.340134          0.001046            0.000853   \n",
       "4   0.001123       7.917861          0.001299            0.000893   \n",
       "\n",
       "   Dissoc Signal SE  \n",
       "0          0.000080  \n",
       "1          0.000067  \n",
       "2          0.000038  \n",
       "3          0.000351  \n",
       "4          0.000125  "
      ]
     },
     "execution_count": 4,
     "metadata": {},
     "output_type": "execute_result"
    }
   ],
   "source": [
    "f = {'Peptide'        : 'count',\n",
    "     \n",
    "     'Peptide Length' : 'first',\n",
    "     'Peptide Weight' : 'first',\n",
    "     \n",
    "     'kon'            : 'first',\n",
    "     'kon Err'        : 'first',\n",
    "     'koff'           : 'first',     \n",
    "     'koff Err'       : 'first',\n",
    "     'Kd'             : 'first',\n",
    "     'Kd Err'         : 'first',\n",
    "     \n",
    "     'Kd Best'        : 'min',\n",
    "     'Kd Max'         : 'min',\n",
    "     \n",
    "     'Scale'          : 'max',\n",
    "     'Assoc SNR'      : 'max',\n",
    "     'Assoc Signal'   : 'max',\n",
    "    \n",
    "     'Dissoc Signal'  : 'mean',\n",
    "     'DS tmp'         : stats.sem,\n",
    "    }\n",
    "\n",
    "rename = {'Peptide'       : 'Number of Spots',\n",
    "          'Kd'            : 'Kd Fit',\n",
    "          'Scale'         : 'Scale Max',\n",
    "          'Assoc Signal'  : 'Assoc Signal Max',\n",
    "          'Assoc SNR'     : 'Assoc SNR Max',\n",
    "          'Dissoc Signal' : 'Dissoc Signal Mean',\n",
    "          'DS tmp'        : 'Dissoc Signal SE'}\n",
    "\n",
    "columns = ['Peptide',\n",
    "           'Peptide Length',\n",
    "           'Peptide Weight',\n",
    "           'Number of Spots',\n",
    "           'kon',\n",
    "           'kon Err',\n",
    "           'koff',\n",
    "           'koff Err',\n",
    "           'Kd Fit',\n",
    "           'Kd Best',\n",
    "           'Kd Max',\n",
    "           'Kd Err',\n",
    "           'Scale Max',\n",
    "           'Assoc SNR Max',\n",
    "           'Assoc Signal Max',\n",
    "           'Dissoc Signal Mean',\n",
    "           'Dissoc Signal SE']\n",
    "\n",
    "df['DS tmp'] = df['Dissoc Signal']\n",
    "aggregated = df.groupby(['Peptide']).agg(f)\n",
    "df.drop('DS tmp', axis = 1, inplace = True)\n",
    "\n",
    "aggregated = aggregated.rename(columns = rename)\n",
    "aggregated.reset_index(inplace = True)\n",
    "aggregated = aggregated[columns].sort(['Peptide Length', 'Peptide'])\n",
    "aggregated.reset_index(drop = True, inplace = True)\n",
    "aggregated.head()"
   ]
  },
  {
   "cell_type": "markdown",
   "metadata": {
    "deletable": true,
    "editable": true
   },
   "source": [
    "# Flagging Reactions"
   ]
  },
  {
   "cell_type": "code",
   "execution_count": 9,
   "metadata": {
    "collapsed": false,
    "deletable": true,
    "editable": true
   },
   "outputs": [
    {
     "name": "stdout",
     "output_type": "stream",
     "text": [
      "We have to impose Kd* = 30000 nM = 30 uM = 0.00003 M on non-reactive spots rather than use fit result.\n"
     ]
    },
    {
     "data": {
      "image/png": "[encoded data removed]",
      "text/plain": [
       "<matplotlib.figure.Figure at 0x7ff7c6893510>"
      ]
     },
     "metadata": {},
     "output_type": "display_data"
    }
   ],
   "source": [
    "snr_threshold   = 2\n",
    "scale_threshold = 0.0004\n",
    "\n",
    "aggregated['Reaction'] = (aggregated['Assoc SNR Max'] > snr_threshold) & \\\n",
    "                         (aggregated['Scale Max'] > scale_threshold)\n",
    "\n",
    "sns.distplot(np.log10(aggregated[ aggregated['Reaction']]['Kd Best']), label =   'Reaction')\n",
    "sns.distplot(np.log10(aggregated[~aggregated['Reaction']]['Kd Best']), label ='No Reaction')\n",
    "plt.xlabel('$\\log_{10}\\mathbf{\\ K_d^{(best)}}}$', fontsize = 18)\n",
    "plt.legend(fontsize = 16, loc = 2)\n",
    "print 'We have to impose Kd* = 30000 nM = 30 uM = 0.00003 M on non-reactive spots rather than use fit result.'"
   ]
  },
  {
   "cell_type": "markdown",
   "metadata": {
    "deletable": true,
    "editable": true
   },
   "source": [
    "# Explore Errorbars (Reacted Peptides)"
   ]
  },
  {
   "cell_type": "code",
   "execution_count": 10,
   "metadata": {
    "collapsed": false,
    "deletable": true,
    "editable": true
   },
   "outputs": [
    {
     "name": "stdout",
     "output_type": "stream",
     "text": [
      "Peptides with kon < Err(kon)\n"
     ]
    },
    {
     "data": {
      "text/plain": [
       "185    LQCHPQAGK\n",
       "282    LQWHPQNGK\n",
       "Name: Peptide, dtype: object"
      ]
     },
     "execution_count": 10,
     "metadata": {},
     "output_type": "execute_result"
    }
   ],
   "source": [
    "reacted = aggregated[aggregated['Reaction']]\n",
    "\n",
    "print 'Peptides with kon < Err(kon)'\n",
    "reacted[reacted['kon']  < reacted['kon Err']]['Peptide']"
   ]
  },
  {
   "cell_type": "code",
   "execution_count": 11,
   "metadata": {
    "collapsed": false,
    "deletable": true,
    "editable": true
   },
   "outputs": [
    {
     "name": "stdout",
     "output_type": "stream",
     "text": [
      "Peptides with koff < Err(koff)\n"
     ]
    },
    {
     "data": {
      "text/plain": [
       "103     WTHPQFHT\n",
       "268    LQWHPQATK\n",
       "269    LQWHPQAVK\n",
       "282    LQWHPQNGK\n",
       "Name: Peptide, dtype: object"
      ]
     },
     "execution_count": 11,
     "metadata": {},
     "output_type": "execute_result"
    }
   ],
   "source": [
    "print 'Peptides with koff < Err(koff)'\n",
    "reacted[reacted['koff']  < reacted['koff Err']]['Peptide']"
   ]
  },
  {
   "cell_type": "code",
   "execution_count": 12,
   "metadata": {
    "collapsed": false,
    "deletable": true,
    "editable": true
   },
   "outputs": [
    {
     "name": "stdout",
     "output_type": "stream",
     "text": [
      "Peptides with Kd_best < Err(Kd)\n"
     ]
    },
    {
     "data": {
      "text/plain": [
       "185    LQCHPQAGK\n",
       "282    LQWHPQNGK\n",
       "Name: Peptide, dtype: object"
      ]
     },
     "execution_count": 12,
     "metadata": {},
     "output_type": "execute_result"
    }
   ],
   "source": [
    "print 'Peptides with Kd_best < Err(Kd)'\n",
    "reacted[reacted['Kd Best'] < reacted['Kd Err']]['Peptide']"
   ]
  },
  {
   "cell_type": "markdown",
   "metadata": {
    "deletable": true,
    "editable": true
   },
   "source": [
    "# Kd, Ka, Lower and Upper Limits"
   ]
  },
  {
   "cell_type": "code",
   "execution_count": 13,
   "metadata": {
    "collapsed": false,
    "deletable": true,
    "editable": true
   },
   "outputs": [
    {
     "name": "stdout",
     "output_type": "stream",
     "text": [
      "There are 334 peptides in the data set.\n",
      "\n",
      "There are 138 non-reactive petides among them.\n",
      "\n",
      "There are 9 reactive peptides with Kd_best > Kd_fit.\n",
      "For them we report Kd_best as an upper bound of Kd and 1/Kd_best as lower bound of Ka.\n",
      "\n",
      "There are 0 reactive peptides left with Kd_lower < 0.\n",
      "For these peptides we report Kd + Err(Kd) as upper bound of Kd and 1/(Kd + Err(Kd)) as lower bound of Ka.\n",
      "Here are these peptides:\n"
     ]
    },
    {
     "data": {
      "text/html": [
       "<div>\n",
       "<table border=\"1\" class=\"dataframe\">\n",
       "  <thead>\n",
       "    <tr style=\"text-align: right;\">\n",
       "      <th></th>\n",
       "      <th>Peptide</th>\n",
       "      <th>kon</th>\n",
       "      <th>kon Err</th>\n",
       "      <th>koff</th>\n",
       "      <th>koff Err</th>\n",
       "      <th>Kd Best</th>\n",
       "      <th>Kd Err</th>\n",
       "      <th>Assoc SNR Max</th>\n",
       "      <th>Scale Max</th>\n",
       "    </tr>\n",
       "  </thead>\n",
       "  <tbody>\n",
       "  </tbody>\n",
       "</table>\n",
       "</div>"
      ],
      "text/plain": [
       "Empty DataFrame\n",
       "Columns: [Peptide, kon, kon Err, koff, koff Err, Kd Best, Kd Err, Assoc SNR Max, Scale Max]\n",
       "Index: []"
      ]
     },
     "metadata": {},
     "output_type": "display_data"
    }
   ],
   "source": [
    "nonreactive_kd  = 3 * 10**(-5)\n",
    "\n",
    "# create final Kd, lower and upper bounds\n",
    "print 'There are', len(aggregated), 'peptides in the data set.\\n'\n",
    "aggregated['Kd Final Lower'] = aggregated['Kd Best'] - aggregated['Kd Err']\n",
    "aggregated['Kd Final']       = aggregated['Kd Best']\n",
    "aggregated['Kd Final Upper'] = aggregated['Kd Best'] + aggregated['Kd Err']\n",
    "\n",
    "# for non-reactive peptides, Kd_lower = Kd = nonreactive_kd, Kd_upper = inf\n",
    "print 'There are', sum(~aggregated['Reaction']), 'non-reactive petides among them.\\n'\n",
    "aggregated.loc[~aggregated['Reaction'], 'Kd Final Lower'] = nonreactive_kd\n",
    "aggregated.loc[~aggregated['Reaction'], 'Kd Final']       = nonreactive_kd\n",
    "aggregated.loc[~aggregated['Reaction'], 'Kd Final Upper'] = np.inf\n",
    "\n",
    "# for reactive peptides with Kd_best > Kd, set Kd_lower = 0, Kd = Kd_upper = Kd_best\n",
    "to_filter = (aggregated['Kd Best'] > aggregated['Kd Fit']) & aggregated['Reaction']\n",
    "print 'There are', sum(to_filter), 'reactive peptides with Kd_best > Kd_fit.'\n",
    "print 'For them we report Kd_best as an upper bound of Kd and 1/Kd_best as lower bound of Ka.\\n'\n",
    "aggregated.loc[to_filter, 'Kd Final Lower'] = 0\n",
    "aggregated.loc[to_filter, 'Kd Final']       = aggregated.loc[to_filter, 'Kd Best']\n",
    "aggregated.loc[to_filter, 'Kd Final Upper'] = aggregated.loc[to_filter, 'Kd Best']\n",
    "    \n",
    "# if Kd_lower < 0, set it to 0. Set Kd and Kd_upper to Kd + Err(Kd)\n",
    "to_filter = (aggregated['Kd Final Lower'] < 0) & aggregated['Reaction']\n",
    "print 'There are', sum(to_filter), 'reactive peptides left with Kd_lower < 0.'\n",
    "print 'For these peptides we report Kd + Err(Kd) as upper bound of Kd and 1/(Kd + Err(Kd)) as lower bound of Ka.'\n",
    "print 'Here are these peptides:'\n",
    "display( aggregated[to_filter][['Peptide',\n",
    "                                'kon',     'kon Err',\n",
    "                                'koff',    'koff Err',\n",
    "                                'Kd Best', 'Kd Err',\n",
    "                                'Assoc SNR Max', 'Scale Max']] )\n",
    "\n",
    "aggregated.loc[to_filter, 'Kd Final Lower'] = 0\n",
    "aggregated.loc[to_filter, 'Kd Final']       = aggregated.loc[to_filter, 'Kd Best'] + \\\n",
    "                                              aggregated.loc[to_filter, 'Kd Err']\n",
    "aggregated.loc[to_filter, 'Kd Final Upper'] = aggregated.loc[to_filter, 'Kd Best'] + \\\n",
    "                                              aggregated.loc[to_filter, 'Kd Err']\n",
    "    \n",
    "# create Ka, lower and upper bounds\n",
    "aggregated['Ka Final Lower'] = 1 / aggregated['Kd Final Upper']\n",
    "aggregated['Ka Final']       = 1 / aggregated['Kd Final']\n",
    "aggregated['Ka Final Upper'] = 1 / aggregated['Kd Final Lower']"
   ]
  },
  {
   "cell_type": "markdown",
   "metadata": {
    "deletable": true,
    "editable": true
   },
   "source": [
    "**HOW ARE ERR(KON) AND ERR(KOFF) CALCULATED?**\n",
    "**CAN WE USE SQRT FORMULA FOR ERR(KD)?**\n",
    "\n",
    "- **WTHPQKAT**:  Two curves. Relatively weak. In global fit $k_{on} > \\text{Err }(k_{on})$ and $k_{off} > \\text{Err }(k_{off})$. However, $\\dfrac{\\text{Err }(K_d)}{K_d} = \\sqrt{ \\left( \\dfrac{\\text{Err }( k_{on})}{k_{on}} \\right) ^2 + \\left( \\dfrac{\\text{Err }( k_{off})}{k_{off}} \\right) ^2} > 1$.\n",
    "\n",
    "If I try to fit locally, I and up with $K_d < \\text{Err }(K_d)$ for each curve, so dropping one of the curves won't help in this case.\n",
    "\n",
    "\n",
    "- **LQWHPFAGK**: three curves. Relatively weak. In all three curves $k_{on} < \\text{Err }(k_{on})$, whether I fit locally, globally on the whole set or any subset, which leads to $K_d < \\text{Err }(K_d)$ of the global fit. Dropping a curve or curves does not help.\n",
    "\n",
    "\n",
    "- **LQWHPFHGK**: two curves. Relatively weak. In both curves $k_{on} < \\text{Err }(k_{on})$, whether I fit locally or globally, which leads to $K_d < \\text{Err }(K_d)$ of the global fit. Dropping either curve won't help.\n",
    "\n",
    "\n",
    "Here are images of these peptides' curves:\n",
    "\n",
    "<img src = 'Problematic peptides (big error).png', style=\"width: 600px;\"/>"
   ]
  },
  {
   "cell_type": "code",
   "execution_count": 14,
   "metadata": {
    "collapsed": false,
    "deletable": true,
    "editable": true
   },
   "outputs": [
    {
     "data": {
      "text/plain": [
       "<matplotlib.legend.Legend at 0x7ff7c45dab90>"
      ]
     },
     "execution_count": 14,
     "metadata": {},
     "output_type": "execute_result"
    },
    {
     "data": {
      "image/png": "[encoded data removed]",
      "text/plain": [
       "<matplotlib.figure.Figure at 0x7ff7f8d061d0>"
      ]
     },
     "metadata": {},
     "output_type": "display_data"
    }
   ],
   "source": [
    "sns.distplot(aggregated[ aggregated['Reaction']]['Assoc SNR Max'], label =   'Reaction')\n",
    "sns.distplot(aggregated[~aggregated['Reaction']]['Assoc SNR Max'], label ='No Reaction')\n",
    "plt.xlabel('Association SNR', fontsize = 18)\n",
    "plt.legend(fontsize = 16)"
   ]
  },
  {
   "cell_type": "code",
   "execution_count": 15,
   "metadata": {
    "collapsed": false,
    "deletable": true,
    "editable": true
   },
   "outputs": [
    {
     "data": {
      "text/plain": [
       "<matplotlib.legend.Legend at 0x7ff7c44c9d10>"
      ]
     },
     "execution_count": 15,
     "metadata": {},
     "output_type": "execute_result"
    },
    {
     "data": {
      "image/png": "[encoded data removed]",
      "text/plain": [
       "<matplotlib.figure.Figure at 0x7ff7c44c9650>"
      ]
     },
     "metadata": {},
     "output_type": "display_data"
    }
   ],
   "source": [
    "sns.distplot(aggregated[ aggregated['Reaction']]['Scale Max'] * 1000, label =    'Reaction')\n",
    "sns.distplot(aggregated[~aggregated['Reaction']]['Scale Max'] * 1000, label = 'No Reaction', bins = 100)\n",
    "plt.xlabel('Scale [mrad]', fontsize = 18)\n",
    "plt.xlim(-1, 2.5)\n",
    "plt.legend(fontsize = 16)"
   ]
  },
  {
   "cell_type": "code",
   "execution_count": 34,
   "metadata": {
    "collapsed": false,
    "deletable": true,
    "editable": true
   },
   "outputs": [
    {
     "name": "stdout",
     "output_type": "stream",
     "text": [
      "Minimal k_on among reacted spots is (557.5, '1/(s*M)')\n",
      "At P_0 = 3 uM it takes approximately 5.0 minutes to reach 1/2 saturation coverage.\n"
     ]
    }
   ],
   "source": [
    "# sns.distplot(aggregated[ aggregated['Reaction']]['kon'] * 10**9, label =    'Reaction', bins = 100)\n",
    "# # sns.distplot(aggregated[~aggregated['Reaction']]['kon'] * 10**9, label = 'No Reaction', bins = 100)\n",
    "# plt.xlabel('kon [1/s $\\cdot$ M]', fontsize = 18)\n",
    "# # plt.xlim(-1, 2.5)\n",
    "# plt.legend(fontsize = 16)\n",
    "min_kon = min(aggregated[ aggregated['Reaction']]['kon']), '1/(s*M)'\n",
    "print 'Minimal k_on among reacted spots is', min_kon\n",
    "print 'At P_0 = 3 uM it takes approximately', round(1/(2 * 3*10**-6 * min_kon[0] * 60), 1), \\\n",
    "      'minutes to reach 1/2 saturation coverage.'"
   ]
  },
  {
   "cell_type": "code",
   "execution_count": 12,
   "metadata": {
    "collapsed": false,
    "deletable": true,
    "editable": true
   },
   "outputs": [
    {
     "name": "stdout",
     "output_type": "stream",
     "text": [
      "How many reactive and non-reactive peptides of length 8 and 9 we have?\n",
      "In how many cases only Upper Bound Kd is available?\n",
      "(Peptide is reactive, but we know only lower bound of Ka because k_off is below detection limit.)\n"
     ]
    },
    {
     "data": {
      "text/html": [
       "<div>\n",
       "<table border=\"1\" class=\"dataframe\">\n",
       "  <thead>\n",
       "    <tr style=\"text-align: right;\">\n",
       "      <th></th>\n",
       "      <th></th>\n",
       "      <th>Number of All Kds</th>\n",
       "      <th>Number of Upper Bound Kds</th>\n",
       "    </tr>\n",
       "    <tr>\n",
       "      <th>Peptide Length</th>\n",
       "      <th>Reaction</th>\n",
       "      <th></th>\n",
       "      <th></th>\n",
       "    </tr>\n",
       "  </thead>\n",
       "  <tbody>\n",
       "    <tr>\n",
       "      <th rowspan=\"2\" valign=\"top\">8</th>\n",
       "      <th>False</th>\n",
       "      <td>74</td>\n",
       "      <td>0</td>\n",
       "    </tr>\n",
       "    <tr>\n",
       "      <th>True</th>\n",
       "      <td>88</td>\n",
       "      <td>1</td>\n",
       "    </tr>\n",
       "    <tr>\n",
       "      <th rowspan=\"2\" valign=\"top\">9</th>\n",
       "      <th>False</th>\n",
       "      <td>64</td>\n",
       "      <td>0</td>\n",
       "    </tr>\n",
       "    <tr>\n",
       "      <th>True</th>\n",
       "      <td>108</td>\n",
       "      <td>8</td>\n",
       "    </tr>\n",
       "  </tbody>\n",
       "</table>\n",
       "</div>"
      ],
      "text/plain": [
       "                         Number of All Kds  Number of Upper Bound Kds\n",
       "Peptide Length Reaction                                              \n",
       "8              False                    74                          0\n",
       "               True                     88                          1\n",
       "9              False                    64                          0\n",
       "               True                    108                          8"
      ]
     },
     "execution_count": 12,
     "metadata": {},
     "output_type": "execute_result"
    }
   ],
   "source": [
    "tmp = aggregated.groupby(['Peptide Length', 'Reaction']).agg({'Kd Final Lower' : [len, np.count_nonzero]})\n",
    "tmp.columns =  ['Number of All Kds', 'Number of Upper Bound Kds']\n",
    "tmp['Number of Upper Bound Kds'] = tmp['Number of All Kds'] - tmp['Number of Upper Bound Kds']\n",
    "print 'How many reactive and non-reactive peptides of length 8 and 9 we have?'\n",
    "print 'In how many cases only Upper Bound Kd is available?'\n",
    "print '(Peptide is reactive, but we know only lower bound of Ka because k_off is below detection limit.)'\n",
    "tmp"
   ]
  },
  {
   "cell_type": "code",
   "execution_count": 13,
   "metadata": {
    "collapsed": false,
    "deletable": true,
    "editable": true
   },
   "outputs": [
    {
     "name": "stdout",
     "output_type": "stream",
     "text": [
      "How many reactive and non-reactive peptides of length 8 and 9 we have?\n",
      "In how many cases only Lower Bound Kd is available?\n",
      "(Peptide is non-reactive, so we know only upper bound of Ka.)\n"
     ]
    },
    {
     "data": {
      "text/html": [
       "<div>\n",
       "<table border=\"1\" class=\"dataframe\">\n",
       "  <thead>\n",
       "    <tr style=\"text-align: right;\">\n",
       "      <th></th>\n",
       "      <th></th>\n",
       "      <th>Number of All Kds</th>\n",
       "      <th>Number of Lower Bound Kds</th>\n",
       "    </tr>\n",
       "    <tr>\n",
       "      <th>Peptide Length</th>\n",
       "      <th>Reaction</th>\n",
       "      <th></th>\n",
       "      <th></th>\n",
       "    </tr>\n",
       "  </thead>\n",
       "  <tbody>\n",
       "    <tr>\n",
       "      <th rowspan=\"2\" valign=\"top\">8</th>\n",
       "      <th>False</th>\n",
       "      <td>74</td>\n",
       "      <td>74</td>\n",
       "    </tr>\n",
       "    <tr>\n",
       "      <th>True</th>\n",
       "      <td>88</td>\n",
       "      <td>0</td>\n",
       "    </tr>\n",
       "    <tr>\n",
       "      <th rowspan=\"2\" valign=\"top\">9</th>\n",
       "      <th>False</th>\n",
       "      <td>64</td>\n",
       "      <td>64</td>\n",
       "    </tr>\n",
       "    <tr>\n",
       "      <th>True</th>\n",
       "      <td>108</td>\n",
       "      <td>0</td>\n",
       "    </tr>\n",
       "  </tbody>\n",
       "</table>\n",
       "</div>"
      ],
      "text/plain": [
       "                         Number of All Kds  Number of Lower Bound Kds\n",
       "Peptide Length Reaction                                              \n",
       "8              False                    74                         74\n",
       "               True                     88                          0\n",
       "9              False                    64                         64\n",
       "               True                    108                          0"
      ]
     },
     "execution_count": 13,
     "metadata": {},
     "output_type": "execute_result"
    }
   ],
   "source": [
    "tmp = aggregated.groupby(['Peptide Length', 'Reaction']).agg({'Ka Final Lower' : [len, np.count_nonzero]})\n",
    "tmp.columns =  ['Number of All Kds', 'Number of Lower Bound Kds']\n",
    "tmp['Number of Lower Bound Kds'] = tmp['Number of All Kds'] - tmp['Number of Lower Bound Kds']\n",
    "print 'How many reactive and non-reactive peptides of length 8 and 9 we have?'\n",
    "print 'In how many cases only Lower Bound Kd is available?'\n",
    "print '(Peptide is non-reactive, so we know only upper bound of Ka.)'\n",
    "tmp"
   ]
  },
  {
   "cell_type": "code",
   "execution_count": 14,
   "metadata": {
    "collapsed": false,
    "deletable": true,
    "editable": true
   },
   "outputs": [
    {
     "name": "stdout",
     "output_type": "stream",
     "text": [
      "These peptide are reactive, but their dissociation rate is below detection limit.\n",
      "Reported Kd Filtered values represent upper bounds of Kd, not actual values of Kd.\n",
      "\n"
     ]
    },
    {
     "data": {
      "text/html": [
       "<div>\n",
       "<table border=\"1\" class=\"dataframe\">\n",
       "  <thead>\n",
       "    <tr style=\"text-align: right;\">\n",
       "      <th></th>\n",
       "      <th>Peptide</th>\n",
       "      <th>Reaction</th>\n",
       "      <th>Kd Final</th>\n",
       "      <th>Kd Final Upper</th>\n",
       "    </tr>\n",
       "  </thead>\n",
       "  <tbody>\n",
       "    <tr>\n",
       "      <th>103</th>\n",
       "      <td>WTHPQFHT</td>\n",
       "      <td>True</td>\n",
       "      <td>3.800000e-10</td>\n",
       "      <td>3.800000e-10</td>\n",
       "    </tr>\n",
       "    <tr>\n",
       "      <th>174</th>\n",
       "      <td>LEWHPQAGK</td>\n",
       "      <td>True</td>\n",
       "      <td>3.009000e-10</td>\n",
       "      <td>3.009000e-10</td>\n",
       "    </tr>\n",
       "    <tr>\n",
       "      <th>179</th>\n",
       "      <td>LKWHPQAGK</td>\n",
       "      <td>True</td>\n",
       "      <td>7.871000e-10</td>\n",
       "      <td>7.871000e-10</td>\n",
       "    </tr>\n",
       "    <tr>\n",
       "      <th>185</th>\n",
       "      <td>LQCHPQAGK</td>\n",
       "      <td>True</td>\n",
       "      <td>4.547000e-10</td>\n",
       "      <td>4.547000e-10</td>\n",
       "    </tr>\n",
       "    <tr>\n",
       "      <th>198</th>\n",
       "      <td>LQRHPQAGK</td>\n",
       "      <td>True</td>\n",
       "      <td>2.930000e-09</td>\n",
       "      <td>2.930000e-09</td>\n",
       "    </tr>\n",
       "    <tr>\n",
       "      <th>268</th>\n",
       "      <td>LQWHPQATK</td>\n",
       "      <td>True</td>\n",
       "      <td>1.316000e-09</td>\n",
       "      <td>1.316000e-09</td>\n",
       "    </tr>\n",
       "    <tr>\n",
       "      <th>269</th>\n",
       "      <td>LQWHPQAVK</td>\n",
       "      <td>True</td>\n",
       "      <td>1.667000e-08</td>\n",
       "      <td>1.667000e-08</td>\n",
       "    </tr>\n",
       "    <tr>\n",
       "      <th>282</th>\n",
       "      <td>LQWHPQNGK</td>\n",
       "      <td>True</td>\n",
       "      <td>1.665000e-11</td>\n",
       "      <td>1.665000e-11</td>\n",
       "    </tr>\n",
       "    <tr>\n",
       "      <th>321</th>\n",
       "      <td>LVWHPQAGK</td>\n",
       "      <td>True</td>\n",
       "      <td>6.355000e-10</td>\n",
       "      <td>6.355000e-10</td>\n",
       "    </tr>\n",
       "  </tbody>\n",
       "</table>\n",
       "</div>"
      ],
      "text/plain": [
       "       Peptide Reaction      Kd Final  Kd Final Upper\n",
       "103   WTHPQFHT     True  3.800000e-10    3.800000e-10\n",
       "174  LEWHPQAGK     True  3.009000e-10    3.009000e-10\n",
       "179  LKWHPQAGK     True  7.871000e-10    7.871000e-10\n",
       "185  LQCHPQAGK     True  4.547000e-10    4.547000e-10\n",
       "198  LQRHPQAGK     True  2.930000e-09    2.930000e-09\n",
       "268  LQWHPQATK     True  1.316000e-09    1.316000e-09\n",
       "269  LQWHPQAVK     True  1.667000e-08    1.667000e-08\n",
       "282  LQWHPQNGK     True  1.665000e-11    1.665000e-11\n",
       "321  LVWHPQAGK     True  6.355000e-10    6.355000e-10"
      ]
     },
     "execution_count": 14,
     "metadata": {},
     "output_type": "execute_result"
    }
   ],
   "source": [
    "print 'These peptide are reactive, but their dissociation rate is below detection limit.'\n",
    "print 'Reported Kd Filtered values represent upper bounds of Kd, not actual values of Kd.\\n'\n",
    "\n",
    "columns = ['Peptide', 'Reaction', 'Kd Final', 'Kd Final Upper']\n",
    "aggregated[aggregated['Reaction'] & (aggregated['Kd Final Lower'] == 0)][columns]"
   ]
  },
  {
   "cell_type": "code",
   "execution_count": 15,
   "metadata": {
    "collapsed": true,
    "deletable": true,
    "editable": true
   },
   "outputs": [],
   "source": [
    "aggregated.to_csv('06 Aggregated dR RT Streptavidin length 8 and 9.csv', index = False)"
   ]
  },
  {
   "cell_type": "code",
   "execution_count": 16,
   "metadata": {
    "collapsed": false,
    "deletable": true,
    "editable": true
   },
   "outputs": [
    {
     "name": "stdout",
     "output_type": "stream",
     "text": [
      "<class 'pandas.core.frame.DataFrame'>\n",
      "Int64Index: 334 entries, 0 to 333\n",
      "Data columns (total 24 columns):\n",
      "Peptide               334 non-null object\n",
      "Peptide Length        334 non-null int64\n",
      "Peptide Weight        334 non-null float64\n",
      "Number of Spots       334 non-null int64\n",
      "kon                   334 non-null float64\n",
      "kon Err               334 non-null float64\n",
      "koff                  334 non-null float64\n",
      "koff Err              334 non-null float64\n",
      "Kd Fit                334 non-null float64\n",
      "Kd Best               334 non-null float64\n",
      "Kd Max                334 non-null float64\n",
      "Kd Err                334 non-null float64\n",
      "Scale Max             334 non-null float64\n",
      "Assoc SNR Max         334 non-null float64\n",
      "Assoc Signal Max      334 non-null float64\n",
      "Dissoc Signal Mean    334 non-null float64\n",
      "Dissoc Signal SE      319 non-null float64\n",
      "Reaction              334 non-null bool\n",
      "Kd Final Lower        334 non-null float64\n",
      "Kd Final              334 non-null float64\n",
      "Kd Final Upper        334 non-null float64\n",
      "Ka Final Lower        334 non-null float64\n",
      "Ka Final              334 non-null float64\n",
      "Ka Final Upper        334 non-null float64\n",
      "dtypes: bool(1), float64(20), int64(2), object(1)\n",
      "memory usage: 63.0+ KB\n"
     ]
    }
   ],
   "source": [
    "aggregated.info()"
   ]
  },
  {
   "cell_type": "code",
   "execution_count": 17,
   "metadata": {
    "collapsed": false,
    "deletable": true,
    "editable": true
   },
   "outputs": [],
   "source": [
    "# aggregated[aggregated['Peptide'] == 'LQWHPQAGK']"
   ]
  },
  {
   "cell_type": "code",
   "execution_count": 27,
   "metadata": {
    "collapsed": false,
    "deletable": true,
    "editable": true
   },
   "outputs": [],
   "source": [
    "# aggregated[aggregated['Peptide Length'] == 9].sort(columns = 'Peptide Weight', axis = 0)"
   ]
  },
  {
   "cell_type": "code",
   "execution_count": 22,
   "metadata": {
    "collapsed": false,
    "deletable": true,
    "editable": true
   },
   "outputs": [],
   "source": [
    "#aggregated.info()"
   ]
  },
  {
   "cell_type": "code",
   "execution_count": null,
   "metadata": {
    "collapsed": true,
    "deletable": true,
    "editable": true
   },
   "outputs": [],
   "source": []
  },
  {
   "cell_type": "code",
   "execution_count": 6,
   "metadata": {
    "collapsed": false,
    "deletable": true,
    "editable": true
   },
   "outputs": [
    {
     "data": {
      "text/html": [
       "<div>\n",
       "<table border=\"1\" class=\"dataframe\">\n",
       "  <thead>\n",
       "    <tr style=\"text-align: right;\">\n",
       "      <th></th>\n",
       "      <th>Peptide</th>\n",
       "      <th>Peptide Length</th>\n",
       "      <th>Peptide Weight</th>\n",
       "      <th>Number of Spots</th>\n",
       "      <th>kon</th>\n",
       "      <th>kon Err</th>\n",
       "      <th>koff</th>\n",
       "      <th>koff Err</th>\n",
       "      <th>Kd Fit</th>\n",
       "      <th>Kd Best</th>\n",
       "      <th>Kd Max</th>\n",
       "      <th>Kd Err</th>\n",
       "      <th>Scale Max</th>\n",
       "      <th>Assoc SNR Max</th>\n",
       "      <th>Assoc Signal Max</th>\n",
       "      <th>Dissoc Signal Mean</th>\n",
       "      <th>Dissoc Signal SE</th>\n",
       "    </tr>\n",
       "  </thead>\n",
       "  <tbody>\n",
       "    <tr>\n",
       "      <th>238</th>\n",
       "      <td>LQWHPQAGA</td>\n",
       "      <td>9</td>\n",
       "      <td>1007.118</td>\n",
       "      <td>2</td>\n",
       "      <td>5088.0</td>\n",
       "      <td>1412.0</td>\n",
       "      <td>0.000052</td>\n",
       "      <td>0.000004</td>\n",
       "      <td>1.027000e-08</td>\n",
       "      <td>1.027000e-08</td>\n",
       "      <td>1.311000e-09</td>\n",
       "      <td>2.971000e-09</td>\n",
       "      <td>0.001161</td>\n",
       "      <td>6.178659</td>\n",
       "      <td>0.001347</td>\n",
       "      <td>0.000875</td>\n",
       "      <td>0.000122</td>\n",
       "    </tr>\n",
       "  </tbody>\n",
       "</table>\n",
       "</div>"
      ],
      "text/plain": [
       "       Peptide  Peptide Length  Peptide Weight  Number of Spots     kon  \\\n",
       "238  LQWHPQAGA               9        1007.118                2  5088.0   \n",
       "\n",
       "     kon Err      koff  koff Err        Kd Fit       Kd Best        Kd Max  \\\n",
       "238   1412.0  0.000052  0.000004  1.027000e-08  1.027000e-08  1.311000e-09   \n",
       "\n",
       "           Kd Err  Scale Max  Assoc SNR Max  Assoc Signal Max  \\\n",
       "238  2.971000e-09   0.001161       6.178659          0.001347   \n",
       "\n",
       "     Dissoc Signal Mean  Dissoc Signal SE  \n",
       "238            0.000875          0.000122  "
      ]
     },
     "execution_count": 6,
     "metadata": {},
     "output_type": "execute_result"
    }
   ],
   "source": [
    "aggregated[aggregated['Peptide'] == 'LQWHPQAGA']"
   ]
  },
  {
   "cell_type": "code",
   "execution_count": null,
   "metadata": {
    "collapsed": true,
    "deletable": true,
    "editable": true
   },
   "outputs": [],
   "source": []
  }
 ],
 "metadata": {
  "kernelspec": {
   "display_name": "Python 2",
   "language": "python",
   "name": "python2"
  },
  "language_info": {
   "codemirror_mode": {
    "name": "ipython",
    "version": 2
   },
   "file_extension": ".py",
   "mimetype": "text/x-python",
   "name": "python",
   "nbconvert_exporter": "python",
   "pygments_lexer": "ipython2",
   "version": "2.7.12"
  }
 },
 "nbformat": 4,
 "nbformat_minor": 0
}
