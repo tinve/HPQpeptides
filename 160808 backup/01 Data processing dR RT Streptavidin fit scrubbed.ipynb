{
 "cells": [
  {
   "cell_type": "code",
   "execution_count": 1,
   "metadata": {
    "collapsed": false,
    "scrolled": false
   },
   "outputs": [],
   "source": [
    "from __future__ import division\n",
    "\n",
    "import numpy as np\n",
    "import pandas as pd\n",
    "import matplotlib.pyplot as plt\n",
    "import seaborn as sns\n",
    "\n",
    "% matplotlib inline"
   ]
  },
  {
   "cell_type": "markdown",
   "metadata": {},
   "source": [
    "# Load data"
   ]
  },
  {
   "cell_type": "code",
   "execution_count": 2,
   "metadata": {
    "collapsed": false
   },
   "outputs": [],
   "source": [
    "df = pd.read_csv('1-to-1 Fit and Endpoint Streptavidin scrubbed.csv',\n",
    "                 na_values = '', keep_default_na = False)\n",
    "\n",
    "df['Chunk'] = np.repeat([0, 1, 2], 1508)\n",
    "\n",
    "columns = ['Chunk',\n",
    "           'Set',\n",
    "           'Label',\n",
    "           'Error Code',\n",
    "           'kon  [1/ (sec.nM)]',\n",
    "           'Err',\n",
    "           'koff  [1/sec]',\n",
    "           'Err.1',\n",
    "           'Kd  [nM]',\n",
    "           'Err.2',\n",
    "           'ThetaBar',\n",
    "           'Err.3',\n",
    "           'Scale',\n",
    "           'Err.4',\n",
    "           'RMSE Curve',\n",
    "           'koff_max  [1/sec]',\n",
    "           'Kd_max  [nM]',\n",
    "           'koff_best  [1/sec]',\n",
    "           'Kd_best  [nM]',\n",
    "           'Assoc SNR',\n",
    "           'Assoc Signal',\n",
    "           'Baseline Noise']\n",
    "\n",
    "df = df[columns]\n",
    "\n",
    "rename = {'Chunk'              : 'Chunk',\n",
    "          'Set'                : 'Set',\n",
    "          'Label'              : 'Peptide',\n",
    "          'Error Code'         : 'Fit Error',\n",
    "          'kon  [1/ (sec.nM)]' : 'kon',\n",
    "          'Err'                : 'kon Err',\n",
    "          'koff  [1/sec]'      : 'koff',\n",
    "          'Err.1'              : 'koff Err',\n",
    "          'Kd  [nM]'           : 'Kd',\n",
    "          'Err.2'              : 'Kd Err',\n",
    "          'ThetaBar'           : 'Theta Bar',\n",
    "          'Err.3'              : 'Theta Bar Err',\n",
    "          'Scale'              : 'Scale',\n",
    "          'Err.4'              : 'Scale Err',\n",
    "          'RMSE Curve'         : 'Fit RMSE',\n",
    "          'koff_max  [1/sec]'  : 'koff max',\n",
    "          'Kd_max  [nM]'       : 'Kd max',\n",
    "          'koff_best  [1/sec]' : 'koff best',\n",
    "          'Kd_best  [nM]'      : 'Kd best',\n",
    "          'Assoc SNR'          : 'Assoc SNR',\n",
    "          'Assoc Signal'       : 'Assoc Signal',\n",
    "          'Baseline Noise'     : 'Baseline Noise'}\n",
    "\n",
    "df = df.rename(columns = rename)\n",
    "\n",
    "# remove curves that were scrubbed out\n",
    "df.dropna(axis = 0, subset = ['Peptide'], inplace = True)\n",
    "\n",
    "df_reacted = df"
   ]
  },
  {
   "cell_type": "code",
   "execution_count": 3,
   "metadata": {
    "collapsed": false
   },
   "outputs": [
    {
     "data": {
      "text/html": [
       "<div>\n",
       "<table border=\"1\" class=\"dataframe\">\n",
       "  <thead>\n",
       "    <tr style=\"text-align: right;\">\n",
       "      <th></th>\n",
       "      <th>Chunk</th>\n",
       "      <th>Set</th>\n",
       "      <th>Peptide</th>\n",
       "      <th>Fit Error</th>\n",
       "      <th>kon</th>\n",
       "      <th>kon Err</th>\n",
       "      <th>koff</th>\n",
       "      <th>koff Err</th>\n",
       "      <th>Kd</th>\n",
       "      <th>Kd Err</th>\n",
       "      <th>...</th>\n",
       "      <th>Scale</th>\n",
       "      <th>Scale Err</th>\n",
       "      <th>Fit RMSE</th>\n",
       "      <th>koff max</th>\n",
       "      <th>Kd max</th>\n",
       "      <th>koff best</th>\n",
       "      <th>Kd best</th>\n",
       "      <th>Assoc SNR</th>\n",
       "      <th>Assoc Signal</th>\n",
       "      <th>Baseline Noise</th>\n",
       "    </tr>\n",
       "  </thead>\n",
       "  <tbody>\n",
       "    <tr>\n",
       "      <th>0</th>\n",
       "      <td>0</td>\n",
       "      <td>0</td>\n",
       "      <td>WTHPQFAT</td>\n",
       "      <td>0</td>\n",
       "      <td>0.000006</td>\n",
       "      <td>3.280000e-06</td>\n",
       "      <td>3.790000e-05</td>\n",
       "      <td>0.000007</td>\n",
       "      <td>5.98000</td>\n",
       "      <td>3.28</td>\n",
       "      <td>...</td>\n",
       "      <td>0.001290</td>\n",
       "      <td>0.000030</td>\n",
       "      <td>0.000500</td>\n",
       "      <td>0.000008</td>\n",
       "      <td>1.3100</td>\n",
       "      <td>3.790000e-05</td>\n",
       "      <td>5.98000</td>\n",
       "      <td>7.130</td>\n",
       "      <td>0.001500</td>\n",
       "      <td>0.000211</td>\n",
       "    </tr>\n",
       "    <tr>\n",
       "      <th>1</th>\n",
       "      <td>0</td>\n",
       "      <td>1</td>\n",
       "      <td>WTHPQFAT</td>\n",
       "      <td>0</td>\n",
       "      <td>0.000022</td>\n",
       "      <td>1.640000e-05</td>\n",
       "      <td>4.160000e-05</td>\n",
       "      <td>0.000006</td>\n",
       "      <td>1.90000</td>\n",
       "      <td>1.44</td>\n",
       "      <td>...</td>\n",
       "      <td>0.001030</td>\n",
       "      <td>0.000020</td>\n",
       "      <td>0.000344</td>\n",
       "      <td>0.000007</td>\n",
       "      <td>0.3250</td>\n",
       "      <td>4.160000e-05</td>\n",
       "      <td>1.90000</td>\n",
       "      <td>3.430</td>\n",
       "      <td>0.000903</td>\n",
       "      <td>0.000263</td>\n",
       "    </tr>\n",
       "    <tr>\n",
       "      <th>2</th>\n",
       "      <td>0</td>\n",
       "      <td>2</td>\n",
       "      <td>WTHLQFAT</td>\n",
       "      <td>0</td>\n",
       "      <td>0.000051</td>\n",
       "      <td>1.200000e-03</td>\n",
       "      <td>3.460000e-07</td>\n",
       "      <td>0.000226</td>\n",
       "      <td>0.00682</td>\n",
       "      <td>4.45</td>\n",
       "      <td>...</td>\n",
       "      <td>-0.000076</td>\n",
       "      <td>0.000020</td>\n",
       "      <td>0.000343</td>\n",
       "      <td>-0.000097</td>\n",
       "      <td>-1.9000</td>\n",
       "      <td>3.460000e-07</td>\n",
       "      <td>0.00682</td>\n",
       "      <td>-0.280</td>\n",
       "      <td>-0.000066</td>\n",
       "      <td>0.000237</td>\n",
       "    </tr>\n",
       "    <tr>\n",
       "      <th>3</th>\n",
       "      <td>0</td>\n",
       "      <td>3</td>\n",
       "      <td>NGQFQVWIPLAQK</td>\n",
       "      <td>0</td>\n",
       "      <td>0.003890</td>\n",
       "      <td>1.540000e+01</td>\n",
       "      <td>2.610000e-05</td>\n",
       "      <td>0.000055</td>\n",
       "      <td>0.00672</td>\n",
       "      <td>26.70</td>\n",
       "      <td>...</td>\n",
       "      <td>-0.000108</td>\n",
       "      <td>0.000020</td>\n",
       "      <td>0.000350</td>\n",
       "      <td>-0.000069</td>\n",
       "      <td>-0.0178</td>\n",
       "      <td>2.610000e-05</td>\n",
       "      <td>0.00672</td>\n",
       "      <td>-0.504</td>\n",
       "      <td>-0.000120</td>\n",
       "      <td>0.000237</td>\n",
       "    </tr>\n",
       "    <tr>\n",
       "      <th>4</th>\n",
       "      <td>0</td>\n",
       "      <td>4</td>\n",
       "      <td>LQLHPQAGK</td>\n",
       "      <td>0</td>\n",
       "      <td>0.000002</td>\n",
       "      <td>8.590000e-07</td>\n",
       "      <td>7.500000e-05</td>\n",
       "      <td>0.000013</td>\n",
       "      <td>47.30000</td>\n",
       "      <td>26.90</td>\n",
       "      <td>...</td>\n",
       "      <td>0.000566</td>\n",
       "      <td>0.000024</td>\n",
       "      <td>0.000336</td>\n",
       "      <td>0.000013</td>\n",
       "      <td>7.9700</td>\n",
       "      <td>7.500000e-05</td>\n",
       "      <td>47.30000</td>\n",
       "      <td>2.690</td>\n",
       "      <td>0.000639</td>\n",
       "      <td>0.000237</td>\n",
       "    </tr>\n",
       "  </tbody>\n",
       "</table>\n",
       "<p>5 rows × 22 columns</p>\n",
       "</div>"
      ],
      "text/plain": [
       "   Chunk  Set        Peptide  Fit Error       kon       kon Err          koff  \\\n",
       "0      0    0       WTHPQFAT          0  0.000006  3.280000e-06  3.790000e-05   \n",
       "1      0    1       WTHPQFAT          0  0.000022  1.640000e-05  4.160000e-05   \n",
       "2      0    2       WTHLQFAT          0  0.000051  1.200000e-03  3.460000e-07   \n",
       "3      0    3  NGQFQVWIPLAQK          0  0.003890  1.540000e+01  2.610000e-05   \n",
       "4      0    4      LQLHPQAGK          0  0.000002  8.590000e-07  7.500000e-05   \n",
       "\n",
       "   koff Err        Kd  Kd Err       ...           Scale  Scale Err  Fit RMSE  \\\n",
       "0  0.000007   5.98000    3.28       ...        0.001290   0.000030  0.000500   \n",
       "1  0.000006   1.90000    1.44       ...        0.001030   0.000020  0.000344   \n",
       "2  0.000226   0.00682    4.45       ...       -0.000076   0.000020  0.000343   \n",
       "3  0.000055   0.00672   26.70       ...       -0.000108   0.000020  0.000350   \n",
       "4  0.000013  47.30000   26.90       ...        0.000566   0.000024  0.000336   \n",
       "\n",
       "   koff max  Kd max     koff best   Kd best  Assoc SNR  Assoc Signal  \\\n",
       "0  0.000008  1.3100  3.790000e-05   5.98000      7.130      0.001500   \n",
       "1  0.000007  0.3250  4.160000e-05   1.90000      3.430      0.000903   \n",
       "2 -0.000097 -1.9000  3.460000e-07   0.00682     -0.280     -0.000066   \n",
       "3 -0.000069 -0.0178  2.610000e-05   0.00672     -0.504     -0.000120   \n",
       "4  0.000013  7.9700  7.500000e-05  47.30000      2.690      0.000639   \n",
       "\n",
       "   Baseline Noise  \n",
       "0        0.000211  \n",
       "1        0.000263  \n",
       "2        0.000237  \n",
       "3        0.000237  \n",
       "4        0.000237  \n",
       "\n",
       "[5 rows x 22 columns]"
      ]
     },
     "execution_count": 3,
     "metadata": {},
     "output_type": "execute_result"
    }
   ],
   "source": [
    "df.head()"
   ]
  },
  {
   "cell_type": "code",
   "execution_count": 4,
   "metadata": {
    "collapsed": false
   },
   "outputs": [
    {
     "name": "stdout",
     "output_type": "stream",
     "text": [
      "<class 'pandas.core.frame.DataFrame'>\n",
      "Int64Index: 3498 entries, 0 to 4523\n",
      "Data columns (total 22 columns):\n",
      "Chunk             3498 non-null int64\n",
      "Set               3498 non-null int64\n",
      "Peptide           3498 non-null object\n",
      "Fit Error         3498 non-null int64\n",
      "kon               3498 non-null float64\n",
      "kon Err           3498 non-null float64\n",
      "koff              3498 non-null float64\n",
      "koff Err          3498 non-null float64\n",
      "Kd                3498 non-null float64\n",
      "Kd Err            3498 non-null float64\n",
      "Theta Bar         3498 non-null float64\n",
      "Theta Bar Err     3498 non-null float64\n",
      "Scale             3498 non-null float64\n",
      "Scale Err         3498 non-null float64\n",
      "Fit RMSE          3498 non-null float64\n",
      "koff max          3498 non-null float64\n",
      "Kd max            3498 non-null float64\n",
      "koff best         3498 non-null float64\n",
      "Kd best           3498 non-null float64\n",
      "Assoc SNR         3498 non-null float64\n",
      "Assoc Signal      3498 non-null float64\n",
      "Baseline Noise    3498 non-null float64\n",
      "dtypes: float64(18), int64(3), object(1)\n",
      "memory usage: 628.5+ KB\n"
     ]
    }
   ],
   "source": [
    "df.info()"
   ]
  },
  {
   "cell_type": "markdown",
   "metadata": {},
   "source": [
    "## Filtering out non-reactive curves\n",
    "### Throw away all fits with errors: "
   ]
  },
  {
   "cell_type": "code",
   "execution_count": 5,
   "metadata": {
    "collapsed": false
   },
   "outputs": [],
   "source": [
    "df_reacted = df_reacted[df_reacted['Fit Error'] == 0]"
   ]
  },
  {
   "cell_type": "markdown",
   "metadata": {},
   "source": [
    "### Keep only curves with SNR > SNR_threshold:"
   ]
  },
  {
   "cell_type": "code",
   "execution_count": 6,
   "metadata": {
    "collapsed": true
   },
   "outputs": [],
   "source": [
    "SNR_threshold = 2\n",
    "df_reacted = df_reacted[df_reacted['Assoc SNR'] > SNR_threshold]"
   ]
  },
  {
   "cell_type": "markdown",
   "metadata": {},
   "source": [
    "### Keep only fits with non-negative Scale"
   ]
  },
  {
   "cell_type": "code",
   "execution_count": 7,
   "metadata": {
    "collapsed": true
   },
   "outputs": [],
   "source": [
    "df_reacted = df_reacted[df_reacted['Scale'] >= 0]"
   ]
  },
  {
   "cell_type": "markdown",
   "metadata": {},
   "source": [
    "### Add a reaction indicator to all peptide data"
   ]
  },
  {
   "cell_type": "code",
   "execution_count": 8,
   "metadata": {
    "collapsed": false
   },
   "outputs": [],
   "source": [
    "df['Reaction'] = df.index.isin(df_reacted.index).astype(int)"
   ]
  },
  {
   "cell_type": "markdown",
   "metadata": {},
   "source": [
    "# Data inspection\n",
    "## Endpoint parameters\n",
    "### Distribution of Association Signal"
   ]
  },
  {
   "cell_type": "code",
   "execution_count": 9,
   "metadata": {
    "collapsed": false
   },
   "outputs": [
    {
     "data": {
      "text/plain": [
       "<matplotlib.legend.Legend at 0x7f7f9ba685d0>"
      ]
     },
     "execution_count": 9,
     "metadata": {},
     "output_type": "execute_result"
    },
    {
     "data": {
      "image/png": "[encoded data removed]",
      "text/plain": [
       "<matplotlib.figure.Figure at 0x7f7f9ba7ea10>"
      ]
     },
     "metadata": {},
     "output_type": "display_data"
    }
   ],
   "source": [
    "sns.distplot(df['Assoc Signal'] * 1000, label = 'All')\n",
    "sns.distplot(df_reacted['Assoc Signal'] * 1000, label = 'Reacted')\n",
    "plt.xlim(-1, 2.2)\n",
    "plt.xlabel('Association Signal [mrad]', fontsize = 16)\n",
    "plt.legend(fontsize = 14)"
   ]
  },
  {
   "cell_type": "markdown",
   "metadata": {
    "collapsed": false
   },
   "source": [
    "### Distribution of Association SNR"
   ]
  },
  {
   "cell_type": "code",
   "execution_count": 10,
   "metadata": {
    "collapsed": false
   },
   "outputs": [
    {
     "data": {
      "text/plain": [
       "<matplotlib.legend.Legend at 0x7f7fd24fbad0>"
      ]
     },
     "execution_count": 10,
     "metadata": {},
     "output_type": "execute_result"
    },
    {
     "data": {
      "image/png": "[encoded data removed]",
      "text/plain": [
       "<matplotlib.figure.Figure at 0x7f7f9ba8eb90>"
      ]
     },
     "metadata": {},
     "output_type": "display_data"
    }
   ],
   "source": [
    "sns.distplot(df['Assoc SNR'], label = 'All')\n",
    "sns.distplot(df_reacted['Assoc SNR'], label = 'Reacted')\n",
    "plt.xlim(-5, 11)\n",
    "plt.xlabel('Association SNR', fontsize = 16)\n",
    "plt.legend(fontsize = 14)"
   ]
  },
  {
   "cell_type": "markdown",
   "metadata": {},
   "source": [
    "## Fit Parameters\n",
    "### How many fit errors?"
   ]
  },
  {
   "cell_type": "code",
   "execution_count": 11,
   "metadata": {
    "collapsed": false
   },
   "outputs": [
    {
     "name": "stdout",
     "output_type": "stream",
     "text": [
      "All:\n",
      "97 fit errors among 3498 fits.\n",
      "\n",
      "Reacted:\n",
      "0 fit errors among 772 fits.\n",
      "\n"
     ]
    }
   ],
   "source": [
    "print 'All:\\n', sum(df['Fit Error'] != 0), 'fit errors among', len(df), 'fits.\\n' \n",
    "print 'Reacted:\\n', sum(df_reacted['Fit Error'] != 0), 'fit errors among', len(df_reacted), 'fits.\\n' "
   ]
  },
  {
   "cell_type": "markdown",
   "metadata": {},
   "source": [
    "### How many times Kd_max was chosen over Kd?"
   ]
  },
  {
   "cell_type": "code",
   "execution_count": 12,
   "metadata": {
    "collapsed": false
   },
   "outputs": [
    {
     "name": "stdout",
     "output_type": "stream",
     "text": [
      "All:\n",
      "In 1017 cases out of 3498 Kd was replaced by Kd max.\n",
      "\n",
      "Reacted:\n",
      "In 119 cases out of 772 Kd was replaced by Kd max.\n",
      "\n"
     ]
    }
   ],
   "source": [
    "print 'All:\\nIn', sum(df['Kd best'] > df['Kd']), 'cases out of', len(df), 'Kd was replaced by Kd max.\\n'\n",
    "print 'Reacted:\\nIn', sum(df_reacted['Kd best'] > df_reacted['Kd']), \\\n",
    "      'cases out of', len(df_reacted), 'Kd was replaced by Kd max.\\n'"
   ]
  },
  {
   "cell_type": "markdown",
   "metadata": {},
   "source": [
    "### Distribution of Fit RMSE"
   ]
  },
  {
   "cell_type": "code",
   "execution_count": 13,
   "metadata": {
    "collapsed": false
   },
   "outputs": [
    {
     "data": {
      "text/plain": [
       "<matplotlib.legend.Legend at 0x7f7fd0a31810>"
      ]
     },
     "execution_count": 13,
     "metadata": {},
     "output_type": "execute_result"
    },
    {
     "data": {
      "image/png": "[encoded data removed]",
      "text/plain": [
       "<matplotlib.figure.Figure at 0x7f7f9b70c510>"
      ]
     },
     "metadata": {},
     "output_type": "display_data"
    }
   ],
   "source": [
    "sns.distplot(df['Fit RMSE']*1000, label = 'All')\n",
    "sns.distplot(df_reacted['Fit RMSE']*1000, label = 'Reacted')\n",
    "plt.xlim(0.2, 0.65)\n",
    "plt.xlabel('Fit RMSE [mrad]', fontsize = 16)\n",
    "plt.legend(fontsize = 14)"
   ]
  },
  {
   "cell_type": "code",
   "execution_count": 14,
   "metadata": {
    "collapsed": false
   },
   "outputs": [
    {
     "name": "stdout",
     "output_type": "stream",
     "text": [
      "All:\n",
      "Maximum RMSE is 0.763 mrad.\n",
      "\n",
      "Reacted:\n",
      "Maximum RMSE is 0.633 mrad.\n",
      "There are 5 peptides with fit RMSE > 0.5 mrad.\n"
     ]
    },
    {
     "data": {
      "text/html": [
       "<div>\n",
       "<table border=\"1\" class=\"dataframe\">\n",
       "  <thead>\n",
       "    <tr style=\"text-align: right;\">\n",
       "      <th></th>\n",
       "      <th>Chunk</th>\n",
       "      <th>Set</th>\n",
       "      <th>Peptide</th>\n",
       "      <th>Fit RMSE</th>\n",
       "      <th>Assoc SNR</th>\n",
       "    </tr>\n",
       "  </thead>\n",
       "  <tbody>\n",
       "    <tr>\n",
       "      <th>545</th>\n",
       "      <td>0</td>\n",
       "      <td>545</td>\n",
       "      <td>WTHPQSAT</td>\n",
       "      <td>0.000580</td>\n",
       "      <td>2.42</td>\n",
       "    </tr>\n",
       "    <tr>\n",
       "      <th>800</th>\n",
       "      <td>0</td>\n",
       "      <td>800</td>\n",
       "      <td>WTHPQFAA</td>\n",
       "      <td>0.000633</td>\n",
       "      <td>3.67</td>\n",
       "    </tr>\n",
       "    <tr>\n",
       "      <th>1068</th>\n",
       "      <td>0</td>\n",
       "      <td>1068</td>\n",
       "      <td>LQWHPQASK</td>\n",
       "      <td>0.000589</td>\n",
       "      <td>3.63</td>\n",
       "    </tr>\n",
       "    <tr>\n",
       "      <th>2543</th>\n",
       "      <td>1</td>\n",
       "      <td>1035</td>\n",
       "      <td>WTHPQFYT</td>\n",
       "      <td>0.000504</td>\n",
       "      <td>10.20</td>\n",
       "    </tr>\n",
       "    <tr>\n",
       "      <th>3409</th>\n",
       "      <td>2</td>\n",
       "      <td>393</td>\n",
       "      <td>WYHPQFAT</td>\n",
       "      <td>0.000607</td>\n",
       "      <td>7.64</td>\n",
       "    </tr>\n",
       "  </tbody>\n",
       "</table>\n",
       "</div>"
      ],
      "text/plain": [
       "      Chunk   Set    Peptide  Fit RMSE  Assoc SNR\n",
       "545       0   545   WTHPQSAT  0.000580       2.42\n",
       "800       0   800   WTHPQFAA  0.000633       3.67\n",
       "1068      0  1068  LQWHPQASK  0.000589       3.63\n",
       "2543      1  1035   WTHPQFYT  0.000504      10.20\n",
       "3409      2   393   WYHPQFAT  0.000607       7.64"
      ]
     },
     "execution_count": 14,
     "metadata": {},
     "output_type": "execute_result"
    }
   ],
   "source": [
    "print 'All:\\nMaximum RMSE is', max(df['Fit RMSE']) * 1000, 'mrad.\\n'\n",
    "\n",
    "print 'Reacted:\\nMaximum RMSE is', max(df_reacted['Fit RMSE']) * 1000, 'mrad.'\n",
    "print 'There are', sum(df_reacted['Fit RMSE'] > 0.0005), 'peptides with fit RMSE > 0.5 mrad.'\n",
    "df_reacted[df_reacted['Fit RMSE'] > 0.0005][['Chunk', 'Set', 'Peptide', 'Fit RMSE', 'Assoc SNR']]"
   ]
  },
  {
   "cell_type": "markdown",
   "metadata": {},
   "source": [
    "### Distribution of fit parameter 'Scale'"
   ]
  },
  {
   "cell_type": "code",
   "execution_count": 15,
   "metadata": {
    "collapsed": false
   },
   "outputs": [
    {
     "data": {
      "text/plain": [
       "<matplotlib.legend.Legend at 0x7f7f9b6c1d90>"
      ]
     },
     "execution_count": 15,
     "metadata": {},
     "output_type": "execute_result"
    },
    {
     "data": {
      "image/png": "[encoded data removed]",
      "text/plain": [
       "<matplotlib.figure.Figure at 0x7f7f9ba68c10>"
      ]
     },
     "metadata": {},
     "output_type": "display_data"
    }
   ],
   "source": [
    "sns.distplot(df['Scale'] * 1000, bins = 200, label = 'All')\n",
    "sns.distplot(df_reacted['Scale'] * 1000, label = 'Reacted')\n",
    "plt.xlim(-1.5, 3)\n",
    "plt.xlabel('Scale [mrad]', fontsize = 16)\n",
    "plt.legend(fontsize = 14)"
   ]
  },
  {
   "cell_type": "markdown",
   "metadata": {},
   "source": [
    "# Distribution of $K_d^{\\text{(best)}}$"
   ]
  },
  {
   "cell_type": "code",
   "execution_count": 16,
   "metadata": {
    "collapsed": false
   },
   "outputs": [
    {
     "data": {
      "text/plain": [
       "<matplotlib.legend.Legend at 0x7f7f9b58ccd0>"
      ]
     },
     "execution_count": 16,
     "metadata": {},
     "output_type": "execute_result"
    },
    {
     "data": {
      "image/png": "[encoded data removed]",
      "text/plain": [
       "<matplotlib.figure.Figure at 0x7f7f9abe3710>"
      ]
     },
     "metadata": {},
     "output_type": "display_data"
    }
   ],
   "source": [
    "sns.distplot(np.log10(df['Kd best']), label = 'All')\n",
    "sns.distplot(np.log10(df_reacted['Kd best']), label = 'Reacted')\n",
    "plt.xlim(-5, 6)\n",
    "plt.xlabel('$\\log_{10}{K_d^{(best)}}$', fontsize = 16)\n",
    "plt.legend(fontsize = 14, loc = 2)"
   ]
  },
  {
   "cell_type": "code",
   "execution_count": 17,
   "metadata": {
    "collapsed": false
   },
   "outputs": [
    {
     "name": "stdout",
     "output_type": "stream",
     "text": [
      "722 out of 772 reacted peptides contain HPQ sequence.\n",
      "\n",
      "5 out of 772 reacted peptides contain HPM sequence.\n",
      "\n",
      "811 out of 3498 scrubbed peptides contain HPQ sequence.\n"
     ]
    }
   ],
   "source": [
    "print sum(df_reacted['Peptide'].str.contains('HPQ')), 'out of', \\\n",
    "      len(df_reacted), 'reacted peptides contain HPQ sequence.\\n'\n",
    "    \n",
    "print sum(df_reacted['Peptide'].str.contains('HPM')), 'out of', \\\n",
    "      len(df_reacted), 'reacted peptides contain HPM sequence.\\n'\n",
    "    \n",
    "print sum(df['Peptide'].str.contains('HPQ')), 'out of', \\\n",
    "      len(df), 'scrubbed peptides contain HPQ sequence.'"
   ]
  },
  {
   "cell_type": "code",
   "execution_count": 18,
   "metadata": {
    "collapsed": false
   },
   "outputs": [
    {
     "name": "stdout",
     "output_type": "stream",
     "text": [
      "Highest detected Kd in the reacted peptide: 10.3 uM.\n",
      "\n",
      "Assumed Kd detection limit: 30.0 uM.\n",
      "I will assign Kd_filtered = 30 uM to every non reactive peptide.\n",
      "Every reactive peptide gets Kd_filtered = Kd_best < Kd_detection_limit.\n",
      "I also intoduce Ka_filtered = 1 / Kd_filtered.\n"
     ]
    }
   ],
   "source": [
    "print 'Highest detected Kd in the reacted peptide:', max(df_reacted['Kd best'])/1000, 'uM.\\n'\n",
    "\n",
    "Kd_dl = 30000\n",
    "print 'Assumed Kd detection limit:', Kd_dl/1000, 'uM.'\n",
    "print 'I will assign Kd_filtered = 30 uM to every non reactive peptide.'\n",
    "print 'Every reactive peptide gets Kd_filtered = Kd_best < Kd_detection_limit.'\n",
    "print 'I also intoduce Ka_filtered = 1 / Kd_filtered.'\n",
    "df['Kd filtered'] = df['Kd best'] * df['Reaction'] + Kd_dl * (1 - df['Reaction'])\n",
    "df['Ka filtered'] = 1 / df['Kd filtered']"
   ]
  },
  {
   "cell_type": "markdown",
   "metadata": {},
   "source": [
    "### Save scrubbed results"
   ]
  },
  {
   "cell_type": "code",
   "execution_count": 19,
   "metadata": {
    "collapsed": false
   },
   "outputs": [],
   "source": [
    "df.to_csv('01 Filtered dR Streptavidin fit.csv')"
   ]
  },
  {
   "cell_type": "code",
   "execution_count": null,
   "metadata": {
    "collapsed": true
   },
   "outputs": [],
   "source": []
  }
 ],
 "metadata": {
  "kernelspec": {
   "display_name": "Python 2",
   "language": "python",
   "name": "python2"
  },
  "language_info": {
   "codemirror_mode": {
    "name": "ipython",
    "version": 2
   },
   "file_extension": ".py",
   "mimetype": "text/x-python",
   "name": "python",
   "nbconvert_exporter": "python",
   "pygments_lexer": "ipython2",
   "version": "2.7.10"
  }
 },
 "nbformat": 4,
 "nbformat_minor": 0
}
