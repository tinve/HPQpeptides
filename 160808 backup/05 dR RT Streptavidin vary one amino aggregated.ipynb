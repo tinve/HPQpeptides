{
 "cells": [
  {
   "cell_type": "code",
   "execution_count": 198,
   "metadata": {
    "collapsed": false
   },
   "outputs": [],
   "source": [
    "from __future__ import division\n",
    "import numpy as np\n",
    "import pandas as pd\n",
    "import matplotlib.pyplot as plt\n",
    "\n",
    "% matplotlib inline"
   ]
  },
  {
   "cell_type": "code",
   "execution_count": 199,
   "metadata": {
    "collapsed": true
   },
   "outputs": [],
   "source": [
    "length = 9"
   ]
  },
  {
   "cell_type": "markdown",
   "metadata": {},
   "source": [
    "# Base peptide sequences"
   ]
  },
  {
   "cell_type": "code",
   "execution_count": 200,
   "metadata": {
    "collapsed": false
   },
   "outputs": [],
   "source": [
    "if   length == 8:\n",
    "    base = 'WTHPQFAT'\n",
    "elif length == 9:\n",
    "    base = 'LQWHPQAGK'\n",
    "elif length == 12:\n",
    "    base = 'GKFPIPLGKQSG'\n",
    "elif length == 13:\n",
    "    base = 'NGQFQVWIPGAQK'\n",
    "else:\n",
    "    print 'No base of such length'\n",
    "    \n",
    "aminoacids = ['A', 'C', 'D', 'E', 'F',\n",
    "              'G', 'H', 'I', 'K', 'L',\n",
    "              'M', 'N', 'P', 'Q', 'R',\n",
    "              'S', 'T', 'V', 'W', 'Y']"
   ]
  },
  {
   "cell_type": "markdown",
   "metadata": {},
   "source": [
    "# Creating list of peptide names"
   ]
  },
  {
   "cell_type": "code",
   "execution_count": 201,
   "metadata": {
    "collapsed": false
   },
   "outputs": [],
   "source": [
    "def namelist(base, n):\n",
    "    names = []\n",
    "    for a in aminoacids:\n",
    "        names.append(base[:n - 1] + a + base[n:])\n",
    "    return names"
   ]
  },
  {
   "cell_type": "markdown",
   "metadata": {},
   "source": [
    "# Logarithmize errorbars"
   ]
  },
  {
   "cell_type": "code",
   "execution_count": 202,
   "metadata": {
    "collapsed": false
   },
   "outputs": [],
   "source": [
    "def logarithmize(x, xbar):\n",
    "    x = np.array(x)\n",
    "    xbar = np.array(xbar)\n",
    "\n",
    "    x_log = np.log10(x)\n",
    "    xbar_upper = np.log10(x + xbar) - x_log\n",
    "    xbar_lower = x_log - np.log10(x - xbar)\n",
    "    \n",
    "    return x_log, xbar_lower, xbar_upper"
   ]
  },
  {
   "cell_type": "markdown",
   "metadata": {},
   "source": [
    "# Tweak errorbars of bound values"
   ]
  },
  {
   "cell_type": "code",
   "execution_count": 203,
   "metadata": {
    "collapsed": true
   },
   "outputs": [],
   "source": [
    "def bound_bar(bar, flag):\n",
    "    for i, e in enumerate(flag):\n",
    "        if e:\n",
    "            bar[i] = 10\n",
    "    return bar"
   ]
  },
  {
   "cell_type": "markdown",
   "metadata": {},
   "source": [
    "# Subsetting data"
   ]
  },
  {
   "cell_type": "code",
   "execution_count": 204,
   "metadata": {
    "collapsed": true
   },
   "outputs": [],
   "source": [
    "def reorder(data, names):\n",
    "    return data"
   ]
  },
  {
   "cell_type": "code",
   "execution_count": 205,
   "metadata": {
    "collapsed": false
   },
   "outputs": [],
   "source": [
    "def subset(base, n):\n",
    "    names = namelist(base, n)\n",
    "    data = pd.read_csv('04 Aggregated dR RT Streptavidin length 8 and 9.csv', header = 0)\n",
    "    data = data[data['Peptide Length'] == len(base)]\n",
    "    data = data[data['Peptide'].isin(names)]\n",
    "    assert len(data) == 20\n",
    "    data = reorder(data, names)\n",
    "    return data"
   ]
  },
  {
   "cell_type": "code",
   "execution_count": 206,
   "metadata": {
    "collapsed": false
   },
   "outputs": [],
   "source": [
    "def plot_series(data, filename):\n",
    "\n",
    "\n",
    "    x       = data['Ka Filtered'].tolist()\n",
    "    xbar    = data['Ka Filtered Err'].tolist()\n",
    "\n",
    "    ylabels = data['Peptide'].tolist()\n",
    "    y       = range(len(ylabels), 0, -1)\n",
    "\n",
    "    xlolims = data['Upper Bound Kd'].tolist()\n",
    "    xuplims = data['Lower Bound Kd'].tolist()\n",
    "\n",
    "    width = 6\n",
    "    height = 0.36 * (len(y) + 1.4) + 1.1\n",
    "\n",
    "    xlim_left = -5\n",
    "    xlim_right = 2\n",
    "\n",
    "    # rescale to log10\n",
    "    x, xbar_lower, xbar_upper = logarithmize(x, xbar)\n",
    "\n",
    "    # tweak points with negative lower errorbars\n",
    "    for i, e in enumerate(xbar_lower):\n",
    "        if np.isnan(e):\n",
    "            xuplims[i] = True\n",
    "            x[i] = x[i] + xbar_upper[i]\n",
    "            xbar_upper[i] = 0\n",
    "\n",
    "    # tweak errorbars of upper and lower bounds\n",
    "    for i, e in enumerate(xuplims):\n",
    "        if e:\n",
    "            xbar_lower[i] = x[i] - xlim_left\n",
    "\n",
    "    for i, e in enumerate(xlolims):\n",
    "        if e:\n",
    "            xbar_upper[i] = xlim_right - x[i]   \n",
    "\n",
    "    # set color\n",
    "    color = ['k'] * len(x)\n",
    "    for i,e in enumerate(xuplims):\n",
    "        if e or xlolims[i]:\n",
    "            color[i] = 'r'\n",
    "\n",
    "    # set marker\n",
    "    marker = ['o'] * len(x)\n",
    "    for i in range(len(x)):\n",
    "        if   xlolims[i]:\n",
    "            marker[i] = '>'\n",
    "        elif xuplims[i]:\n",
    "            marker[i] = '<'\n",
    "\n",
    "    # set markersize\n",
    "    markersize = [6] * len(x)\n",
    "    for i,e in enumerate(xuplims):\n",
    "        if e or xlolims[i]:\n",
    "            markersize[i] = 9\n",
    "\n",
    "    fig = plt.figure(figsize = (width, height))\n",
    "    ax = fig.add_subplot(1, 1, 1)\n",
    "\n",
    "    for i in range(len(x)):\n",
    "        # plot points\n",
    "        ax.errorbar(x[i], y[i],\n",
    "                    xerr = [[xbar_lower[i]], [xbar_upper[i]]],\n",
    "                    xlolims = xlolims[i],\n",
    "                    xuplims = xuplims[i],\n",
    "\n",
    "                    marker = marker[i],\n",
    "                    color = color[i],\n",
    "                    markersize = markersize[i],\n",
    "                    ls = 'none',\n",
    "                    markeredgecolor = 'none')\n",
    "\n",
    "        # x axis labels\n",
    "        for label in ax.get_xticklabels(): \n",
    "            label.set_fontname('DejaVu Sans Mono')\n",
    "            label.set_fontsize(14)\n",
    "\n",
    "        # y axis labels\n",
    "        for label in ax.get_yticklabels():\n",
    "            label.set_fontname('DejaVu Sans Mono') # alternatively: 'Droid Sans Mono', 'FreeMono' or 'Liberation Mono'\n",
    "            label.set_fontsize(14)\n",
    "            if label.get_text() == base:\n",
    "                label.set_weight('black')\n",
    "            else:\n",
    "                label.set_color('0.2')\n",
    "\n",
    "        # axis limits\n",
    "        ax.set_xlim(left = xlim_left, right = xlim_right)\n",
    "        ax.set_ylim(bottom = min(y) - 0.7, top = max(y) + 0.7)\n",
    "\n",
    "        # axis ticks\n",
    "        for tick in ax.get_xaxis().get_major_ticks():\n",
    "            tick.set_pad(6)\n",
    "        for tick in ax.get_yaxis().get_major_ticks():\n",
    "            tick.set_pad(8)\n",
    "\n",
    "    plt.yticks(y, ylabels)\n",
    "    plt.grid(alpha = 0.5)\n",
    "\n",
    "    plt.subplots_adjust(left = 1.8 / width,\n",
    "                        right = 1 - 0.3 / width,\n",
    "                        bottom = 0.8 / height,\n",
    "                        top = 1 - 0.3 / height)\n",
    "\n",
    "    plt.xlabel('$\\log_{10}{\\ K_a}$', labelpad = 12, fontsize = 18)\n",
    "    plt.axvspan(-5, -4.4, alpha = 0.1, facecolor = 'k', edgecolor = 'none')     \n",
    "\n",
    "#    plt.show()\n",
    "    plt.savefig(filename)"
   ]
  },
  {
   "cell_type": "markdown",
   "metadata": {},
   "source": [
    "# Important note about handling error bars\n",
    "In total, I have four types of data points on my plots:\n",
    "\n",
    "- Normal points. These are reactive peptides, for which $K_d^{(best)} = K_d$. Fitting parameter $K_a = \\dfrac{1}{K_d^{(best)}}$ is a true value of association constant and the errorbar is smaller than the value itself. Such points are plotted in black.\n",
    "\n",
    "\n",
    "- Normal points with large errorbars. Just like in previous category, $K_d^{(best)} = K_d$, but this time fitting error of the $K_d$ (and $K_a$) is larger than fitted value of $K_d$ (or $K_a$) itself. Errorbar would go all the way to zero on normal plot and all the way to $-\\inf$ on logarithmic plot. I chose to plot such points as **upper boundaries** of $K_a$ with red triangle at $K_a + \\text{Err }(K_a)$ and line stretching left.\n",
    "\n",
    "\n",
    "- Non-reactive peptides. These points are plotted as red triangles at the detection limit of $K_a = 30000 \\text{ nM}$ with a line stretching left. Detection limit of association constant provides an **upper boundary** for $K_a$.\n",
    "\n",
    "\n",
    "- Points with $k_{off}$ below detection limit. For these points $K_d^{(best)} > K_d$. Fitted value of $K_d$ is below detection limit of dissociation rate and does not represent true dissociation constant. We should use $K_a = \\dfrac{1}{K_d^{(best)}}$ as **lower limit** of association constant. Since $\\text{Err }(K_d)$ is an error of fitted dissociation constant, which is not accurate, I ignore this errorbar altogether."
   ]
  },
  {
   "cell_type": "code",
   "execution_count": 211,
   "metadata": {
    "collapsed": false
   },
   "outputs": [],
   "source": [
    "for i in range(1, length + 1):\n",
    "    filename = 'base ' + str(length) + ', letter ' + str(i) + '.png'\n",
    "    plot_series(subset(base, i), filename)\n",
    "    \n",
    "plt.clf()\n",
    "plt.close('all')"
   ]
  },
  {
   "cell_type": "code",
   "execution_count": 207,
   "metadata": {
    "collapsed": false
   },
   "outputs": [],
   "source": [
    "plt.clf()\n",
    "plt.close('all')"
   ]
  },
  {
   "cell_type": "code",
   "execution_count": 209,
   "metadata": {
    "collapsed": false,
    "scrolled": true
   },
   "outputs": [],
   "source": [
    "# print subset(base, 6)"
   ]
  },
  {
   "cell_type": "code",
   "execution_count": 212,
   "metadata": {
    "collapsed": false,
    "scrolled": false
   },
   "outputs": [],
   "source": [
    "# plot_series(subset(base, 6), 'a')"
   ]
  },
  {
   "cell_type": "code",
   "execution_count": null,
   "metadata": {
    "collapsed": true
   },
   "outputs": [],
   "source": []
  }
 ],
 "metadata": {
  "kernelspec": {
   "display_name": "Python 2",
   "language": "python",
   "name": "python2"
  },
  "language_info": {
   "codemirror_mode": {
    "name": "ipython",
    "version": 2
   },
   "file_extension": ".py",
   "mimetype": "text/x-python",
   "name": "python",
   "nbconvert_exporter": "python",
   "pygments_lexer": "ipython2",
   "version": "2.7.10"
  }
 },
 "nbformat": 4,
 "nbformat_minor": 0
}
