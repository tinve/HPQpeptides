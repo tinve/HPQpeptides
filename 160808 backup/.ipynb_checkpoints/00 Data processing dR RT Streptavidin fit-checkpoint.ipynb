{
 "cells": [
  {
   "cell_type": "code",
   "execution_count": 174,
   "metadata": {
    "collapsed": false,
    "deletable": true,
    "editable": true,
    "scrolled": false
   },
   "outputs": [],
   "source": [
    "from __future__ import division\n",
    "\n",
    "import numpy as np\n",
    "import pandas as pd\n",
    "import matplotlib.pyplot as plt\n",
    "import seaborn as sns\n",
    "\n",
    "import matplotlib as mpl\n",
    "import matplotlib.cm as cm\n",
    "\n",
    "% matplotlib inline"
   ]
  },
  {
   "cell_type": "markdown",
   "metadata": {
    "deletable": true,
    "editable": true
   },
   "source": [
    "# Load data"
   ]
  },
  {
   "cell_type": "code",
   "execution_count": 176,
   "metadata": {
    "collapsed": false,
    "deletable": true,
    "editable": true
   },
   "outputs": [],
   "source": [
    "df = pd.read_csv('1-to-1 Fit and Endpoint  Streptavidin.csv')\n",
    "df['Chunk'] = np.repeat([0, 1, 2], 1508)\n",
    "\n",
    "columns = ['Chunk',\n",
    "           'Set',\n",
    "           'Label',\n",
    "           'Error Code',\n",
    "           'kon  [1/ (sec.nM)]',\n",
    "           'Err',\n",
    "           'koff  [1/sec]',\n",
    "           'Err.1',\n",
    "           'Kd  [nM]',\n",
    "           'Err.2',\n",
    "           'ThetaBar',\n",
    "           'Err.3',\n",
    "           'Scale',\n",
    "           'Err.4',\n",
    "           'RMSE Curve',\n",
    "           'koff_max  [1/sec]',\n",
    "           'Kd_max  [nM]',\n",
    "           'koff_best  [1/sec]',\n",
    "           'Kd_best  [nM]',\n",
    "           'Assoc SNR',\n",
    "           'Assoc Signal',\n",
    "           'Baseline Noise']\n",
    "\n",
    "df = df[columns]\n",
    "df['Label'] = df['Label'].fillna(value = 'NA')\n",
    "\n",
    "rename = {'Chunk'              : 'Chunk',\n",
    "          'Set'                : 'Set',\n",
    "          'Label'              : 'Peptide',\n",
    "          'Error Code'         : 'Fit Error',\n",
    "          'kon  [1/ (sec.nM)]' : 'kon',\n",
    "          'Err'                : 'kon Err',\n",
    "          'koff  [1/sec]'      : 'koff',\n",
    "          'Err.1'              : 'koff Err',\n",
    "          'Kd  [nM]'           : 'Kd',\n",
    "          'Err.2'              : 'Kd Err',\n",
    "          'ThetaBar'           : 'Theta Bar',\n",
    "          'Err.3'              : 'Theta Bar Err',\n",
    "          'Scale'              : 'Scale',\n",
    "          'Err.4'              : 'Scale Err',\n",
    "          'RMSE Curve'         : 'Fit RMSE',\n",
    "          'koff_max  [1/sec]'  : 'koff max',\n",
    "          'Kd_max  [nM]'       : 'Kd max',\n",
    "          'koff_best  [1/sec]' : 'koff best',\n",
    "          'Kd_best  [nM]'      : 'Kd best',\n",
    "          'Assoc SNR'          : 'Assoc SNR',\n",
    "          'Assoc Signal'       : 'Assoc Signal',\n",
    "          'Baseline Noise'     : 'Baseline Noise'}\n",
    "\n",
    "df = df.rename(columns = rename)\n",
    "df_filtered = df"
   ]
  },
  {
   "cell_type": "code",
   "execution_count": 177,
   "metadata": {
    "collapsed": false,
    "deletable": true,
    "editable": true
   },
   "outputs": [
    {
     "data": {
      "text/html": [
       "<div>\n",
       "<table border=\"1\" class=\"dataframe\">\n",
       "  <thead>\n",
       "    <tr style=\"text-align: right;\">\n",
       "      <th></th>\n",
       "      <th>Chunk</th>\n",
       "      <th>Set</th>\n",
       "      <th>Peptide</th>\n",
       "      <th>Fit Error</th>\n",
       "      <th>kon</th>\n",
       "      <th>kon Err</th>\n",
       "      <th>koff</th>\n",
       "      <th>koff Err</th>\n",
       "      <th>Kd</th>\n",
       "      <th>Kd Err</th>\n",
       "      <th>...</th>\n",
       "      <th>Scale</th>\n",
       "      <th>Scale Err</th>\n",
       "      <th>Fit RMSE</th>\n",
       "      <th>koff max</th>\n",
       "      <th>Kd max</th>\n",
       "      <th>koff best</th>\n",
       "      <th>Kd best</th>\n",
       "      <th>Assoc SNR</th>\n",
       "      <th>Assoc Signal</th>\n",
       "      <th>Baseline Noise</th>\n",
       "    </tr>\n",
       "  </thead>\n",
       "  <tbody>\n",
       "    <tr>\n",
       "      <th>0</th>\n",
       "      <td>0</td>\n",
       "      <td>0</td>\n",
       "      <td>WTHPQFAT</td>\n",
       "      <td>0</td>\n",
       "      <td>0.000006</td>\n",
       "      <td>3.300000e-06</td>\n",
       "      <td>3.790000e-05</td>\n",
       "      <td>0.000007</td>\n",
       "      <td>5.96000</td>\n",
       "      <td>3.27</td>\n",
       "      <td>...</td>\n",
       "      <td>0.001290</td>\n",
       "      <td>0.000030</td>\n",
       "      <td>0.000500</td>\n",
       "      <td>0.000008</td>\n",
       "      <td>1.3000</td>\n",
       "      <td>3.790000e-05</td>\n",
       "      <td>5.96000</td>\n",
       "      <td>7.130</td>\n",
       "      <td>0.001500</td>\n",
       "      <td>0.000211</td>\n",
       "    </tr>\n",
       "    <tr>\n",
       "      <th>1</th>\n",
       "      <td>0</td>\n",
       "      <td>1</td>\n",
       "      <td>WTHPQFAT</td>\n",
       "      <td>0</td>\n",
       "      <td>0.000022</td>\n",
       "      <td>1.730000e-05</td>\n",
       "      <td>4.140000e-05</td>\n",
       "      <td>0.000006</td>\n",
       "      <td>1.91000</td>\n",
       "      <td>1.55</td>\n",
       "      <td>...</td>\n",
       "      <td>0.001030</td>\n",
       "      <td>0.000020</td>\n",
       "      <td>0.000344</td>\n",
       "      <td>0.000007</td>\n",
       "      <td>0.3290</td>\n",
       "      <td>4.140000e-05</td>\n",
       "      <td>1.91000</td>\n",
       "      <td>3.430</td>\n",
       "      <td>0.000903</td>\n",
       "      <td>0.000263</td>\n",
       "    </tr>\n",
       "    <tr>\n",
       "      <th>2</th>\n",
       "      <td>0</td>\n",
       "      <td>2</td>\n",
       "      <td>WTHLQFAT</td>\n",
       "      <td>0</td>\n",
       "      <td>0.000050</td>\n",
       "      <td>1.130000e-03</td>\n",
       "      <td>3.900000e-07</td>\n",
       "      <td>0.000069</td>\n",
       "      <td>0.00787</td>\n",
       "      <td>1.40</td>\n",
       "      <td>...</td>\n",
       "      <td>-0.000076</td>\n",
       "      <td>0.000020</td>\n",
       "      <td>0.000343</td>\n",
       "      <td>-0.000096</td>\n",
       "      <td>-1.9300</td>\n",
       "      <td>3.900000e-07</td>\n",
       "      <td>0.00787</td>\n",
       "      <td>-0.280</td>\n",
       "      <td>-0.000066</td>\n",
       "      <td>0.000237</td>\n",
       "    </tr>\n",
       "    <tr>\n",
       "      <th>3</th>\n",
       "      <td>0</td>\n",
       "      <td>3</td>\n",
       "      <td>NGQFQVWIPLAQK</td>\n",
       "      <td>0</td>\n",
       "      <td>0.004490</td>\n",
       "      <td>6.520000e+01</td>\n",
       "      <td>2.620000e-05</td>\n",
       "      <td>0.000055</td>\n",
       "      <td>0.00584</td>\n",
       "      <td>84.90</td>\n",
       "      <td>...</td>\n",
       "      <td>-0.000108</td>\n",
       "      <td>0.000021</td>\n",
       "      <td>0.000350</td>\n",
       "      <td>-0.000069</td>\n",
       "      <td>-0.0154</td>\n",
       "      <td>2.620000e-05</td>\n",
       "      <td>0.00584</td>\n",
       "      <td>-0.504</td>\n",
       "      <td>-0.000120</td>\n",
       "      <td>0.000237</td>\n",
       "    </tr>\n",
       "    <tr>\n",
       "      <th>4</th>\n",
       "      <td>0</td>\n",
       "      <td>4</td>\n",
       "      <td>LQLHPQAGK</td>\n",
       "      <td>0</td>\n",
       "      <td>0.000002</td>\n",
       "      <td>3.800000e-07</td>\n",
       "      <td>7.570000e-05</td>\n",
       "      <td>0.000013</td>\n",
       "      <td>45.60000</td>\n",
       "      <td>13.20</td>\n",
       "      <td>...</td>\n",
       "      <td>0.000564</td>\n",
       "      <td>0.000027</td>\n",
       "      <td>0.000336</td>\n",
       "      <td>0.000013</td>\n",
       "      <td>7.6300</td>\n",
       "      <td>7.570000e-05</td>\n",
       "      <td>45.60000</td>\n",
       "      <td>2.690</td>\n",
       "      <td>0.000639</td>\n",
       "      <td>0.000237</td>\n",
       "    </tr>\n",
       "  </tbody>\n",
       "</table>\n",
       "<p>5 rows × 22 columns</p>\n",
       "</div>"
      ],
      "text/plain": [
       "   Chunk  Set        Peptide  Fit Error       kon       kon Err          koff  \\\n",
       "0      0    0       WTHPQFAT          0  0.000006  3.300000e-06  3.790000e-05   \n",
       "1      0    1       WTHPQFAT          0  0.000022  1.730000e-05  4.140000e-05   \n",
       "2      0    2       WTHLQFAT          0  0.000050  1.130000e-03  3.900000e-07   \n",
       "3      0    3  NGQFQVWIPLAQK          0  0.004490  6.520000e+01  2.620000e-05   \n",
       "4      0    4      LQLHPQAGK          0  0.000002  3.800000e-07  7.570000e-05   \n",
       "\n",
       "   koff Err        Kd  Kd Err       ...           Scale  Scale Err  Fit RMSE  \\\n",
       "0  0.000007   5.96000    3.27       ...        0.001290   0.000030  0.000500   \n",
       "1  0.000006   1.91000    1.55       ...        0.001030   0.000020  0.000344   \n",
       "2  0.000069   0.00787    1.40       ...       -0.000076   0.000020  0.000343   \n",
       "3  0.000055   0.00584   84.90       ...       -0.000108   0.000021  0.000350   \n",
       "4  0.000013  45.60000   13.20       ...        0.000564   0.000027  0.000336   \n",
       "\n",
       "   koff max  Kd max     koff best   Kd best  Assoc SNR  Assoc Signal  \\\n",
       "0  0.000008  1.3000  3.790000e-05   5.96000      7.130      0.001500   \n",
       "1  0.000007  0.3290  4.140000e-05   1.91000      3.430      0.000903   \n",
       "2 -0.000096 -1.9300  3.900000e-07   0.00787     -0.280     -0.000066   \n",
       "3 -0.000069 -0.0154  2.620000e-05   0.00584     -0.504     -0.000120   \n",
       "4  0.000013  7.6300  7.570000e-05  45.60000      2.690      0.000639   \n",
       "\n",
       "   Baseline Noise  \n",
       "0        0.000211  \n",
       "1        0.000263  \n",
       "2        0.000237  \n",
       "3        0.000237  \n",
       "4        0.000237  \n",
       "\n",
       "[5 rows x 22 columns]"
      ]
     },
     "execution_count": 177,
     "metadata": {},
     "output_type": "execute_result"
    }
   ],
   "source": [
    "df.head()"
   ]
  },
  {
   "cell_type": "code",
   "execution_count": 178,
   "metadata": {
    "collapsed": false,
    "deletable": true,
    "editable": true
   },
   "outputs": [
    {
     "name": "stdout",
     "output_type": "stream",
     "text": [
      "<class 'pandas.core.frame.DataFrame'>\n",
      "Int64Index: 4524 entries, 0 to 4523\n",
      "Data columns (total 22 columns):\n",
      "Chunk             4524 non-null int64\n",
      "Set               4524 non-null int64\n",
      "Peptide           4524 non-null object\n",
      "Fit Error         4524 non-null int64\n",
      "kon               4524 non-null float64\n",
      "kon Err           4523 non-null float64\n",
      "koff              4524 non-null float64\n",
      "koff Err          4523 non-null float64\n",
      "Kd                4523 non-null float64\n",
      "Kd Err            4523 non-null float64\n",
      "Theta Bar         4523 non-null float64\n",
      "Theta Bar Err     4523 non-null float64\n",
      "Scale             4524 non-null float64\n",
      "Scale Err         4523 non-null float64\n",
      "Fit RMSE          4524 non-null float64\n",
      "koff max          4523 non-null float64\n",
      "Kd max            4523 non-null float64\n",
      "koff best         4524 non-null float64\n",
      "Kd best           4523 non-null float64\n",
      "Assoc SNR         4524 non-null float64\n",
      "Assoc Signal      4524 non-null float64\n",
      "Baseline Noise    4524 non-null float64\n",
      "dtypes: float64(18), int64(3), object(1)\n",
      "memory usage: 812.9+ KB\n"
     ]
    }
   ],
   "source": [
    "df.info()"
   ]
  },
  {
   "cell_type": "markdown",
   "metadata": {
    "deletable": true,
    "editable": true
   },
   "source": [
    "## Proposed filtering\n",
    "### Throw away all fits with errors: "
   ]
  },
  {
   "cell_type": "code",
   "execution_count": 179,
   "metadata": {
    "collapsed": false,
    "deletable": true,
    "editable": true
   },
   "outputs": [],
   "source": [
    "df_filtered = df_filtered[df_filtered['Fit Error'] == 0]"
   ]
  },
  {
   "cell_type": "markdown",
   "metadata": {
    "deletable": true,
    "editable": true
   },
   "source": [
    "### Keep only curves with SNR > SNR_threshold:"
   ]
  },
  {
   "cell_type": "code",
   "execution_count": 180,
   "metadata": {
    "collapsed": true,
    "deletable": true,
    "editable": true
   },
   "outputs": [],
   "source": [
    "SNR_threshold = 2\n",
    "df_filtered = df_filtered[df_filtered['Assoc SNR'] > SNR_threshold]"
   ]
  },
  {
   "cell_type": "markdown",
   "metadata": {
    "deletable": true,
    "editable": true
   },
   "source": [
    "# Data inspection\n",
    "## Endpoint parameters\n",
    "### Distribution of Association Signal"
   ]
  },
  {
   "cell_type": "code",
   "execution_count": 181,
   "metadata": {
    "collapsed": false,
    "deletable": true,
    "editable": true
   },
   "outputs": [
    {
     "name": "stdout",
     "output_type": "stream",
     "text": [
      "Raw:\n",
      "Saturation signal is about 1 mrad\n"
     ]
    },
    {
     "data": {
      "image/png": "[encoded data removed]",
      "text/plain": [
       "<matplotlib.figure.Figure at 0x7f2ba48b0690>"
      ]
     },
     "metadata": {},
     "output_type": "display_data"
    }
   ],
   "source": [
    "sns.distplot(df['Assoc Signal'] * 1000, bins = 100)\n",
    "plt.xlim(-1, 2.2)\n",
    "plt.xlabel('Association Signal [mrad]', fontsize = 16)\n",
    "print 'Raw:\\nSaturation signal is about 1 mrad'"
   ]
  },
  {
   "cell_type": "code",
   "execution_count": 182,
   "metadata": {
    "collapsed": false,
    "deletable": true,
    "editable": true
   },
   "outputs": [
    {
     "name": "stdout",
     "output_type": "stream",
     "text": [
      "Filtered:\n",
      "Saturation signal is about 1 mrad\n"
     ]
    },
    {
     "data": {
      "image/png": "[encoded data removed]",
      "text/plain": [
       "<matplotlib.figure.Figure at 0x7f2ba48e2ed0>"
      ]
     },
     "metadata": {},
     "output_type": "display_data"
    }
   ],
   "source": [
    "sns.distplot(df_filtered['Assoc Signal'] * 1000)\n",
    "plt.xlim(-1, 2.2)\n",
    "plt.xlabel('Association Signal [mrad]', fontsize = 16)\n",
    "print 'Filtered:\\nSaturation signal is about 1 mrad'"
   ]
  },
  {
   "cell_type": "markdown",
   "metadata": {
    "collapsed": false,
    "deletable": true,
    "editable": true
   },
   "source": [
    "### Distribution of Association SNR"
   ]
  },
  {
   "cell_type": "code",
   "execution_count": 183,
   "metadata": {
    "collapsed": false,
    "deletable": true,
    "editable": true
   },
   "outputs": [
    {
     "name": "stdout",
     "output_type": "stream",
     "text": [
      "Raw:\n",
      "Should choose SNR threshold 2 or 3\n"
     ]
    },
    {
     "data": {
      "image/png": "[encoded data removed]",
      "text/plain": [
       "<matplotlib.figure.Figure at 0x7f2ba510b150>"
      ]
     },
     "metadata": {},
     "output_type": "display_data"
    }
   ],
   "source": [
    "sns.distplot(df['Assoc SNR'], bins = 80)\n",
    "plt.xlim(-5, 11)\n",
    "plt.xlabel('Association SNR', fontsize = 16)\n",
    "print 'Raw:\\nShould choose SNR threshold 2 or 3'"
   ]
  },
  {
   "cell_type": "code",
   "execution_count": 184,
   "metadata": {
    "collapsed": false,
    "deletable": true,
    "editable": true
   },
   "outputs": [
    {
     "name": "stdout",
     "output_type": "stream",
     "text": [
      "Filtered:\n",
      "With SNR_threshold = 2\n"
     ]
    },
    {
     "data": {
      "image/png": "[encoded data removed]",
      "text/plain": [
       "<matplotlib.figure.Figure at 0x7f2ba4502850>"
      ]
     },
     "metadata": {},
     "output_type": "display_data"
    }
   ],
   "source": [
    "sns.distplot(df_filtered['Assoc SNR'])\n",
    "plt.xlim(-5, 11)\n",
    "plt.xlabel('Association SNR', fontsize = 16)\n",
    "print 'Filtered:\\nWith SNR_threshold =', SNR_threshold"
   ]
  },
  {
   "cell_type": "markdown",
   "metadata": {
    "deletable": true,
    "editable": true
   },
   "source": [
    "### How many times Kd_max was chosen over Kd?"
   ]
  },
  {
   "cell_type": "code",
   "execution_count": 185,
   "metadata": {
    "collapsed": false,
    "deletable": true,
    "editable": true
   },
   "outputs": [
    {
     "name": "stdout",
     "output_type": "stream",
     "text": [
      "Raw\n",
      "In 1374 cases out of 4524 Kd was replaced by Kd max.\n",
      "\n",
      "Filtered\n",
      "In 246 cases out of 1011 Kd was replaced by Kd max.\n",
      "\n"
     ]
    }
   ],
   "source": [
    "print 'Raw\\nIn', sum(df['Kd best'] > df['Kd']), 'cases out of', len(df), 'Kd was replaced by Kd max.\\n'\n",
    "print 'Filtered\\nIn', sum(df_filtered['Kd best'] > df_filtered['Kd']), \\\n",
    "      'cases out of', len(df_filtered), 'Kd was replaced by Kd max.\\n'"
   ]
  },
  {
   "cell_type": "markdown",
   "metadata": {
    "deletable": true,
    "editable": true
   },
   "source": [
    "### How many fit errors?"
   ]
  },
  {
   "cell_type": "code",
   "execution_count": 186,
   "metadata": {
    "collapsed": false,
    "deletable": true,
    "editable": true
   },
   "outputs": [
    {
     "name": "stdout",
     "output_type": "stream",
     "text": [
      "Raw:\n",
      "109 fit errors among 4524 fits.\n",
      "\n",
      "Filtered:\n",
      "0 fit errors among 1011 fits.\n",
      "\n"
     ]
    }
   ],
   "source": [
    "print 'Raw:\\n', sum(df['Fit Error'] != 0), 'fit errors among', len(df), 'fits.\\n' \n",
    "print 'Filtered:\\n', sum(df_filtered['Fit Error'] != 0), 'fit errors among', len(df_filtered), 'fits.\\n' "
   ]
  },
  {
   "cell_type": "markdown",
   "metadata": {
    "deletable": true,
    "editable": true
   },
   "source": [
    "## Fit Parameters\n",
    "### Distribution of Fit RMSE"
   ]
  },
  {
   "cell_type": "code",
   "execution_count": 206,
   "metadata": {
    "collapsed": false,
    "deletable": true,
    "editable": true
   },
   "outputs": [
    {
     "name": "stdout",
     "output_type": "stream",
     "text": [
      "Raw:\n",
      "Fit RMSE threshold should be about 0.5 or 1\n"
     ]
    },
    {
     "data": {
      "image/png": "[encoded data removed]",
      "text/plain": [
       "<matplotlib.figure.Figure at 0x7f2ba4ac2490>"
      ]
     },
     "metadata": {},
     "output_type": "display_data"
    }
   ],
   "source": [
    "sns.distplot(df['Fit RMSE']*1000, bins = 500, kde = False)\n",
    "plt.xlim(0, 2)\n",
    "plt.xlabel('Fit RMSE [mrad]', fontsize = 16)\n",
    "print 'Raw:\\nFit RMSE threshold should be about 0.5 or 1'"
   ]
  },
  {
   "cell_type": "code",
   "execution_count": 220,
   "metadata": {
    "collapsed": false,
    "deletable": true,
    "editable": true
   },
   "outputs": [
    {
     "data": {
      "text/html": [
       "<div>\n",
       "<table border=\"1\" class=\"dataframe\">\n",
       "  <thead>\n",
       "    <tr style=\"text-align: right;\">\n",
       "      <th></th>\n",
       "      <th>Chunk</th>\n",
       "      <th>Set</th>\n",
       "      <th>Peptide</th>\n",
       "      <th>Fit RMSE</th>\n",
       "      <th>Assoc SNR</th>\n",
       "    </tr>\n",
       "  </thead>\n",
       "  <tbody>\n",
       "    <tr>\n",
       "      <th>1392</th>\n",
       "      <td>0</td>\n",
       "      <td>1392</td>\n",
       "      <td>LLWHPQAGK</td>\n",
       "      <td>0.00317</td>\n",
       "      <td>2.74</td>\n",
       "    </tr>\n",
       "    <tr>\n",
       "      <th>1584</th>\n",
       "      <td>1</td>\n",
       "      <td>76</td>\n",
       "      <td>AISPPPK</td>\n",
       "      <td>0.00256</td>\n",
       "      <td>2.33</td>\n",
       "    </tr>\n",
       "    <tr>\n",
       "      <th>1635</th>\n",
       "      <td>1</td>\n",
       "      <td>127</td>\n",
       "      <td>GKFPIPLGDQSG</td>\n",
       "      <td>0.00175</td>\n",
       "      <td>4.08</td>\n",
       "    </tr>\n",
       "    <tr>\n",
       "      <th>3252</th>\n",
       "      <td>2</td>\n",
       "      <td>236</td>\n",
       "      <td>AISPPPK</td>\n",
       "      <td>0.00191</td>\n",
       "      <td>2.09</td>\n",
       "    </tr>\n",
       "  </tbody>\n",
       "</table>\n",
       "</div>"
      ],
      "text/plain": [
       "      Chunk   Set       Peptide  Fit RMSE  Assoc SNR\n",
       "1392      0  1392     LLWHPQAGK   0.00317       2.74\n",
       "1584      1    76       AISPPPK   0.00256       2.33\n",
       "1635      1   127  GKFPIPLGDQSG   0.00175       4.08\n",
       "3252      2   236       AISPPPK   0.00191       2.09"
      ]
     },
     "execution_count": 220,
     "metadata": {},
     "output_type": "execute_result"
    }
   ],
   "source": [
    "sum(df_filtered['Fit RMSE'] > 0.0005)\n",
    "df_filtered[df_filtered['Fit RMSE'] > 0.0017][['Chunk', 'Set', 'Peptide', 'Fit RMSE', 'Assoc SNR']]"
   ]
  },
  {
   "cell_type": "code",
   "execution_count": 207,
   "metadata": {
    "collapsed": false,
    "deletable": true,
    "editable": true
   },
   "outputs": [
    {
     "name": "stdout",
     "output_type": "stream",
     "text": [
      "Filtered:\n",
      "Fit RMSE threshold should be about 0.5\n"
     ]
    },
    {
     "data": {
      "image/png": "[encoded data removed]",
      "text/plain": [
       "<matplotlib.figure.Figure at 0x7f2ba50e2a10>"
      ]
     },
     "metadata": {},
     "output_type": "display_data"
    }
   ],
   "source": [
    "sns.distplot(df_filtered['Fit RMSE']*1000, kde = False)\n",
    "plt.xlim(0, 2)\n",
    "plt.xlabel('Fit RMSE [mrad]', fontsize = 16)\n",
    "print 'Filtered:\\nFit RMSE threshold should be about 0.5'"
   ]
  },
  {
   "cell_type": "code",
   "execution_count": null,
   "metadata": {
    "collapsed": true,
    "deletable": true,
    "editable": true
   },
   "outputs": [],
   "source": []
  },
  {
   "cell_type": "markdown",
   "metadata": {
    "deletable": true,
    "editable": true
   },
   "source": [
    "### Distribution of fit parameter 'Scale'"
   ]
  },
  {
   "cell_type": "code",
   "execution_count": 187,
   "metadata": {
    "collapsed": false,
    "deletable": true,
    "editable": true
   },
   "outputs": [
    {
     "name": "stdout",
     "output_type": "stream",
     "text": [
      "Raw:\n",
      "Saturation signal is about 1 mrad\n"
     ]
    },
    {
     "data": {
      "image/png": "[encoded data removed]",
      "text/plain": [
       "<matplotlib.figure.Figure at 0x7f2ba4983ed0>"
      ]
     },
     "metadata": {},
     "output_type": "display_data"
    }
   ],
   "source": [
    "sns.distplot(df['Scale'] * 1000, bins = 500, kde = False)\n",
    "plt.xlim(-2, 3)\n",
    "plt.xlabel('Scale [mrad]', fontsize = 16)\n",
    "print 'Raw:\\nSaturation signal is about 1 mrad'"
   ]
  },
  {
   "cell_type": "code",
   "execution_count": 188,
   "metadata": {
    "collapsed": false,
    "deletable": true,
    "editable": true
   },
   "outputs": [
    {
     "name": "stdout",
     "output_type": "stream",
     "text": [
      "Filtered:\n",
      "Saturation signal is about 1 mrad\n"
     ]
    },
    {
     "data": {
      "image/png": "[encoded data removed]",
      "text/plain": [
       "<matplotlib.figure.Figure at 0x7f2ba4526490>"
      ]
     },
     "metadata": {},
     "output_type": "display_data"
    }
   ],
   "source": [
    "sns.distplot(df_filtered['Scale'] * 1000, bins = 500, kde = False)\n",
    "plt.xlim(-2, 3)\n",
    "plt.xlabel('Scale [mrad]', fontsize = 16)\n",
    "print 'Filtered:\\nSaturation signal is about 1 mrad'"
   ]
  },
  {
   "cell_type": "code",
   "execution_count": 195,
   "metadata": {
    "collapsed": false,
    "deletable": true,
    "editable": true
   },
   "outputs": [
    {
     "data": {
      "text/html": [
       "<div>\n",
       "<table border=\"1\" class=\"dataframe\">\n",
       "  <thead>\n",
       "    <tr style=\"text-align: right;\">\n",
       "      <th></th>\n",
       "      <th>Chunk</th>\n",
       "      <th>Set</th>\n",
       "      <th>Peptide</th>\n",
       "      <th>Theta Bar</th>\n",
       "      <th>Scale</th>\n",
       "      <th>Assoc SNR</th>\n",
       "      <th>Assoc Signal</th>\n",
       "    </tr>\n",
       "  </thead>\n",
       "  <tbody>\n",
       "    <tr>\n",
       "      <th>1635</th>\n",
       "      <td>1</td>\n",
       "      <td>127</td>\n",
       "      <td>GKFPIPLGDQSG</td>\n",
       "      <td>0.998</td>\n",
       "      <td>-0.002380</td>\n",
       "      <td>4.08</td>\n",
       "      <td>0.001230</td>\n",
       "    </tr>\n",
       "    <tr>\n",
       "      <th>2260</th>\n",
       "      <td>1</td>\n",
       "      <td>752</td>\n",
       "      <td>LQWHRQAGK</td>\n",
       "      <td>0.999</td>\n",
       "      <td>-0.001560</td>\n",
       "      <td>2.70</td>\n",
       "      <td>0.000511</td>\n",
       "    </tr>\n",
       "    <tr>\n",
       "      <th>4027</th>\n",
       "      <td>2</td>\n",
       "      <td>1011</td>\n",
       "      <td>QGRNSPAP</td>\n",
       "      <td>0.992</td>\n",
       "      <td>-0.000630</td>\n",
       "      <td>3.66</td>\n",
       "      <td>0.000685</td>\n",
       "    </tr>\n",
       "    <tr>\n",
       "      <th>4130</th>\n",
       "      <td>2</td>\n",
       "      <td>1114</td>\n",
       "      <td>LQCHPQAGK</td>\n",
       "      <td>1.000</td>\n",
       "      <td>-0.000637</td>\n",
       "      <td>2.35</td>\n",
       "      <td>0.000378</td>\n",
       "    </tr>\n",
       "  </tbody>\n",
       "</table>\n",
       "</div>"
      ],
      "text/plain": [
       "      Chunk   Set       Peptide  Theta Bar     Scale  Assoc SNR  Assoc Signal\n",
       "1635      1   127  GKFPIPLGDQSG      0.998 -0.002380       4.08      0.001230\n",
       "2260      1   752     LQWHRQAGK      0.999 -0.001560       2.70      0.000511\n",
       "4027      2  1011      QGRNSPAP      0.992 -0.000630       3.66      0.000685\n",
       "4130      2  1114     LQCHPQAGK      1.000 -0.000637       2.35      0.000378"
      ]
     },
     "execution_count": 195,
     "metadata": {},
     "output_type": "execute_result"
    }
   ],
   "source": [
    "df_filtered[df_filtered['Scale'] < 0][['Chunk', 'Set', 'Peptide', 'Theta Bar', 'Scale', 'Assoc SNR','Assoc Signal']]"
   ]
  },
  {
   "cell_type": "code",
   "execution_count": null,
   "metadata": {
    "collapsed": true,
    "deletable": true,
    "editable": true
   },
   "outputs": [],
   "source": []
  }
 ],
 "metadata": {
  "kernelspec": {
   "display_name": "Python 2",
   "language": "python",
   "name": "python2"
  },
  "language_info": {
   "codemirror_mode": {
    "name": "ipython",
    "version": 2
   },
   "file_extension": ".py",
   "mimetype": "text/x-python",
   "name": "python",
   "nbconvert_exporter": "python",
   "pygments_lexer": "ipython2",
   "version": "2.7.12"
  }
 },
 "nbformat": 4,
 "nbformat_minor": 0
}
