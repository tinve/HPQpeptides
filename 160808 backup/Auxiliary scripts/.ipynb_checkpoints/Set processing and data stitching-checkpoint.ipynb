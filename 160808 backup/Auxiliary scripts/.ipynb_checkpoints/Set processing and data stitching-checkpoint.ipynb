{
 "cells": [
  {
   "cell_type": "code",
   "execution_count": 2,
   "metadata": {
    "collapsed": false
   },
   "outputs": [],
   "source": [
    "from __future__ import division\n",
    "import numpy as np\n",
    "import pandas as pd"
   ]
  },
  {
   "cell_type": "markdown",
   "metadata": {},
   "source": [
    "# Script A\n",
    "Take KIN file which contains one curve per set. Input file is a saved set file from such KIN:\n",
    "\n",
    "| Set name | Curve index |\n",
    "|---|---|\n",
    "| Target_1 | 1 |\n",
    "| Target_2 | 3 |\n",
    "| Target_3 | 6 |\n",
    "| ... | ... |\n",
    "\n",
    "Following bit produces group file that can be loaded into original KIN. It generates two groups. One of them contains all sets whose name length is 8 and another one contains all sets whose name length is 9. Empty sets are omitted, even if their name has 8 or 9 characters.\n",
    "\n",
    "Notice that Curve index **is not the same** as Set index.\n",
    "\n",
    "| Set name | Set index |\n",
    "|---|---|\n",
    "| Length 8 | 1,2,4,5,9,... |\n",
    "| Length 9 | 3,6,8,11,... |"
   ]
  },
  {
   "cell_type": "code",
   "execution_count": 97,
   "metadata": {
    "collapsed": false
   },
   "outputs": [],
   "source": [
    "files_in  = ['scrubbed sets 0.txt',\n",
    "             'scrubbed sets 1.txt',\n",
    "             'scrubbed sets 2.txt']\n",
    "\n",
    "files_out = ['scrubbed length groups 0.txt',\n",
    "             'scrubbed length groups 1.txt',\n",
    "             'scrubbed length groups 2.txt']\n",
    "\n",
    "for i, file_in in enumerate(files_in):\n",
    "    df = pd.read_csv(file_in, sep = '\\t', header = None, keep_default_na = False)\n",
    "    \n",
    "    # add set index\n",
    "    df[2] = range(len(df))\n",
    "        \n",
    "    # drop empty sets\n",
    "    df = df[df[1] >= 0]\n",
    "    \n",
    "    df[0] = df[0].map(len)\n",
    "    df = df.groupby(0).agg(lambda x : ','.join([str(e) for e in x]))\n",
    "    \n",
    "    # keep only groups of sets with name length 8 or 9, drop curve indices\n",
    "    df = df.loc[[8, 9]].reset_index().drop(1, axis = 1)\n",
    "    df[0] = ['Length 8', 'Length 9']\n",
    "    df.to_csv(files_out[i], sep = '\\t', index = False, header = False)"
   ]
  },
  {
   "cell_type": "markdown",
   "metadata": {},
   "source": [
    "# Script B\n",
    "Take KIN file which contains one target (one labeled curve) per set. Set name matches curve label. Labels can repeat. Input file is a saved set file from such KIN:\n",
    "\n",
    "| Set name | Curve index |\n",
    "|---|---|\n",
    "| Target_1 | 1 |\n",
    "| Target_2 | 3 |\n",
    "| Target_3 | 6 |\n",
    "| ... | ... |\n",
    "\n",
    "Following bit produces set file that can be loaded into original KIN. New set file will produce sets where all curves with the same label are put into a set of the same name.\n",
    "\n",
    "| Set name | Curve index |\n",
    "|---|---|\n",
    "| Target_1 | 1,14,207 |\n",
    "| Target_2 | 3, 18, 100, 267 |\n",
    "| Target_3 | 6, 22 |\n",
    "| ... | ... |"
   ]
  },
  {
   "cell_type": "code",
   "execution_count": 99,
   "metadata": {
    "collapsed": false
   },
   "outputs": [],
   "source": [
    "file_in  = 'set indices scrubbed length 9.txt'\n",
    "file_out = 'sets scrubbed length 9 regrouped.txt'\n",
    "\n",
    "# file_in  = 'mixed sets.txt'\n",
    "# file_out = 'mixed sets regrouped.txt'\n",
    "\n",
    "df = pd.read_csv(file_in, sep = '\\t', header = None)\n",
    "df = df.groupby(0).agg(lambda x : ','.join([str(e) for e in x]))\n",
    "df.reset_index(inplace = True)\n",
    "df['len'] = df[0].map(len)\n",
    "df = df.sort(columns = ['len', 0]).drop('len', axis = 1)\n",
    "df.to_csv(file_out, sep = '\\t', index = False, header = False)"
   ]
  },
  {
   "cell_type": "markdown",
   "metadata": {
    "collapsed": true
   },
   "source": [
    "# Script C\n",
    "\n",
    "Takes output fit and endpoint txt files of two KIN files, stitches them together, dropping repeating columns."
   ]
  },
  {
   "cell_type": "code",
   "execution_count": 3,
   "metadata": {
    "collapsed": false
   },
   "outputs": [],
   "source": [
    "file_fit1 = '1-to-1 Fit Streptavidin scrubbed length 8.txt'\n",
    "file_fit2 = '1-to-1 Fit Streptavidin scrubbed length 9.txt'\n",
    "file_ep1 = 'Endpoint Streptavidin scrubbed length 8.txt'\n",
    "file_ep2 = 'Endpoint Streptavidin scrubbed length 9.txt'\n",
    "file_out = '1-to-1 Fit and Endpoint Streptavidin scrubbed length 8 and 9.csv'\n",
    "\n",
    "fit1 = pd.read_csv(file_fit1, sep = '\\t', header = 0)\n",
    "fit2 = pd.read_csv(file_fit2, sep = '\\t', header = 0)\n",
    "ep1 = pd.read_csv(file_ep1, sep = '\\t', header = 0)\n",
    "ep2 = pd.read_csv(file_ep2, sep = '\\t', header = 0)\n",
    "\n",
    "fit1_ep1 = pd.concat([fit1, ep1.iloc[:, 7:]], axis = 1)\n",
    "fit2_ep2 = pd.concat([fit2, ep2.iloc[:, 7:]], axis = 1)\n",
    "fit_ep = pd.concat([fit1_ep1, fit2_ep2], axis = 0)\n",
    "fit_ep.to_csv(file_out, index = False)"
   ]
  },
  {
   "cell_type": "code",
   "execution_count": null,
   "metadata": {
    "collapsed": true
   },
   "outputs": [],
   "source": []
  }
 ],
 "metadata": {
  "kernelspec": {
   "display_name": "Python 2",
   "language": "python",
   "name": "python2"
  },
  "language_info": {
   "codemirror_mode": {
    "name": "ipython",
    "version": 2
   },
   "file_extension": ".py",
   "mimetype": "text/x-python",
   "name": "python",
   "nbconvert_exporter": "python",
   "pygments_lexer": "ipython2",
   "version": "2.7.10"
  }
 },
 "nbformat": 4,
 "nbformat_minor": 0
}
