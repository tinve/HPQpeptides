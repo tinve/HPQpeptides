{
 "cells": [
  {
   "cell_type": "code",
   "execution_count": 133,
   "metadata": {
    "collapsed": false,
    "deletable": true,
    "editable": true,
    "scrolled": false
   },
   "outputs": [],
   "source": [
    "from __future__ import division\n",
    "\n",
    "import numpy as np\n",
    "import pandas as pd\n",
    "import matplotlib.pyplot as plt\n",
    "import seaborn as sns\n",
    "\n",
    "from scipy import stats\n",
    "from IPython.display import display\n",
    "\n",
    "import sys\n",
    "sys.path.append('/home/galina/PythonProjects/common_functions')\n",
    "import peptides as pep\n",
    "\n",
    "% matplotlib inline"
   ]
  },
  {
   "cell_type": "markdown",
   "metadata": {
    "deletable": true,
    "editable": true
   },
   "source": [
    "# Load data"
   ]
  },
  {
   "cell_type": "code",
   "execution_count": 108,
   "metadata": {
    "collapsed": false,
    "deletable": true,
    "editable": true
   },
   "outputs": [],
   "source": [
    "df = pd.read_csv('1-to-1 Fit and Endpoint  Streptavidin scrubbed length 8 and 9.csv')\n",
    "\n",
    "columns = ['Set',\n",
    "           'Curve',\n",
    "           'Label',\n",
    "           'Error Code',\n",
    "           'kon  [1/ (sec.nM)]',\n",
    "           'Err',\n",
    "           'koff  [1/sec]',\n",
    "           'Err.1',\n",
    "           'Kd  [nM]',\n",
    "           'Err.2',\n",
    "           'ThetaBar',\n",
    "           'Err.3',\n",
    "           'Scale',\n",
    "           'Err.4',\n",
    "           'RMSE Curve',\n",
    "           'koff_max  [1/sec]',\n",
    "           'Kd_max  [nM]',\n",
    "           'koff_best  [1/sec]',\n",
    "           'Kd_best  [nM]',\n",
    "           'Assoc. SNR',\n",
    "           'Assoc. Mean',\n",
    "           'Dissoc. SNR',\n",
    "           'Dissoc. Mean',\n",
    "           'Baseline Noise']\n",
    "\n",
    "df = df[columns]\n",
    "\n",
    "rename = {'Set'                : 'Set',\n",
    "          'Label'              : 'Peptide',\n",
    "          'Error Code'         : 'Fit Error',\n",
    "          'kon  [1/ (sec.nM)]' : 'kon',\n",
    "          'Err'                : 'kon Err',\n",
    "          'koff  [1/sec]'      : 'koff',\n",
    "          'Err.1'              : 'koff Err',\n",
    "          'Kd  [nM]'           : 'Kd',\n",
    "          'Err.2'              : 'Kd Err',\n",
    "          'ThetaBar'           : 'Theta Bar',\n",
    "          'Err.3'              : 'Theta Bar Err',\n",
    "          'Scale'              : 'Scale',\n",
    "          'Err.4'              : 'Scale Err',\n",
    "          'RMSE Curve'         : 'Fit RMSE',\n",
    "          'koff_max  [1/sec]'  : 'koff max',\n",
    "          'Kd_max  [nM]'       : 'Kd max',\n",
    "          'koff_best  [1/sec]' : 'koff best',\n",
    "          'Kd_best  [nM]'      : 'Kd best',\n",
    "          'Assoc. SNR'         : 'Assoc SNR',\n",
    "          'Assoc. Mean'        : 'Assoc Signal',\n",
    "          'Dissoc. SNR'        : 'Dissoc SNR',\n",
    "          'Dissoc. Mean'       : 'Dissoc Signal',\n",
    "          'Baseline Noise'     : 'Baseline Noise'}\n",
    "\n",
    "df = df.rename(columns = rename)\n",
    "df['Peptide Weight'] = df['Peptide'].map(pep.weight)\n",
    "df['Peptide Length'] = df['Peptide'].map(len)"
   ]
  },
  {
   "cell_type": "code",
   "execution_count": 109,
   "metadata": {
    "collapsed": false,
    "deletable": true,
    "editable": true
   },
   "outputs": [
    {
     "data": {
      "text/html": [
       "<div>\n",
       "<table border=\"1\" class=\"dataframe\">\n",
       "  <thead>\n",
       "    <tr style=\"text-align: right;\">\n",
       "      <th></th>\n",
       "      <th>Set</th>\n",
       "      <th>Curve</th>\n",
       "      <th>Peptide</th>\n",
       "      <th>Fit Error</th>\n",
       "      <th>kon</th>\n",
       "      <th>kon Err</th>\n",
       "      <th>koff</th>\n",
       "      <th>koff Err</th>\n",
       "      <th>Kd</th>\n",
       "      <th>Kd Err</th>\n",
       "      <th>...</th>\n",
       "      <th>Kd max</th>\n",
       "      <th>koff best</th>\n",
       "      <th>Kd best</th>\n",
       "      <th>Assoc SNR</th>\n",
       "      <th>Assoc Signal</th>\n",
       "      <th>Dissoc SNR</th>\n",
       "      <th>Dissoc Signal</th>\n",
       "      <th>Baseline Noise</th>\n",
       "      <th>Peptide Weight</th>\n",
       "      <th>Peptide Length</th>\n",
       "    </tr>\n",
       "  </thead>\n",
       "  <tbody>\n",
       "    <tr>\n",
       "      <th>0</th>\n",
       "      <td>0</td>\n",
       "      <td>0</td>\n",
       "      <td>ATHPQFAT</td>\n",
       "      <td>0</td>\n",
       "      <td>0.000005</td>\n",
       "      <td>0.000001</td>\n",
       "      <td>0.000033</td>\n",
       "      <td>0.000004</td>\n",
       "      <td>6.603</td>\n",
       "      <td>1.870</td>\n",
       "      <td>...</td>\n",
       "      <td>2.112</td>\n",
       "      <td>0.000033</td>\n",
       "      <td>6.603</td>\n",
       "      <td>3.099982</td>\n",
       "      <td>0.000825</td>\n",
       "      <td>2.079701</td>\n",
       "      <td>0.000553</td>\n",
       "      <td>0.000266</td>\n",
       "      <td>871.949</td>\n",
       "      <td>8</td>\n",
       "    </tr>\n",
       "    <tr>\n",
       "      <th>1</th>\n",
       "      <td>0</td>\n",
       "      <td>1</td>\n",
       "      <td>ATHPQFAT</td>\n",
       "      <td>0</td>\n",
       "      <td>0.000005</td>\n",
       "      <td>0.000001</td>\n",
       "      <td>0.000033</td>\n",
       "      <td>0.000004</td>\n",
       "      <td>6.603</td>\n",
       "      <td>1.870</td>\n",
       "      <td>...</td>\n",
       "      <td>1.408</td>\n",
       "      <td>0.000033</td>\n",
       "      <td>6.603</td>\n",
       "      <td>5.865785</td>\n",
       "      <td>0.001086</td>\n",
       "      <td>4.209834</td>\n",
       "      <td>0.000779</td>\n",
       "      <td>0.000185</td>\n",
       "      <td>871.949</td>\n",
       "      <td>8</td>\n",
       "    </tr>\n",
       "    <tr>\n",
       "      <th>2</th>\n",
       "      <td>0</td>\n",
       "      <td>2</td>\n",
       "      <td>ATHPQFAT</td>\n",
       "      <td>0</td>\n",
       "      <td>0.000005</td>\n",
       "      <td>0.000001</td>\n",
       "      <td>0.000033</td>\n",
       "      <td>0.000004</td>\n",
       "      <td>6.603</td>\n",
       "      <td>1.870</td>\n",
       "      <td>...</td>\n",
       "      <td>1.414</td>\n",
       "      <td>0.000033</td>\n",
       "      <td>6.603</td>\n",
       "      <td>5.234234</td>\n",
       "      <td>0.000830</td>\n",
       "      <td>5.072003</td>\n",
       "      <td>0.000804</td>\n",
       "      <td>0.000159</td>\n",
       "      <td>871.949</td>\n",
       "      <td>8</td>\n",
       "    </tr>\n",
       "    <tr>\n",
       "      <th>3</th>\n",
       "      <td>1</td>\n",
       "      <td>0</td>\n",
       "      <td>CTHPQFAT</td>\n",
       "      <td>0</td>\n",
       "      <td>0.000004</td>\n",
       "      <td>0.000001</td>\n",
       "      <td>0.000052</td>\n",
       "      <td>0.000004</td>\n",
       "      <td>13.330</td>\n",
       "      <td>3.647</td>\n",
       "      <td>...</td>\n",
       "      <td>2.157</td>\n",
       "      <td>0.000052</td>\n",
       "      <td>13.330</td>\n",
       "      <td>6.570487</td>\n",
       "      <td>0.001053</td>\n",
       "      <td>4.663500</td>\n",
       "      <td>0.000747</td>\n",
       "      <td>0.000160</td>\n",
       "      <td>904.009</td>\n",
       "      <td>8</td>\n",
       "    </tr>\n",
       "    <tr>\n",
       "      <th>4</th>\n",
       "      <td>1</td>\n",
       "      <td>1</td>\n",
       "      <td>CTHPQFAT</td>\n",
       "      <td>0</td>\n",
       "      <td>0.000004</td>\n",
       "      <td>0.000001</td>\n",
       "      <td>0.000052</td>\n",
       "      <td>0.000004</td>\n",
       "      <td>13.330</td>\n",
       "      <td>3.647</td>\n",
       "      <td>...</td>\n",
       "      <td>2.083</td>\n",
       "      <td>0.000052</td>\n",
       "      <td>13.330</td>\n",
       "      <td>5.504557</td>\n",
       "      <td>0.001016</td>\n",
       "      <td>3.307565</td>\n",
       "      <td>0.000611</td>\n",
       "      <td>0.000185</td>\n",
       "      <td>904.009</td>\n",
       "      <td>8</td>\n",
       "    </tr>\n",
       "  </tbody>\n",
       "</table>\n",
       "<p>5 rows × 26 columns</p>\n",
       "</div>"
      ],
      "text/plain": [
       "   Set  Curve   Peptide  Fit Error       kon   kon Err      koff  koff Err  \\\n",
       "0    0      0  ATHPQFAT          0  0.000005  0.000001  0.000033  0.000004   \n",
       "1    0      1  ATHPQFAT          0  0.000005  0.000001  0.000033  0.000004   \n",
       "2    0      2  ATHPQFAT          0  0.000005  0.000001  0.000033  0.000004   \n",
       "3    1      0  CTHPQFAT          0  0.000004  0.000001  0.000052  0.000004   \n",
       "4    1      1  CTHPQFAT          0  0.000004  0.000001  0.000052  0.000004   \n",
       "\n",
       "       Kd  Kd Err       ...        Kd max  koff best  Kd best  Assoc SNR  \\\n",
       "0   6.603   1.870       ...         2.112   0.000033    6.603   3.099982   \n",
       "1   6.603   1.870       ...         1.408   0.000033    6.603   5.865785   \n",
       "2   6.603   1.870       ...         1.414   0.000033    6.603   5.234234   \n",
       "3  13.330   3.647       ...         2.157   0.000052   13.330   6.570487   \n",
       "4  13.330   3.647       ...         2.083   0.000052   13.330   5.504557   \n",
       "\n",
       "   Assoc Signal  Dissoc SNR  Dissoc Signal  Baseline Noise  Peptide Weight  \\\n",
       "0      0.000825    2.079701       0.000553        0.000266         871.949   \n",
       "1      0.001086    4.209834       0.000779        0.000185         871.949   \n",
       "2      0.000830    5.072003       0.000804        0.000159         871.949   \n",
       "3      0.001053    4.663500       0.000747        0.000160         904.009   \n",
       "4      0.001016    3.307565       0.000611        0.000185         904.009   \n",
       "\n",
       "   Peptide Length  \n",
       "0               8  \n",
       "1               8  \n",
       "2               8  \n",
       "3               8  \n",
       "4               8  \n",
       "\n",
       "[5 rows x 26 columns]"
      ]
     },
     "execution_count": 109,
     "metadata": {},
     "output_type": "execute_result"
    }
   ],
   "source": [
    "df.head()"
   ]
  },
  {
   "cell_type": "code",
   "execution_count": 110,
   "metadata": {
    "collapsed": false,
    "deletable": true,
    "editable": true
   },
   "outputs": [
    {
     "name": "stdout",
     "output_type": "stream",
     "text": [
      "<class 'pandas.core.frame.DataFrame'>\n",
      "RangeIndex: 1054 entries, 0 to 1053\n",
      "Data columns (total 26 columns):\n",
      "Set               1054 non-null int64\n",
      "Curve             1054 non-null int64\n",
      "Peptide           1054 non-null object\n",
      "Fit Error         1054 non-null int64\n",
      "kon               1054 non-null float64\n",
      "kon Err           1054 non-null float64\n",
      "koff              1054 non-null float64\n",
      "koff Err          1054 non-null float64\n",
      "Kd                1054 non-null float64\n",
      "Kd Err            1054 non-null float64\n",
      "Theta Bar         1054 non-null float64\n",
      "Theta Bar Err     1054 non-null float64\n",
      "Scale             1054 non-null float64\n",
      "Scale Err         1054 non-null float64\n",
      "Fit RMSE          1054 non-null float64\n",
      "koff max          1054 non-null float64\n",
      "Kd max            1054 non-null float64\n",
      "koff best         1054 non-null float64\n",
      "Kd best           1054 non-null float64\n",
      "Assoc SNR         1054 non-null float64\n",
      "Assoc Signal      1054 non-null float64\n",
      "Dissoc SNR        1054 non-null float64\n",
      "Dissoc Signal     1054 non-null float64\n",
      "Baseline Noise    1054 non-null float64\n",
      "Peptide Weight    1054 non-null float64\n",
      "Peptide Length    1054 non-null int64\n",
      "dtypes: float64(21), int64(4), object(1)\n",
      "memory usage: 214.2+ KB\n"
     ]
    }
   ],
   "source": [
    "df.info()"
   ]
  },
  {
   "cell_type": "markdown",
   "metadata": {
    "deletable": true,
    "editable": true
   },
   "source": [
    "# Data inspection\n",
    "## Endpoint parameters\n",
    "### Distribution of Association Signal"
   ]
  },
  {
   "cell_type": "code",
   "execution_count": 111,
   "metadata": {
    "collapsed": false,
    "deletable": true,
    "editable": true
   },
   "outputs": [
    {
     "data": {
      "text/plain": [
       "<matplotlib.text.Text at 0x7f34b7c71510>"
      ]
     },
     "execution_count": 111,
     "metadata": {},
     "output_type": "execute_result"
    },
    {
     "data": {
      "image/png": "[encoded data removed]",
      "text/plain": [
       "<matplotlib.figure.Figure at 0x7f34b7c85550>"
      ]
     },
     "metadata": {},
     "output_type": "display_data"
    }
   ],
   "source": [
    "sns.distplot(df['Assoc Signal'] * 1000, bins = 50)\n",
    "plt.xlim(-1, 2.2)\n",
    "plt.xlabel('Association Signal d2H [mrad]', fontsize = 16)"
   ]
  },
  {
   "cell_type": "code",
   "execution_count": 114,
   "metadata": {
    "collapsed": false,
    "deletable": true,
    "editable": true
   },
   "outputs": [
    {
     "data": {
      "text/plain": [
       "<matplotlib.text.Text at 0x7f34b729c610>"
      ]
     },
     "execution_count": 114,
     "metadata": {},
     "output_type": "execute_result"
    },
    {
     "data": {
      "image/png": "[encoded data removed]",
      "text/plain": [
       "<matplotlib.figure.Figure at 0x7f34b7300890>"
      ]
     },
     "metadata": {},
     "output_type": "display_data"
    }
   ],
   "source": [
    "contains_HPQM = df['Peptide'].str.contains(r'HP[QM]')\n",
    "sns.distplot(df[contains_HPQM]['Assoc Signal'] * 1000, bins = 50)\n",
    "sns.distplot(df[~contains_HPQM]['Assoc Signal'] * 1000, bins = 20)\n",
    "plt.xlim(-1, 2.2)\n",
    "plt.xlabel('Association Signal d2H [mrad]', fontsize = 16)"
   ]
  },
  {
   "cell_type": "markdown",
   "metadata": {
    "collapsed": true,
    "deletable": true,
    "editable": true
   },
   "source": [
    "# Aggregate by peptides\n",
    "\n",
    "In my KIN file, curves are partitioned by their label (peptide name). Each sets contains curves from the same peptide and curve from the peptide of the same name is put into one set.\n",
    "\n",
    "I combine my Fit and Endpoint data by peptide name.\n",
    "\n",
    "In global fit $\\mathbf{K_d}$ and $\\mathbf{Err(K_d)}$ are the same for each curve in the set, so I can pick any value (I pick first).\n",
    "\n",
    "**Scale**, **SNR** and **Association Signal** vary from curve to curve within a given set. I pick maximal value in each set (corresponds to strongest reaction among targets of the same peptide type).\n",
    "\n",
    "### $\\mathbf{K_d^{(best)}}$ treatment\n",
    "I argue that for $\\mathbf{K_d^{(best)}}$ I should pick minimal value within a set. Here is my reasoning.\n",
    "\n",
    "For a given curve, we can calculate $k_{off}^{(max)}$, which corresponds to a detection limit of dissociation rate in a curve with given noise. If this value exceeds $k_{off}$ yielded by a fitting algorith, we assume that $k_{off}$ from the fit is unreliable and report $K_d^{(best)} = \\dfrac{k_{off}^{(max)}}{k_{on}}$ as an upper bound of $K_d$ value (it's our detection limit).\n",
    "\n",
    "If fit value for $k_{off}$ exceeds detection limit of $k_{off}^{(max)}$, we simply report $K_d^{(best)} = \\dfrac{k_{off}}{k_{on}}$.\n",
    "\n",
    "When we have several curves in a set, three fitting outcomes are possible:\n",
    "\n",
    "- In all cases $K_d^{(best)} = K_d$. In this case all fitted dissociation rates are the same and above detection limit. All $K_d^((best))$ values are also the same and we can report any one of them.\n",
    "\n",
    "- Some curves have dissociation rate above detection limit and $K_d^{(best)} = K_d$ (the same value for all such curves) and some have $K_d^{(best)} > K_d$ (values of such $K_d^{(best)}$ can vary from curve to curve. We should report $K_d$ from the curves of the first type. It is equal to minimal $K_d^{(best)}$ value in the set.\n",
    "\n",
    "- All curves have $K_d^{(best)} > K_d$ and all values are different. Each of them gives us an upper bound of $K_d$. Limited by detection power, we don't know exact value of $K_d$, but we know that it does not exceed a certain threshold, defined by the noisiness of the curve. Obviously, we should choose the strongest statement and report minimal of $K_d^{(best)}$ values in this case. We should also keep in mind that, unlike in the previous two cases, this $K_d^{(best)}$ is merely an upper boundary of $K_d$, not an actual $K_d$ value.\n",
    "\n",
    "I introduce a special flag **Upper Bound** (true or false) to distinguish between $K_d^{(best)}$ values of two kinds."
   ]
  },
  {
   "cell_type": "code",
   "execution_count": 115,
   "metadata": {
    "collapsed": false
   },
   "outputs": [
    {
     "data": {
      "text/html": [
       "<div>\n",
       "<table border=\"1\" class=\"dataframe\">\n",
       "  <thead>\n",
       "    <tr style=\"text-align: right;\">\n",
       "      <th></th>\n",
       "      <th>Peptide</th>\n",
       "      <th>Peptide Length</th>\n",
       "      <th>Peptide Weight</th>\n",
       "      <th>Number of Spots</th>\n",
       "      <th>kon</th>\n",
       "      <th>kon Err</th>\n",
       "      <th>koff</th>\n",
       "      <th>koff Err</th>\n",
       "      <th>Kd fit</th>\n",
       "      <th>Kd best</th>\n",
       "      <th>...</th>\n",
       "      <th>Kd Err</th>\n",
       "      <th>Scale mean</th>\n",
       "      <th>Scale max</th>\n",
       "      <th>Assoc SNR mean</th>\n",
       "      <th>Assoc SNR max</th>\n",
       "      <th>Assoc Signal mean</th>\n",
       "      <th>Assoc Signal max</th>\n",
       "      <th>Assoc Signal SE</th>\n",
       "      <th>Dissoc Signal mean</th>\n",
       "      <th>Dissoc Signal SE</th>\n",
       "    </tr>\n",
       "  </thead>\n",
       "  <tbody>\n",
       "    <tr>\n",
       "      <th>1</th>\n",
       "      <td>ATHPQFAT</td>\n",
       "      <td>8</td>\n",
       "      <td>871.949</td>\n",
       "      <td>3</td>\n",
       "      <td>0.000005</td>\n",
       "      <td>0.000001</td>\n",
       "      <td>0.000033</td>\n",
       "      <td>0.000004</td>\n",
       "      <td>6.603</td>\n",
       "      <td>6.603</td>\n",
       "      <td>...</td>\n",
       "      <td>1.8700</td>\n",
       "      <td>0.000873</td>\n",
       "      <td>0.000982</td>\n",
       "      <td>4.733334</td>\n",
       "      <td>5.865785</td>\n",
       "      <td>0.000914</td>\n",
       "      <td>0.001086</td>\n",
       "      <td>0.000086</td>\n",
       "      <td>0.000712</td>\n",
       "      <td>0.000080</td>\n",
       "    </tr>\n",
       "    <tr>\n",
       "      <th>3</th>\n",
       "      <td>CTHPQFAT</td>\n",
       "      <td>8</td>\n",
       "      <td>904.009</td>\n",
       "      <td>3</td>\n",
       "      <td>0.000004</td>\n",
       "      <td>0.000001</td>\n",
       "      <td>0.000052</td>\n",
       "      <td>0.000004</td>\n",
       "      <td>13.330</td>\n",
       "      <td>13.330</td>\n",
       "      <td>...</td>\n",
       "      <td>3.6470</td>\n",
       "      <td>0.000914</td>\n",
       "      <td>0.000966</td>\n",
       "      <td>5.595369</td>\n",
       "      <td>6.570487</td>\n",
       "      <td>0.001036</td>\n",
       "      <td>0.001053</td>\n",
       "      <td>0.000011</td>\n",
       "      <td>0.000734</td>\n",
       "      <td>0.000068</td>\n",
       "    </tr>\n",
       "    <tr>\n",
       "      <th>5</th>\n",
       "      <td>DTHPQFAT</td>\n",
       "      <td>8</td>\n",
       "      <td>915.959</td>\n",
       "      <td>2</td>\n",
       "      <td>0.000007</td>\n",
       "      <td>0.000002</td>\n",
       "      <td>0.000029</td>\n",
       "      <td>0.000004</td>\n",
       "      <td>4.131</td>\n",
       "      <td>4.131</td>\n",
       "      <td>...</td>\n",
       "      <td>1.5470</td>\n",
       "      <td>0.001084</td>\n",
       "      <td>0.001098</td>\n",
       "      <td>6.492738</td>\n",
       "      <td>6.878876</td>\n",
       "      <td>0.001306</td>\n",
       "      <td>0.001323</td>\n",
       "      <td>0.000017</td>\n",
       "      <td>0.000952</td>\n",
       "      <td>0.000037</td>\n",
       "    </tr>\n",
       "    <tr>\n",
       "      <th>7</th>\n",
       "      <td>ETHPQFAT</td>\n",
       "      <td>8</td>\n",
       "      <td>929.986</td>\n",
       "      <td>2</td>\n",
       "      <td>0.000007</td>\n",
       "      <td>0.000003</td>\n",
       "      <td>0.000027</td>\n",
       "      <td>0.000005</td>\n",
       "      <td>3.669</td>\n",
       "      <td>3.669</td>\n",
       "      <td>...</td>\n",
       "      <td>1.5310</td>\n",
       "      <td>0.000995</td>\n",
       "      <td>0.001172</td>\n",
       "      <td>4.069783</td>\n",
       "      <td>4.340134</td>\n",
       "      <td>0.001025</td>\n",
       "      <td>0.001048</td>\n",
       "      <td>0.000023</td>\n",
       "      <td>0.000854</td>\n",
       "      <td>0.000352</td>\n",
       "    </tr>\n",
       "    <tr>\n",
       "      <th>9</th>\n",
       "      <td>FTHPQFAT</td>\n",
       "      <td>8</td>\n",
       "      <td>948.047</td>\n",
       "      <td>2</td>\n",
       "      <td>0.000009</td>\n",
       "      <td>0.000004</td>\n",
       "      <td>0.000012</td>\n",
       "      <td>0.000004</td>\n",
       "      <td>1.286</td>\n",
       "      <td>1.286</td>\n",
       "      <td>...</td>\n",
       "      <td>0.7046</td>\n",
       "      <td>0.001032</td>\n",
       "      <td>0.001123</td>\n",
       "      <td>7.376638</td>\n",
       "      <td>7.917861</td>\n",
       "      <td>0.001195</td>\n",
       "      <td>0.001298</td>\n",
       "      <td>0.000104</td>\n",
       "      <td>0.000891</td>\n",
       "      <td>0.000125</td>\n",
       "    </tr>\n",
       "  </tbody>\n",
       "</table>\n",
       "<p>5 rows × 21 columns</p>\n",
       "</div>"
      ],
      "text/plain": [
       "    Peptide  Peptide Length  Peptide Weight  Number of Spots       kon  \\\n",
       "1  ATHPQFAT               8         871.949                3  0.000005   \n",
       "3  CTHPQFAT               8         904.009                3  0.000004   \n",
       "5  DTHPQFAT               8         915.959                2  0.000007   \n",
       "7  ETHPQFAT               8         929.986                2  0.000007   \n",
       "9  FTHPQFAT               8         948.047                2  0.000009   \n",
       "\n",
       "    kon Err      koff  koff Err  Kd fit  Kd best        ...         Kd Err  \\\n",
       "1  0.000001  0.000033  0.000004   6.603    6.603        ...         1.8700   \n",
       "3  0.000001  0.000052  0.000004  13.330   13.330        ...         3.6470   \n",
       "5  0.000002  0.000029  0.000004   4.131    4.131        ...         1.5470   \n",
       "7  0.000003  0.000027  0.000005   3.669    3.669        ...         1.5310   \n",
       "9  0.000004  0.000012  0.000004   1.286    1.286        ...         0.7046   \n",
       "\n",
       "   Scale mean  Scale max  Assoc SNR mean  Assoc SNR max  Assoc Signal mean  \\\n",
       "1    0.000873   0.000982        4.733334       5.865785           0.000914   \n",
       "3    0.000914   0.000966        5.595369       6.570487           0.001036   \n",
       "5    0.001084   0.001098        6.492738       6.878876           0.001306   \n",
       "7    0.000995   0.001172        4.069783       4.340134           0.001025   \n",
       "9    0.001032   0.001123        7.376638       7.917861           0.001195   \n",
       "\n",
       "   Assoc Signal max  Assoc Signal SE  Dissoc Signal mean  Dissoc Signal SE  \n",
       "1          0.001086         0.000086            0.000712          0.000080  \n",
       "3          0.001053         0.000011            0.000734          0.000068  \n",
       "5          0.001323         0.000017            0.000952          0.000037  \n",
       "7          0.001048         0.000023            0.000854          0.000352  \n",
       "9          0.001298         0.000104            0.000891          0.000125  \n",
       "\n",
       "[5 rows x 21 columns]"
      ]
     },
     "execution_count": 115,
     "metadata": {},
     "output_type": "execute_result"
    }
   ],
   "source": [
    "f = {'Peptide'        : {'Number of Spots' : 'count'},\n",
    "     \n",
    "     'Peptide Length' : {'Peptide Length' : 'first'},\n",
    "     'Peptide Weight' : {'Peptide Weight' : 'first'},\n",
    "     \n",
    "     'kon'            : {'kon'      : 'first'},\n",
    "     'kon Err'        : {'kon Err'  : 'first'},\n",
    "     'koff'           : {'koff'     : 'first'},     \n",
    "     'koff Err'       : {'koff Err' : 'first'},\n",
    "     'Kd'             : {'Kd fit'   : 'first'},\n",
    "     'Kd Err'         : {'Kd Err'   : 'first'},\n",
    "     \n",
    "     'Kd best'        : {'Kd best' : 'min'},\n",
    "     'Kd max'         : {'Kd max'  : 'min'},\n",
    "     \n",
    "     'Scale'          : {'Scale max'        : 'max', 'Scale mean'        : 'mean'},\n",
    "     'Assoc SNR'      : {'Assoc SNR max'    : 'max', 'Assoc SNR mean'    : 'mean'},\n",
    "     'Assoc Signal'   : {'Assoc Signal max' : 'max', 'Assoc Signal mean' : 'mean', 'Assoc Signal SE' : stats.sem},\n",
    "    \n",
    "     'Dissoc Signal'  : {'Dissoc Signal mean' : 'mean', 'Dissoc Signal SE' : stats.sem},\n",
    "    }\n",
    "\n",
    "columns = ['Peptide',\n",
    "           'Peptide Length',\n",
    "           'Peptide Weight',\n",
    "           'Number of Spots',\n",
    "           'kon',\n",
    "           'kon Err',\n",
    "           'koff',\n",
    "           'koff Err',\n",
    "           'Kd fit',\n",
    "           'Kd best',\n",
    "           'Kd max',\n",
    "           'Kd Err',\n",
    "           'Scale mean',\n",
    "           'Scale max',\n",
    "           'Assoc SNR mean',\n",
    "           'Assoc SNR max',\n",
    "           'Assoc Signal mean',\n",
    "           'Assoc Signal max',\n",
    "           'Assoc Signal SE',\n",
    "           'Dissoc Signal mean',\n",
    "           'Dissoc Signal SE']\n",
    "\n",
    "aggregated = df.groupby(['Peptide']).agg(f)\n",
    "aggregated.reset_index(col_level = 1, inplace = True)\n",
    "aggregated.columns = aggregated.columns.droplevel()\n",
    "aggregated = aggregated[columns].sort_values(by = ['Peptide Length', 'Peptide'])\n",
    "aggregated.head()"
   ]
  },
  {
   "cell_type": "code",
   "execution_count": 116,
   "metadata": {
    "collapsed": false
   },
   "outputs": [
    {
     "data": {
      "text/plain": [
       "<matplotlib.text.Text at 0x7f34b7150290>"
      ]
     },
     "execution_count": 116,
     "metadata": {},
     "output_type": "execute_result"
    },
    {
     "data": {
      "image/png": "[encoded data removed]",
      "text/plain": [
       "<matplotlib.figure.Figure at 0x7f34b7181610>"
      ]
     },
     "metadata": {},
     "output_type": "display_data"
    }
   ],
   "source": [
    "sns.distplot(aggregated['Assoc Signal mean'] * 1000, bins = 50)\n",
    "# sns.distplot(aggregated['Assoc Signal max'] * 1000, bins = 50)\n",
    "plt.xlim(-1, 2.2)\n",
    "plt.xlabel('Association Signal d2H [mrad]', fontsize = 16)"
   ]
  },
  {
   "cell_type": "code",
   "execution_count": 118,
   "metadata": {
    "collapsed": false
   },
   "outputs": [
    {
     "data": {
      "text/plain": [
       "<matplotlib.text.Text at 0x7f34b93f3c50>"
      ]
     },
     "execution_count": 118,
     "metadata": {},
     "output_type": "execute_result"
    },
    {
     "data": {
      "image/png": "[encoded data removed]",
      "text/plain": [
       "<matplotlib.figure.Figure at 0x7f34b6f10450>"
      ]
     },
     "metadata": {},
     "output_type": "display_data"
    }
   ],
   "source": [
    "contains_HPQM_agg = aggregated['Peptide'].str.contains(r'HP[QM]')\n",
    "sns.distplot(aggregated[contains_HPQM_agg]['Assoc Signal mean'] * 1000, bins = 50)\n",
    "sns.distplot(aggregated[~contains_HPQM_agg]['Assoc Signal mean'] * 1000, bins = 20)\n",
    "plt.xlim(-1, 2.2)\n",
    "plt.xlabel('Association Signal d2H [mrad]', fontsize = 16)"
   ]
  },
  {
   "cell_type": "code",
   "execution_count": 119,
   "metadata": {
    "collapsed": false
   },
   "outputs": [
    {
     "name": "stdout",
     "output_type": "stream",
     "text": [
      "We have to impose Kd* = 30000 nM = 30 uM = 0.00003 M on non-reactive spots rather than use fit result.\n"
     ]
    },
    {
     "data": {
      "image/png": "[encoded data removed]",
      "text/plain": [
       "<matplotlib.figure.Figure at 0x7f34b7e1d810>"
      ]
     },
     "metadata": {},
     "output_type": "display_data"
    }
   ],
   "source": [
    "snr_threshold   = 2\n",
    "scale_threshold = 0.0004\n",
    "\n",
    "aggregated['Reaction'] = (aggregated['Assoc SNR max'] > snr_threshold) & \\\n",
    "                         (aggregated['Scale max'] > scale_threshold)\n",
    "\n",
    "sns.distplot(np.log10(aggregated[ aggregated['Reaction']]['Kd best']), label =   'Reaction')\n",
    "sns.distplot(np.log10(aggregated[~aggregated['Reaction']]['Kd best']), label ='No Reaction')\n",
    "plt.xlabel('$\\log_{10}\\mathbf{\\ K_d^{(best)}}}$', fontsize = 18)\n",
    "plt.legend(fontsize = 16, loc = 2)\n",
    "print 'We have to impose Kd* = 30000 nM = 30 uM = 0.00003 M on non-reactive spots rather than use fit result.'"
   ]
  },
  {
   "cell_type": "code",
   "execution_count": 120,
   "metadata": {
    "collapsed": false
   },
   "outputs": [
    {
     "name": "stdout",
     "output_type": "stream",
     "text": [
      "Peptides with kon < Err(kon)\n"
     ]
    },
    {
     "data": {
      "text/plain": [
       "32     LQCHPQAGK\n",
       "129    LQWHPQNGK\n",
       "Name: Peptide, dtype: object"
      ]
     },
     "execution_count": 120,
     "metadata": {},
     "output_type": "execute_result"
    }
   ],
   "source": [
    "reacted = aggregated[aggregated['Reaction']]\n",
    "\n",
    "print 'Peptides with kon < Err(kon)'\n",
    "reacted[reacted['kon']  < reacted['kon Err']]['Peptide']"
   ]
  },
  {
   "cell_type": "code",
   "execution_count": 121,
   "metadata": {
    "collapsed": false
   },
   "outputs": [
    {
     "name": "stdout",
     "output_type": "stream",
     "text": [
      "Peptides with koff < Err(koff)\n"
     ]
    },
    {
     "data": {
      "text/plain": [
       "264     WTHPQFHT\n",
       "115    LQWHPQATK\n",
       "116    LQWHPQAVK\n",
       "129    LQWHPQNGK\n",
       "Name: Peptide, dtype: object"
      ]
     },
     "execution_count": 121,
     "metadata": {},
     "output_type": "execute_result"
    }
   ],
   "source": [
    "print 'Peptides with koff < Err(koff)'\n",
    "reacted[reacted['koff']  < reacted['koff Err']]['Peptide']"
   ]
  },
  {
   "cell_type": "code",
   "execution_count": 123,
   "metadata": {
    "collapsed": false
   },
   "outputs": [
    {
     "name": "stdout",
     "output_type": "stream",
     "text": [
      "Peptides with Kd_best < Err(Kd)\n"
     ]
    },
    {
     "data": {
      "text/plain": [
       "32     LQCHPQAGK\n",
       "129    LQWHPQNGK\n",
       "Name: Peptide, dtype: object"
      ]
     },
     "execution_count": 123,
     "metadata": {},
     "output_type": "execute_result"
    }
   ],
   "source": [
    "print 'Peptides with Kd_best < Err(Kd)'\n",
    "reacted[reacted['Kd best'] < reacted['Kd Err']]['Peptide']"
   ]
  },
  {
   "cell_type": "code",
   "execution_count": 134,
   "metadata": {
    "collapsed": false
   },
   "outputs": [
    {
     "name": "stdout",
     "output_type": "stream",
     "text": [
      "There are 324 peptides in the data set.\n",
      "\n",
      "There are 135 non-reactive petides among them.\n",
      "\n",
      "There are 9 reactive peptides with Kd_best > Kd_fit.\n",
      "For them we report Kd_best as an upper bound of Kd and 1/Kd_best as lower bound of Ka.\n",
      "\n",
      "There are 0 reactive peptides left with Kd_lower < 0.\n",
      "For these peptides we report Kd + Err(Kd) as upper bound of Kd and 1/(Kd + Err(Kd)) as lower bound of Ka.\n",
      "Here are these peptides:\n"
     ]
    },
    {
     "data": {
      "text/html": [
       "<div>\n",
       "<table border=\"1\" class=\"dataframe\">\n",
       "  <thead>\n",
       "    <tr style=\"text-align: right;\">\n",
       "      <th></th>\n",
       "      <th>Peptide</th>\n",
       "      <th>kon</th>\n",
       "      <th>kon Err</th>\n",
       "      <th>koff</th>\n",
       "      <th>koff Err</th>\n",
       "      <th>Kd best</th>\n",
       "      <th>Kd Err</th>\n",
       "      <th>Assoc SNR max</th>\n",
       "      <th>Scale max</th>\n",
       "    </tr>\n",
       "  </thead>\n",
       "  <tbody>\n",
       "  </tbody>\n",
       "</table>\n",
       "</div>"
      ],
      "text/plain": [
       "Empty DataFrame\n",
       "Columns: [Peptide, kon, kon Err, koff, koff Err, Kd best, Kd Err, Assoc SNR max, Scale max]\n",
       "Index: []"
      ]
     },
     "metadata": {},
     "output_type": "display_data"
    }
   ],
   "source": [
    "nonreactive_kd  = 3 * 10**(-5)\n",
    "\n",
    "# create final Kd, lower and upper bounds\n",
    "print 'There are', len(aggregated), 'peptides in the data set.\\n'\n",
    "aggregated['Kd Final Lower'] = aggregated['Kd best'] - aggregated['Kd Err']\n",
    "aggregated['Kd Final']       = aggregated['Kd best']\n",
    "aggregated['Kd Final Upper'] = aggregated['Kd best'] + aggregated['Kd Err']\n",
    "\n",
    "# for non-reactive peptides, Kd_lower = Kd = nonreactive_kd, Kd_upper = inf\n",
    "print 'There are', sum(~aggregated['Reaction']), 'non-reactive petides among them.\\n'\n",
    "aggregated.loc[~aggregated['Reaction'], 'Kd Final Lower'] = nonreactive_kd\n",
    "aggregated.loc[~aggregated['Reaction'], 'Kd Final']       = nonreactive_kd\n",
    "aggregated.loc[~aggregated['Reaction'], 'Kd Final Upper'] = np.inf\n",
    "\n",
    "# for reactive peptides with Kd_best > Kd, set Kd_lower = 0, Kd = Kd_upper = Kd_best\n",
    "to_filter = (aggregated['Kd best'] > aggregated['Kd fit']) & aggregated['Reaction']\n",
    "print 'There are', sum(to_filter), 'reactive peptides with Kd_best > Kd_fit.'\n",
    "print 'For them we report Kd_best as an upper bound of Kd and 1/Kd_best as lower bound of Ka.\\n'\n",
    "aggregated.loc[to_filter, 'Kd Final Lower'] = 0\n",
    "aggregated.loc[to_filter, 'Kd Final']       = aggregated.loc[to_filter, 'Kd best']\n",
    "aggregated.loc[to_filter, 'Kd Final Upper'] = aggregated.loc[to_filter, 'Kd best']\n",
    "    \n",
    "# if Kd_lower < 0, set it to 0. Set Kd and Kd_upper to Kd + Err(Kd)\n",
    "to_filter = (aggregated['Kd Final Lower'] < 0) & aggregated['Reaction']\n",
    "print 'There are', sum(to_filter), 'reactive peptides left with Kd_lower < 0.'\n",
    "print 'For these peptides we report Kd + Err(Kd) as upper bound of Kd and 1/(Kd + Err(Kd)) as lower bound of Ka.'\n",
    "print 'Here are these peptides:'\n",
    "display( aggregated[to_filter][['Peptide',\n",
    "                                'kon',     'kon Err',\n",
    "                                'koff',    'koff Err',\n",
    "                                'Kd best', 'Kd Err',\n",
    "                                'Assoc SNR max', 'Scale max']] )\n",
    "\n",
    "aggregated.loc[to_filter, 'Kd Final Lower'] = 0\n",
    "aggregated.loc[to_filter, 'Kd Final']       = aggregated.loc[to_filter, 'Kd best'] + \\\n",
    "                                              aggregated.loc[to_filter, 'Kd Err']\n",
    "aggregated.loc[to_filter, 'Kd Final Upper'] = aggregated.loc[to_filter, 'Kd best'] + \\\n",
    "                                              aggregated.loc[to_filter, 'Kd Err']\n",
    "    \n",
    "# create Ka, lower and upper bounds\n",
    "aggregated['Ka Final Lower'] = 1 / aggregated['Kd Final Upper']\n",
    "aggregated['Ka Final']       = 1 / aggregated['Kd Final']\n",
    "aggregated['Ka Final Upper'] = 1 / aggregated['Kd Final Lower']"
   ]
  },
  {
   "cell_type": "code",
   "execution_count": 135,
   "metadata": {
    "collapsed": true
   },
   "outputs": [],
   "source": [
    "aggregated.to_csv('00 Aggregated dR RT Streptavidin length 8 and 9.csv', index = False)"
   ]
  },
  {
   "cell_type": "code",
   "execution_count": null,
   "metadata": {
    "collapsed": true
   },
   "outputs": [],
   "source": []
  }
 ],
 "metadata": {
  "kernelspec": {
   "display_name": "Python 2",
   "language": "python",
   "name": "python2"
  },
  "language_info": {
   "codemirror_mode": {
    "name": "ipython",
    "version": 2
   },
   "file_extension": ".py",
   "mimetype": "text/x-python",
   "name": "python",
   "nbconvert_exporter": "python",
   "pygments_lexer": "ipython2",
   "version": "2.7.12"
  }
 },
 "nbformat": 4,
 "nbformat_minor": 0
}
